{
  "nbformat": 4,
  "nbformat_minor": 0,
  "metadata": {
    "kernelspec": {
      "display_name": "Python 3",
      "language": "python",
      "name": "python3"
    },
    "language_info": {
      "codemirror_mode": {
        "name": "ipython",
        "version": 3
      },
      "file_extension": ".py",
      "mimetype": "text/x-python",
      "name": "python",
      "nbconvert_exporter": "python",
      "pygments_lexer": "ipython3",
      "version": "3.8.3"
    },
    "colab": {
      "name": "TextClassificationSKLearnPipeline.ipynb",
      "provenance": [],
      "collapsed_sections": [],
      "toc_visible": true
    }
  },
  "cells": [
    {
      "cell_type": "markdown",
      "metadata": {
        "id": "CpQs9sIpzvxj"
      },
      "source": [
        "# Import Libraries"
      ]
    },
    {
      "cell_type": "code",
      "metadata": {
        "id": "UN9RhCqvbvvh",
        "outputId": "ceab4a7d-d230-4fd4-f726-36d90ff378d0",
        "colab": {
          "base_uri": "https://localhost:8080/"
        }
      },
      "source": [
        "# Installing natural language toolkit\n",
        "!pip install nltk\n",
        "import nltk\n",
        "nltk.download('punkt')\n",
        "nltk.download('wordnet')\n",
        "nltk.download('averaged_perceptron_tagger')"
      ],
      "execution_count": 1,
      "outputs": [
        {
          "output_type": "stream",
          "text": [
            "Requirement already satisfied: nltk in /usr/local/lib/python3.6/dist-packages (3.2.5)\n",
            "Requirement already satisfied: six in /usr/local/lib/python3.6/dist-packages (from nltk) (1.15.0)\n",
            "[nltk_data] Downloading package punkt to /root/nltk_data...\n",
            "[nltk_data]   Package punkt is already up-to-date!\n",
            "[nltk_data] Downloading package wordnet to /root/nltk_data...\n",
            "[nltk_data]   Package wordnet is already up-to-date!\n",
            "[nltk_data] Downloading package averaged_perceptron_tagger to\n",
            "[nltk_data]     /root/nltk_data...\n",
            "[nltk_data]   Package averaged_perceptron_tagger is already up-to-\n",
            "[nltk_data]       date!\n"
          ],
          "name": "stdout"
        },
        {
          "output_type": "execute_result",
          "data": {
            "text/plain": [
              "True"
            ]
          },
          "metadata": {
            "tags": []
          },
          "execution_count": 1
        }
      ]
    },
    {
      "cell_type": "code",
      "metadata": {
        "id": "dJ_aZ1vzHCpP",
        "outputId": "cca85e94-194a-4b99-c0b0-674303f42836",
        "colab": {
          "base_uri": "https://localhost:8080/"
        }
      },
      "source": [
        "import numpy as np\n",
        "import random as rand\n",
        "import pandas as pd\n",
        "import seaborn as sns\n",
        "from scipy import sparse\n",
        "from sklearn.ensemble import BaggingClassifier\n",
        "from sklearn.ensemble import AdaBoostClassifier\n",
        "from sklearn.model_selection import KFold\n",
        "from sklearn.tree import DecisionTreeClassifier\n",
        "from sklearn.naive_bayes import GaussianNB, MultinomialNB\n",
        "from sklearn.linear_model import LogisticRegression\n",
        "from sklearn.svm import LinearSVC\n",
        "from sklearn.linear_model import SGDClassifier\n",
        "from sklearn.feature_extraction.text import CountVectorizer\n",
        "from sklearn.feature_extraction import text\n",
        "from sklearn.feature_extraction.text import TfidfTransformer\n",
        "from sklearn.feature_extraction.text import TfidfVectorizer\n",
        "from sklearn.preprocessing import Normalizer\n",
        "from nltk.corpus import wordnet\n",
        "from nltk import word_tokenize          \n",
        "from nltk.stem import WordNetLemmatizer\n",
        "from nltk.stem import PorterStemmer\n",
        "from sklearn.pipeline import Pipeline\n",
        "from sklearn.model_selection import GridSearchCV\n",
        "from sklearn.feature_selection import SelectKBest, chi2, f_classif, mutual_info_classif, f_regression, mutual_info_regression, SelectPercentile\n",
        "import math as ma\n",
        "import scipy as sp\n",
        "import matplotlib.pyplot as plt\n",
        "import pandas as pd\n",
        "import time\n",
        "print(\"Finished importing!\")"
      ],
      "execution_count": 2,
      "outputs": [
        {
          "output_type": "stream",
          "text": [
            "Finished importing!\n"
          ],
          "name": "stdout"
        }
      ]
    },
    {
      "cell_type": "markdown",
      "metadata": {
        "id": "WVL4Bk2Pz6X9"
      },
      "source": [
        "# Importing Data Sets"
      ]
    },
    {
      "cell_type": "code",
      "metadata": {
        "id": "MAR2XFWPHV1p",
        "outputId": "d45c763e-6b47-4099-c16e-9d2e44f75c36",
        "colab": {
          "base_uri": "https://localhost:8080/"
        }
      },
      "source": [
        "from google.colab import drive\n",
        "drive.mount('/content/myDrive')"
      ],
      "execution_count": 3,
      "outputs": [
        {
          "output_type": "stream",
          "text": [
            "Drive already mounted at /content/myDrive; to attempt to forcibly remount, call drive.mount(\"/content/myDrive\", force_remount=True).\n"
          ],
          "name": "stdout"
        }
      ]
    },
    {
      "cell_type": "code",
      "metadata": {
        "id": "u9d9vGAXHCpU"
      },
      "source": [
        "# df_train = pd.read_csv('/content/myDrive/My Drive/ECSE_551_Machine_Learning/train.csv')\n",
        "# df_test = pd.read_csv('/content/myDrive/My Drive/ECSE_551_Machine_Learning/test.csv')\n",
        "# df_train = pd.read_csv('C:/Users/AlexG35/Desktop/GitHub/TextClassification/train.csv')\n",
        "# df_test = pd.read_csv('C:/Users/AlexG35/Desktop/GitHub/TextClassification/test.csv')\n",
        "df_train = pd.read_csv('/content/myDrive/My Drive/ECSE_551_Machine_Learning/TextClassification/train.csv')\n",
        "df_test = pd.read_csv('/content/myDrive/My Drive/ECSE_551_Machine_Learning/TextClassification/test.csv')\n",
        "# df_train = pd.read_csv('https://raw.githubusercontent.com/jhu960213/TextClassification/master/train.csv?token=AEZTLS4FRLKMK3IW2NBIKR27TQ7K6')\n",
        "# df_test = ped.read_csv('https://raw.githubusercontent.com/jhu960213/TextClassification/master/test.csv?token=AEZTLS6ZNQ6KBUPIGHUS7TS7TRBXQ')\n",
        "# df_train = pd.read_csv('C:/Users/karan/Desktop/Masters/Codes/CodeRemote/GitHub_codes/Under_Grad_mSpice/DP_teams/TextClassification/train.csv')\n",
        "# df_test = pd.read_csv('C:/Users/karan/Desktop/Masters/Codes/CodeRemote/GitHub_codes/Under_Grad_mSpice/DP_teams/TextClassification/test.csv')\n"
      ],
      "execution_count": 4,
      "outputs": []
    },
    {
      "cell_type": "markdown",
      "metadata": {
        "id": "4Oj7hCuQ0EXl"
      },
      "source": [
        "# Sample Reduction"
      ]
    },
    {
      "cell_type": "code",
      "metadata": {
        "id": "qLLYdYUqnr5K"
      },
      "source": [
        "# Will use the copies of the data frame dont want to change our original data frame objects when we do processing down the line\n",
        "training_set = df_train\n",
        "test_set = df_test[\"body\"]"
      ],
      "execution_count": 5,
      "outputs": []
    },
    {
      "cell_type": "code",
      "metadata": {
        "id": "FlF4n5vzHCpa"
      },
      "source": [
        "# Removes samples from the training set until only remaining_samples samples remain.\n",
        "# the training set in is a pandas data frame object\n",
        "def sampleReduction(training_set, remaining_samples=None):\n",
        "  if remaining_samples == None:\n",
        "    totalSamples = len(training_set)\n",
        "    original_training_set = training_set.sample(totalSamples).reset_index(drop=True)\n",
        "    return original_training_set\n",
        "  else:\n",
        "    reduced_training_set = training_set.sample(remaining_samples).reset_index(drop=True)\n",
        "    return reduced_training_set"
      ],
      "execution_count": 6,
      "outputs": []
    },
    {
      "cell_type": "code",
      "metadata": {
        "id": "_t99paFMHCpc",
        "outputId": "df4329da-5c67-4137-a30f-25584e5e8b90",
        "colab": {
          "base_uri": "https://localhost:8080/"
        }
      },
      "source": [
        "#--------Restrict the Number of Training Samples for Testing Purposes**---------\n",
        "print(\"Original number of training samples: \" + str(len(training_set)))\n",
        "training_set = sampleReduction(training_set)\n",
        "print(\"Reduced number of training samples: \" + str(len(training_set)))\n",
        "#--------Restrict the Number of Training Samples for Testing Purposes**---------"
      ],
      "execution_count": 7,
      "outputs": [
        {
          "output_type": "stream",
          "text": [
            "Original number of training samples: 11582\n",
            "Reduced number of training samples: 11582\n"
          ],
          "name": "stdout"
        }
      ]
    },
    {
      "cell_type": "code",
      "metadata": {
        "id": "4sw7lvO8HCpX",
        "outputId": "a3bd2789-0570-4a7a-86d7-0d65fc868486",
        "colab": {
          "base_uri": "https://localhost:8080/"
        }
      },
      "source": [
        "# Fixing the seed of the rand\n",
        "# np.random.seed(5)\n",
        "\n",
        "# Splitting our data into X and Y\n",
        "training_set.sample(frac=1)\n",
        "print(\"Finished shuffling our data sets\")\n",
        "Xtraining = training_set[\"body\"]\n",
        "ylabels = training_set[\"subreddit\"]\n",
        "\n",
        "print(f\"Xtraining shape: {Xtraining.shape}\")\n",
        "print(f\"ylabels shape: {Xtraining.shape}\")"
      ],
      "execution_count": 8,
      "outputs": [
        {
          "output_type": "stream",
          "text": [
            "Finished shuffling our data sets\n",
            "Xtraining shape: (11582,)\n",
            "ylabels shape: (11582,)\n"
          ],
          "name": "stdout"
        }
      ]
    },
    {
      "cell_type": "markdown",
      "metadata": {
        "id": "rw4qW-E06hh8"
      },
      "source": [
        "# Visualization of Data Sets"
      ]
    },
    {
      "cell_type": "code",
      "metadata": {
        "id": "FXBYE8_j6mjs"
      },
      "source": [
        "# Prints out however many rows of our data\n",
        "def printTrainingSet(X,numRows):\n",
        "  print(f\"Visualizing our sample texts:\\n {X[:numRows]}\")"
      ],
      "execution_count": 9,
      "outputs": []
    },
    {
      "cell_type": "code",
      "metadata": {
        "id": "dQ5PcRBV7cs_",
        "outputId": "20d64e57-2caa-4f2d-f478-9fa045567fd1",
        "colab": {
          "base_uri": "https://localhost:8080/"
        }
      },
      "source": [
        "printTrainingSet(Xtraining, 10)"
      ],
      "execution_count": 10,
      "outputs": [
        {
          "output_type": "stream",
          "text": [
            "Visualizing our sample texts:\n",
            " 0    Epic is really hypocrite too. If you play Rock...\n",
            "1    Please tell me them.  I have been looking for ...\n",
            "2    Might just be me but does anyone else find it ...\n",
            "3    My advice is to avoid SAS  it's a terrible sys...\n",
            "4    Wait  so is this all the power of the X  the s...\n",
            "5    Hi everyone.  I'm going to be a freshman at th...\n",
            "6    Off the top of my head I would suggest Godot o...\n",
            "7    I find when I'm looking for non-dnd players ev...\n",
            "8    The most fundamental mechanical change is how ...\n",
            "9    Well there will certainly be some high quality...\n",
            "Name: body, dtype: object\n"
          ],
          "name": "stdout"
        }
      ]
    },
    {
      "cell_type": "code",
      "metadata": {
        "id": "26BlUFfo7c4M",
        "outputId": "547fc4e6-e814-4ccc-8374-190d66571ade",
        "colab": {
          "base_uri": "https://localhost:8080/",
          "height": 693
        }
      },
      "source": [
        "# print(ylabels[0:8])\n",
        "# Displays the distribution of our labels \n",
        "plt.figure(figsize=(15, 10))\n",
        "sns.countplot(ylabels)\n",
        "plt.title(\"Distribution of Labels\")\n",
        "plt.xlabel(\"Labels\")\n",
        "plt.ylabel(\"Count\")\n",
        "# plt.xticks(np.arange(8), ylabels, rotation=\"horizontal\")"
      ],
      "execution_count": 11,
      "outputs": [
        {
          "output_type": "stream",
          "text": [
            "/usr/local/lib/python3.6/dist-packages/seaborn/_decorators.py:43: FutureWarning: Pass the following variable as a keyword arg: x. From version 0.12, the only valid positional argument will be `data`, and passing other arguments without an explicit keyword will result in an error or misinterpretation.\n",
            "  FutureWarning\n"
          ],
          "name": "stderr"
        },
        {
          "output_type": "execute_result",
          "data": {
            "text/plain": [
              "Text(0, 0.5, 'Count')"
            ]
          },
          "metadata": {
            "tags": []
          },
          "execution_count": 11
        },
        {
          "output_type": "display_data",
          "data": {
            "image/png": "[encoded data removed]",
            "text/plain": [
              "<Figure size 1080x720 with 1 Axes>"
            ]
          },
          "metadata": {
            "tags": [],
            "needs_background": "light"
          }
        }
      ]
    },
    {
      "cell_type": "markdown",
      "metadata": {
        "id": "-Xm2e3Jn0Mcp"
      },
      "source": [
        "# Data Preprocessing"
      ]
    },
    {
      "cell_type": "markdown",
      "metadata": {
        "id": "OWw88KJ84h_V"
      },
      "source": [
        "Our own data preprocessing functions"
      ]
    },
    {
      "cell_type": "code",
      "metadata": {
        "id": "dbHNCP2s56Jl",
        "cellView": "form"
      },
      "source": [
        "#@title Dictionary of irrelevant words.\n",
        "# Dictionary of irrelevant words.\n",
        "# Returns true if the *LOWERCASE* word is irrelevant, else returns false.\n",
        "def isIrrelevant (word):\n",
        "  switcher = {\n",
        "    # All pronouns and associated words\n",
        "    \"i\": True,\n",
        "    \"i'll\": True,\n",
        "    \"i'd\": True,\n",
        "    \"i'm\": True,\n",
        "    \"i've\": True,\n",
        "    \"ive\": True,\n",
        "    \"me\": True,\n",
        "    \"myself\": True,\n",
        "    \"you\": True,\n",
        "    \"you'll\": True,\n",
        "    \"you'd\": True,\n",
        "    \"you're\": True,\n",
        "    \"you've\": True,\n",
        "    \"yourself\": True,\n",
        "    \"he\": True,\n",
        "    \"he'll\": True,\n",
        "    \"he'd\": True,\n",
        "    \"he's\": True,\n",
        "    \"him\": True,\n",
        "    \"she\": True,\n",
        "    \"she'll\": True,\n",
        "    \"she'd\": True,\n",
        "    \"she's\": True,\n",
        "    \"her\": True,\n",
        "    \"it\": True,\n",
        "    \"it'll\": True,\n",
        "    \"it'd\": True,\n",
        "    \"it's\": True,\n",
        "    \"itself\": True,\n",
        "    \"oneself\": True,\n",
        "    \"we\": True,\n",
        "    \"we'll\": True,\n",
        "    \"we'd\": True,\n",
        "    \"we're\": True,\n",
        "    \"we've\": True,\n",
        "    \"us\": True,\n",
        "    \"ourselves\": True,\n",
        "    \"they\": True,\n",
        "    \"they'll\": True,\n",
        "    \"they'd\": True,\n",
        "    \"they're\": True,\n",
        "    \"they've\": True,\n",
        "    \"them\": True,\n",
        "    \"themselves\": True,            \n",
        "    \"everyone\": True,\n",
        "    \"everyone's\": True,\n",
        "    \"everybody\": True,\n",
        "    \"everybody's\": True,\n",
        "    \"someone\": True,\n",
        "    \"someone's\": True,\n",
        "    \"somebody\": True,\n",
        "    \"somebody's\": True,\n",
        "    \"nobody\": True,\n",
        "    \"nobody's\": True,\n",
        "    \"anyone\": True,\n",
        "    \"anyone's\": True,\n",
        "    \"everything\": True,\n",
        "    \"everything's\": True,\n",
        "    \"something\": True,\n",
        "    \"something's\": True,\n",
        "    \"nothing\": True,\n",
        "    \"nothing's\": True,\n",
        "    \"anything\": True,\n",
        "    \"anything's\": True,\n",
        "    # All determiners and associated words\n",
        "    \"a\": True,\n",
        "    \"an\": True,\n",
        "    \"the\": True,\n",
        "    \"this\": True,\n",
        "    \"that\": True,\n",
        "    \"that's\": True,\n",
        "    \"these\": True,\n",
        "    \"those\": True,\n",
        "    \"my\": True,\n",
        "    #\"mine\": True,   #Omitted since mine can refer to something else\n",
        "    \"your\": True,\n",
        "    \"yours\": True,\n",
        "    \"his\": True,\n",
        "    \"hers\": True,\n",
        "    \"its\": True,\n",
        "    \"our\": True,\n",
        "    \"ours\": True,\n",
        "    \"own\": True,\n",
        "    \"their\": True,\n",
        "    \"theirs\": True,\n",
        "    \"few\": True,\n",
        "    \"much\": True,\n",
        "    \"many\": True,\n",
        "    \"lot\": True,\n",
        "    \"lots\": True,\n",
        "    \"some\": True,\n",
        "    \"any\": True,\n",
        "    \"enough\": True,\n",
        "    \"all\": True,\n",
        "    \"both\": True,\n",
        "    \"half\": True,\n",
        "    \"either\": True,\n",
        "    \"neither\": True,\n",
        "    \"each\": True,\n",
        "    \"every\": True,\n",
        "    \"certain\": True,\n",
        "    \"other\": True,\n",
        "    \"another\": True,\n",
        "    \"such\": True,\n",
        "    \"several\": True,\n",
        "    \"multiple\": True,\n",
        "    # \"what\": True,    #Dealt with later on\n",
        "    \"rather\": True,\n",
        "    \"quite\": True,\n",
        "    # All prepositions\n",
        "    \"aboard\": True,\n",
        "    \"about\": True,\n",
        "    \"above\": True,\n",
        "    \"across\": True,\n",
        "    \"after\": True,\n",
        "    \"against\": True,\n",
        "    \"along\": True,\n",
        "    \"amid\": True,\n",
        "    \"amidst\": True,\n",
        "    \"among\": True,\n",
        "    \"amongst\": True,\n",
        "    \"anti\": True,\n",
        "    \"around\": True,\n",
        "    \"as\": True,\n",
        "    \"at\": True,\n",
        "    \"away\": True,\n",
        "    \"before\": True,\n",
        "    \"behind\": True,\n",
        "    \"below\": True,\n",
        "    \"beneath\": True,\n",
        "    \"beside\": True,\n",
        "    \"besides\": True,\n",
        "    \"between\": True,\n",
        "    \"beyond\": True,\n",
        "    \"but\": True,\n",
        "    \"by\": True,\n",
        "    \"concerning\": True,\n",
        "    \"considering\": True,\n",
        "    \"despite\": True,\n",
        "    \"down\": True,\n",
        "    \"during\": True,\n",
        "    \"except\": True,\n",
        "    \"excepting\": True,\n",
        "    \"excluding\": True,\n",
        "    \"far\": True,\n",
        "    \"following\": True,\n",
        "    \"for\": True,\n",
        "    \"from\": True,\n",
        "    \"here\": True,\n",
        "    \"here's\": True,\n",
        "    \"in\": True,\n",
        "    \"inside\": True,\n",
        "    \"into\": True,\n",
        "    \"left\": True,\n",
        "    \"like\": True,\n",
        "    \"minus\": True,\n",
        "    \"near\": True,\n",
        "    \"of\": True,\n",
        "    \"off\": True,\n",
        "    \"on\": True,\n",
        "    \"onto\": True,\n",
        "    \"opposite\": True,\n",
        "    \"out\": True,\n",
        "    \"outside\": True,\n",
        "    \"over\": True,\n",
        "    \"past\": True,\n",
        "    \"per\": True,\n",
        "    \"plus\": True,\n",
        "    \"regarding\": True,\n",
        "    \"right\": True,\n",
        "    #\"round\": True,   #Omitted\n",
        "    #\"save\": True,    #Omitted\n",
        "    \"since\": True,\n",
        "    \"than\": True,\n",
        "    \"there\": True,\n",
        "    \"there's\": True,\n",
        "    \"through\": True,\n",
        "    \"to\": True,\n",
        "    \"toward\": True,\n",
        "    \"towards\": True,\n",
        "    \"under\": True,\n",
        "    \"underneath\": True,\n",
        "    \"unlike\": True,\n",
        "    \"until\": True,\n",
        "    \"up\": True,\n",
        "    \"upon\": True,\n",
        "    \"versus\": True,\n",
        "    \"via\": True,\n",
        "    \"with\": True,\n",
        "    \"within\": True,\n",
        "    \"without\": True,\n",
        "    # Irrelevant verbs\n",
        "    \"may\": True,\n",
        "    \"might\": True,\n",
        "    \"will\": True,\n",
        "    \"won't\": True,\n",
        "    \"would\": True,\n",
        "    \"wouldn't\": True,\n",
        "    \"can\": True,\n",
        "    \"can't\": True,\n",
        "    \"cannot\": True,\n",
        "    \"could\": True,\n",
        "    \"couldn't\": True,\n",
        "    \"should\": True,\n",
        "    \"shouldn't\": True,\n",
        "    \"must\": True,\n",
        "    \"must've\": True,\n",
        "    \"be\": True,\n",
        "    \"being\": True,\n",
        "    \"been\": True,\n",
        "    \"am\": True,\n",
        "    \"are\": True,\n",
        "    \"aren't\": True,\n",
        "    \"ain't\": True,\n",
        "    \"is\": True,\n",
        "    \"isn't\": True,\n",
        "    \"was\": True,\n",
        "    \"wasn't\": True,\n",
        "    \"were\": True,\n",
        "    \"weren't\": True,\n",
        "    \"do\": True,\n",
        "    \"doing\": True,\n",
        "    \"don't\": True,\n",
        "    \"does\": True,\n",
        "    \"doesn't\": True,\n",
        "    \"did\": True,\n",
        "    \"didn't\": True,\n",
        "    \"done\": True,\n",
        "    \"have\": True,\n",
        "    \"haven't\": True,\n",
        "    \"having\": True,\n",
        "    \"has\": True,\n",
        "    \"hasn't\": True,\n",
        "    \"had\": True,\n",
        "    \"hadn't\": True,\n",
        "    \"get\": True,\n",
        "    \"getting\": True,\n",
        "    \"gets\": True,\n",
        "    \"got\": True,\n",
        "    \"gotten\": True,\n",
        "    \"go\": True,\n",
        "    \"going\": True,\n",
        "    \"gonna\": True,\n",
        "    \"goes\": True,\n",
        "    \"went\": True,\n",
        "    \"gone\": True,\n",
        "    \"make\": True,\n",
        "    \"making\": True,\n",
        "    \"makes\": True,\n",
        "    \"made\": True,\n",
        "    \"take\": True,\n",
        "    \"taking\": True,\n",
        "    \"takes\": True,\n",
        "    \"took\": True,\n",
        "    \"taken\": True,\n",
        "    \"need\": True,\n",
        "    \"needing\": True,\n",
        "    \"needs\": True,\n",
        "    \"needed\": True,\n",
        "    \"use\": True,\n",
        "    \"using\": True,\n",
        "    \"uses\": True,\n",
        "    \"used\": True,\n",
        "    \"want\": True,\n",
        "    \"wanna\": True,\n",
        "    \"wanting\": True,\n",
        "    \"wants\": True,\n",
        "    \"let\": True,\n",
        "    \"lets\": True,\n",
        "    \"letting\": True,\n",
        "    \"let's\": True,\n",
        "    \"suppose\": True,\n",
        "    \"supposing\": True,\n",
        "    \"supposes\": True,\n",
        "    \"supposed\": True,\n",
        "    \"seem\": True,\n",
        "    \"seeming\": True,\n",
        "    \"seems\": True,\n",
        "    \"seemed\": True,\n",
        "    \"say\": True,\n",
        "    \"saying\": True,\n",
        "    \"says\": True,\n",
        "    \"said\": True,\n",
        "    \"know\": True,\n",
        "    \"knowing\": True,\n",
        "    \"knows\": True,\n",
        "    \"knew\": True,\n",
        "    \"known\": True,\n",
        "    \"look\": True,\n",
        "    \"looking\": True,\n",
        "    \"looked\": True,\n",
        "    \"think\": True,\n",
        "    \"thinking\": True,\n",
        "    \"thinks\": True,\n",
        "    \"thought\": True,\n",
        "    \"feel\": True,\n",
        "    \"feels\": True,\n",
        "    \"felt\": True,\n",
        "    \"based\": True,\n",
        "    \"put\": True,\n",
        "    \"puts\": True,\n",
        "    \"begin\": True,\n",
        "    \"began\": True,\n",
        "    \"begun\": True,\n",
        "    \"begins\": True,\n",
        "    \"wanted\": True,\n",
        "    \"like\": True,  \n",
        "    \"feel\": True,\n",
        "    \"believe\": True,\n",
        "    \"understand\": True,\n",
        "    \"shall\": True,\n",
        "    \"regard\": True,\n",
        "    \"regards\": True,\n",
        "    \"regarding\": True,\n",
        "    # Question words and associated words\n",
        "    \"who\": True,\n",
        "    \"who's\": True,\n",
        "    \"who've\": True,\n",
        "    \"who'd\": True,\n",
        "    \"whoever\": True,\n",
        "    \"whoever's\": True,\n",
        "    \"whom\": True,\n",
        "    \"whomever\": True,\n",
        "    \"whomever's\": True,\n",
        "    \"whose\": True,\n",
        "    \"whosever\": True,\n",
        "    \"whosever's\": True,\n",
        "    \"when\": True,\n",
        "    \"whenever\": True,\n",
        "    \"which\": True,\n",
        "    \"whichever\": True,\n",
        "    \"where\": True,\n",
        "    \"where's\": True,\n",
        "    \"where'd\": True,\n",
        "    \"wherever\": True,\n",
        "    \"why\": True,\n",
        "    \"why's\": True,\n",
        "    \"why'd\": True,\n",
        "    \"whyever\": True,\n",
        "    \"what\": True,\n",
        "    \"what's\": True,\n",
        "    \"whatever\": True,\n",
        "    \"whence\": True,\n",
        "    \"how\": True,\n",
        "    \"how's\": True,\n",
        "    \"how'd\": True,\n",
        "    \"however\": True,\n",
        "    \"whether\": True,\n",
        "    \"whatsoever\": True,\n",
        "    # Connector words and irrelevant adverbs\n",
        "    \"and\": True,\n",
        "    \"or\": True,\n",
        "    \"not\": True,\n",
        "    \"because\": True,\n",
        "    \"also\": True,\n",
        "    \"always\": True,\n",
        "    \"never\": True,\n",
        "    \"only\": True,\n",
        "    \"really\": True,\n",
        "    \"very\": True,\n",
        "    \"greatly\": True,\n",
        "    \"extremely\": True,\n",
        "    \"somewhat\": True,\n",
        "    \"no\": True,\n",
        "    \"nope\": True,\n",
        "    \"nah\": True,\n",
        "    \"yes\": True,\n",
        "    \"yep\": True,\n",
        "    \"yeh\": True,\n",
        "    \"yeah\": True,\n",
        "    \"maybe\": True,\n",
        "    \"perhaps\": True,\n",
        "    \"more\": True,\n",
        "    \"most\": True,\n",
        "    \"less\": True,\n",
        "    \"least\": True,\n",
        "    \"good\": True,\n",
        "    \"great\": True,\n",
        "    \"well\": True,\n",
        "    \"better\": True,\n",
        "    \"best\": True,\n",
        "    \"bad\": True,\n",
        "    \"worse\": True,\n",
        "    \"worst\": True,\n",
        "    \"too\": True,\n",
        "    \"thru\": True,\n",
        "    \"though\": True,\n",
        "    \"although\": True,\n",
        "    \"yet\": True,\n",
        "    \"already\": True,\n",
        "    \"then\": True,\n",
        "    \"even\": True,\n",
        "    \"now\": True,\n",
        "    \"sometimes\": True,\n",
        "    \"still\": True,\n",
        "    \"together\": True,\n",
        "    \"altogether\": True,\n",
        "    \"entirely\": True,\n",
        "    \"fully\": True,\n",
        "    \"entire\": True,\n",
        "    \"whole\": True,\n",
        "    \"completely\": True,\n",
        "    \"utterly\": True,\n",
        "    \"seemingly\": True,\n",
        "    \"apparently\": True,\n",
        "    \"clearly\": True,\n",
        "    \"obviously\": True,\n",
        "    \"actually\": True,\n",
        "    \"actual\": True,\n",
        "    \"usually\": True,\n",
        "    \"usual\": True,\n",
        "    \"literally\": True,\n",
        "    \"honestly\": True,\n",
        "    \"absolutely\": True,\n",
        "    \"definitely\": True,\n",
        "    \"generally\": True,\n",
        "    \"totally\": True,\n",
        "    \"finally\": True,\n",
        "    \"basically\": True,\n",
        "    \"essentially\": True,\n",
        "    \"fundamentally\": True,\n",
        "    \"automatically\": True,\n",
        "    \"immediately\": True,\n",
        "    \"necessarily\": True,\n",
        "    \"primarily\": True,\n",
        "    \"normally\": True,\n",
        "    \"perfectly\": True,\n",
        "    \"constantly\": True,\n",
        "    \"particularly\": True,\n",
        "    \"eventually\": True,\n",
        "    \"hopefully\": True,\n",
        "    \"mainly\": True,\n",
        "    \"typically\": True,\n",
        "    \"specifically\": True,\n",
        "    \"differently\": True,\n",
        "    \"appropriately\": True,\n",
        "    \"plenty\": True,\n",
        "    \"certainly\": True,\n",
        "    \"unfortunately\": True,\n",
        "    \"ultimately\": True,\n",
        "    \"unlikely\": True,\n",
        "    \"likely\": True,\n",
        "    \"potentially\": True,\n",
        "    \"fortunately\": True,\n",
        "    \"personally\": True,\n",
        "    \"directly\": True,\n",
        "    \"indirectly\": True,\n",
        "    \"nearly\": True,\n",
        "    \"closely\": True,\n",
        "    \"slightly\": True,\n",
        "    \"probably\": True,\n",
        "    \"possibly\": True,\n",
        "    \"especially\": True,\n",
        "    \"frequently\": True,\n",
        "    \"thankfully\": True,\n",
        "    \"often\": True,\n",
        "    \"oftentimes\": True,\n",
        "    \"seldom\": True,\n",
        "    \"rarely\": True,\n",
        "    \"sure\": True,\n",
        "    \"while\": True,\n",
        "    \"whilst\": True,\n",
        "    \"able\": True,\n",
        "    \"unable\": True,\n",
        "    \"else\": True,\n",
        "    \"ever\": True,\n",
        "    \"once\": True,\n",
        "    \"twice\": True,\n",
        "    \"thrice\": True,\n",
        "    \"almost\": True,\n",
        "    \"again\": True,\n",
        "    \"instead\": True,\n",
        "    \"next\": True,\n",
        "    \"previous\": True,\n",
        "    \"unless\": True,\n",
        "    \"somehow\": True,\n",
        "    \"anyhow\": True,\n",
        "    \"anywhere\": True,\n",
        "    \"somewhere\": True,\n",
        "    \"everywhere\": True,\n",
        "    \"elsewhere\": True,\n",
        "    \"anytime\": True,\n",
        "    \"nowhere\": True,\n",
        "    \"further\": True,\n",
        "    \"anymore\": True,\n",
        "    \"later\": True,\n",
        "    \"ago\": True,\n",
        "    \"ahead\": True,\n",
        "    \"just\": True,\n",
        "    \"same\": True,\n",
        "    \"different\": True,\n",
        "    \"big\": True,\n",
        "    \"small\": True,\n",
        "    \"little\": True,\n",
        "    \"tiny\": True,\n",
        "    \"large\": True,\n",
        "    \"huge\": True,\n",
        "    \"pretty\": True,\n",
        "    \"mostly\": True,\n",
        "    \"anyway\": True,\n",
        "    \"anyways\": True,\n",
        "    \"otherwise\": True,\n",
        "    \"regardless\": True,\n",
        "    \"needless\": True,\n",
        "    \"throughout\": True,\n",
        "    \"additionally\": True,\n",
        "    \"moreover\": True,\n",
        "    \"furthermore\": True,\n",
        "    \"therefore\": True,\n",
        "    \"thereof\": True,\n",
        "    \"meanwhile\": True,\n",
        "    \"likewise\": True,\n",
        "    \"afterwards\": True,\n",
        "    \"nice\": True,\n",
        "    \"nicer\": True,\n",
        "    \"nicest\": True,\n",
        "    \"glad\": True,\n",
        "    \"fine\": True,\n",
        "    # Irrelevant nouns\n",
        "    \"thing\": True,\n",
        "    \"thing's\": True,\n",
        "    \"things\": True,\n",
        "    \"stuff\": True,\n",
        "    \"other's\": True,\n",
        "    \"others\": True,\n",
        "    \"another's\": True,\n",
        "    \"total\": True,\n",
        "    \"true\": True,\n",
        "    \"false\": True,\n",
        "    \"none\": True,\n",
        "    \"way\": True,\n",
        "    \"kind\": True,\n",
        "    # Lettered numbers and order\n",
        "    \"zero\": True,\n",
        "    \"zeros\": True,\n",
        "    \"zeroes\": True,\n",
        "    \"one\": True,\n",
        "    \"ones\": True,\n",
        "    \"two\": True,\n",
        "    \"three\": True,\n",
        "    \"four\": True,\n",
        "    \"five\": True,\n",
        "    \"six\": True, \n",
        "    \"seven\": True,\n",
        "    \"eight\": True,\n",
        "    \"nine\": True,\n",
        "    \"ten\": True,\n",
        "    \"twenty\": True,\n",
        "    \"thirty\": True,\n",
        "    \"forty\": True,\n",
        "    \"fifty\": True,\n",
        "    \"sixty\": True,\n",
        "    \"seventy\": True,\n",
        "    \"eighty\": True,\n",
        "    \"ninety\": True,\n",
        "    \"hundred\": True,\n",
        "    \"hundreds\": True,\n",
        "    \"thousand\": True,\n",
        "    \"thousands\": True,\n",
        "    \"million\": True,\n",
        "    \"millions\": True,\n",
        "    \"first\": True,\n",
        "    \"last\": True,\n",
        "    \"second\": True,\n",
        "    \"third\": True,\n",
        "    \"fourth\": True,\n",
        "    \"fifth\": True,\n",
        "    \"sixth\": True,\n",
        "    \"seventh\": True,\n",
        "    \"eigth\": True,\n",
        "    \"ninth\": True,\n",
        "    \"tenth\": True,\n",
        "    \"firstly\": True,\n",
        "    \"secondly\": True,\n",
        "    \"thirdly\": True,\n",
        "    \"lastly\": True,\n",
        "    # Greetings and slang\n",
        "    \"hello\": True,\n",
        "    \"hi\": True,\n",
        "    \"hey\": True,\n",
        "    \"sup\": True,\n",
        "    \"yo\": True,\n",
        "    \"greetings\": True,\n",
        "    \"please\": True,\n",
        "    \"okay\": True,\n",
        "    \"ok\": True,\n",
        "    \"y'all\": True,\n",
        "    \"lol\": True,\n",
        "    \"rofl\": True,\n",
        "    \"thank\": True,\n",
        "    \"thanks\": True,\n",
        "    \"alright\": True,\n",
        "    \"kinda\": True,\n",
        "    \"dont\": True,\n",
        "    \"sorry\": True,\n",
        "    \"idk\": True,\n",
        "    \"tldr\": True,\n",
        "    \"tl\": True,\n",
        "    \"dr\": True,  #This means that dr (doctor) is a bad feature because of tl;dr\n",
        "    \"tbh\": True,\n",
        "    \"dude\": True,\n",
        "    \"dudes\": True,\n",
        "    \"tho\": True,\n",
        "    \"aka\": True,\n",
        "    \"plz\": True,\n",
        "    \"pls\": True,\n",
        "    \"bit\": True,\n",
        "    \"don\": True,\n",
        "    \"afaik\": True,\n",
        "    \"wouldn\": True,\n",
        "    \"wouldnt\": True,\n",
        "    \"doesnt\": True,\n",
        "    \"doesn\": True,\n",
        "    \"didn\": True, \n",
        "    \"didnt\": True,\n",
        "    \"haven\": True,\n",
        "    \"havent\": True,\n",
        "    \"ugh\": True,\n",
        "    \"legit\": True,\n",
        "    \"guess\": True,\n",
        "    \"bullshit\": True,\n",
        "    \"yup\": True,\n",
        "    \"yep\": True,\n",
        "    \"haha\": True,\n",
        "    \"hahaha\": True,\n",
        "    \"hahahaha\": True,\n",
        "    \"hehe\": True,\n",
        "    \"hehehe\": True,\n",
        "    \"till\": True,\n",
        "    \"sure\": True,\n",
        "    \"soon\": True,\n",
        "    \"nah\": True,\n",
        "    \"meh\": True,\n",
        "    \"imo\": True,\n",
        "    \"imho\": True,\n",
        "    \"ill\": True,\n",
        "    \"hella\": True,\n",
        "    \"chill\": True,\n",
        "    \"btw\": True,\n",
        "    \"bro\": True,\n",
        "\n",
        "    # Miscellaneous\n",
        "    \"www\": True,\n",
        "    \"https\": True,\n",
        "    \"http\": True,\n",
        "    \"com\": True,\n",
        "    \"etc\": True,\n",
        "    \"html\": True,\n",
        "    \"reddit\": True,\n",
        "    \"subreddit\": True,\n",
        "    \"subreddits\": True,\n",
        "    \"comments\": True,\n",
        "    \"reply\": True,\n",
        "    \"replies\": True,\n",
        "    \"thread\": True,\n",
        "    \"threads\": True,\n",
        "    \"post\": True,\n",
        "    \"posts\": True,\n",
        "    \"website\": True,\n",
        "    \"websites\": True,\n",
        "    \"web site\": True,\n",
        "    \"web sites\": True\n",
        "  }\n",
        "  return switcher.get(word,False)"
      ],
      "execution_count": 12,
      "outputs": []
    },
    {
      "cell_type": "code",
      "metadata": {
        "id": "QbGVnR_R4S_1",
        "cellView": "form"
      },
      "source": [
        "#@title Dictionary of relevant characters in a word.\n",
        "#@ Dictionary of relevant characters in a word.\n",
        "# Dictionary of relevant characters in a word.\n",
        "# Returns true if the character is a *LOWERCASE* letter, number or accepted \n",
        "# special character, else returns false.\n",
        "def isAlphanumeric (char):\n",
        "  switcher = {\n",
        "      \n",
        "    'ア': True,\n",
        "    'ニ': True,\n",
        "    'メ': True,\n",
        "    'ら': True,\n",
        "    'か': True,\n",
        "    'い': True,\n",
        "    '上': True,\n",
        "    '手': True,\n",
        "    'の': True,\n",
        "    '高': True,\n",
        "    '木': True,\n",
        "    'さ': True,\n",
        "    'ん': True,\n",
        "    '一': True,\n",
        "    '発': True,\n",
        "    'ギ': True,\n",
        "    'ャ':True,\n",
        "    'グ': True,\n",
        "    '仲': True,\n",
        "    'が': True,\n",
        "    '良': True,\n",
        "    'く': True,\n",
        "    'て': True,\n",
        "    '羨': True,\n",
        "    'ま': True,\n",
        "    'し': True,\n",
        "    'い': True,\n",
        "    'わ': True,\n",
        "    '天': True, \n",
        "    '丼': True,\n",
        "    '如': True,\n",
        "    '意': True, \n",
        "    '金': True,\n",
        "    '箍':True,\n",
        "    '棒': True,\n",
        "    '虹': True,  \n",
        "    '色': True,\n",
        "    '西': True,  \n",
        "    '游': True,\n",
        "    '记': True,\n",
        "    'か': True, \n",
        "    'a': True,\n",
        "    'b': True,\n",
        "    'c': True,\n",
        "    'd': True,\n",
        "    'e': True,\n",
        "    'f': True,\n",
        "    'g': True,\n",
        "    'h': True,\n",
        "    'i': True,\n",
        "    'j': True,\n",
        "    'k': True,\n",
        "    'l': True,\n",
        "    'm': True,\n",
        "    'n': True,\n",
        "    'o': True,\n",
        "    'p': True,\n",
        "    'q': True,\n",
        "    'r': True,\n",
        "    's': True,\n",
        "    't': True,\n",
        "    'u': True,\n",
        "    'v': True,\n",
        "    'w': True,\n",
        "    'x': True,\n",
        "    'y': True,\n",
        "    'z': True,\n",
        "    '0': True,\n",
        "    '1': True,\n",
        "    '2': True,\n",
        "    '3': True,\n",
        "    '4': True,\n",
        "    '5': True,\n",
        "    '6': True,\n",
        "    '7': True,\n",
        "    '8': True,\n",
        "    '9': True,\n",
        "    '\\'': True,   #Apostrophe\n",
        "    '$': True,\n",
        "    #'@': True,    #For email addresses\n",
        "    #'_': True, \n",
        "    '-': True,\n",
        "    #'/': True     #For websites\n",
        "  }\n",
        "  return switcher.get(char,False)"
      ],
      "execution_count": 13,
      "outputs": []
    },
    {
      "cell_type": "code",
      "metadata": {
        "id": "xBPozFc53-VG"
      },
      "source": [
        "# Joins the characters in a list of characters together to form a string.\n",
        "def mergeCharacters(char_array):\n",
        "  # Intialize string to \"\"\n",
        "  s = \"\"\n",
        "\n",
        "  return(s.join(char_array))"
      ],
      "execution_count": 14,
      "outputs": []
    },
    {
      "cell_type": "code",
      "metadata": {
        "id": "bksvBA1J3-YX"
      },
      "source": [
        "# Returns true if character is a number, false otherwise.\n",
        "def isNumber(char):\n",
        "  switcher = {\n",
        "    '0': True,\n",
        "    '1': True,\n",
        "    '2': True,\n",
        "    '3': True,\n",
        "    '4': True,\n",
        "    '5': True,\n",
        "    '6': True,\n",
        "    '7': True,\n",
        "    '8': True,\n",
        "    '9': True,\n",
        "  }\n",
        "  return switcher.get(char,False)"
      ],
      "execution_count": 15,
      "outputs": []
    },
    {
      "cell_type": "code",
      "metadata": {
        "id": "P-YLVb7v31pM"
      },
      "source": [
        "# Parses the input string and returns its words in the form of a list of strings.\n",
        "def parseLine(line):\n",
        "  line = line.lower()     # Converts all letters to lowercase\n",
        "  char_array = list(line) # Converts the line to an list of characters\n",
        "  words_array = [[]]      # List of a list of characters that for words\n",
        "  words = []              # List of words\n",
        "  word_idx = 0      # Index of the current word\n",
        "  # Creates a list of words made out of characters (i.e. a list of lists of char).\n",
        "  for char in char_array:\n",
        "    if isAlphanumeric(char):\n",
        "      temp = words_array[word_idx]    # temp is the current word\n",
        "      temp.append(char)\n",
        "      #char_idx += 1\n",
        "    else:\n",
        "      if words_array[word_idx]:     # True if word contains at least 1 character\n",
        "        words_array.append([])      # Appending the next empty word to be filled\n",
        "        word_idx += 1               # Index into the next word\n",
        "  # Creates a list of words made out of strings.\n",
        "  for word in words_array:\n",
        "    if word:                        # If word is non-empty. Always true (hopefully) except for the last one)            \n",
        "      dollar_sign = False\n",
        "      contains_number = False\n",
        "      letter_number = False\n",
        "      for char in word:\n",
        "        if char == '$':                \n",
        "          dollar_sign = True\n",
        "        elif contains_number and (not isNumber(char)):\n",
        "          letter_number = True\n",
        "        elif isNumber(char):\n",
        "          contains_number = True\n",
        "      if dollar_sign:\n",
        "        words.append(\"money\")       # Substitute any money amount with simply \"money\"\n",
        "      elif letter_number:\n",
        "        words.append(\"alphanum\")    # Substitute any number with letters with \"alphanum\"\n",
        "      elif contains_number:\n",
        "        words.append(\"number\")      # Substitute any number with simply \"number\"\n",
        "      else:\n",
        "        temp = mergeCharacters(word)\n",
        "        if not isIrrelevant(temp) and len(temp) > 2:\n",
        "          words.append(temp)  # Merge the characters of the word into a string\n",
        "  return words"
      ],
      "execution_count": 16,
      "outputs": []
    },
    {
      "cell_type": "markdown",
      "metadata": {
        "id": "dsVb5kvlHaq5"
      },
      "source": [
        "Conversion of class labels into binary numbers"
      ]
    },
    {
      "cell_type": "code",
      "metadata": {
        "id": "xi9sXLD95_jd"
      },
      "source": [
        "# Convert the class labels to integers from 0 to 7 using a dictionary\n",
        "def numberToLabel (num):\n",
        "  switcher = {\n",
        "     0:\"rpg\",\n",
        "     1: \"anime\",\n",
        "     2:\"datascience\",\n",
        "     3:\"hardware\", \n",
        "     4:\"cars\",\n",
        "     5:\"gamernews\",\n",
        "     6:\"gamedev\",\n",
        "     7:\"computers\"\n",
        "  }\n",
        "  return switcher.get(num,\"Invalid class label\")"
      ],
      "execution_count": 17,
      "outputs": []
    },
    {
      "cell_type": "code",
      "metadata": {
        "id": "6Q9c91s_HZFJ"
      },
      "source": [
        "# Convert the class labels to integers from 0 to 7 using a dictionary\n",
        "def labelToNumber (label):\n",
        "  switcher = {\n",
        "    \"rpg\": 0,\n",
        "    \"anime\": 1,\n",
        "    \"datascience\": 2,\n",
        "    \"hardware\": 3,\n",
        "    \"cars\": 4,\n",
        "    \"gamernews\": 5,\n",
        "    \"gamedev\": 6,\n",
        "    \"computers\": 7,\n",
        "  }\n",
        "  return switcher.get(label,\"Invalid class label\")"
      ],
      "execution_count": 18,
      "outputs": []
    },
    {
      "cell_type": "code",
      "metadata": {
        "id": "YsS-_IReHp7k",
        "outputId": "5637361b-91b0-49f3-8b41-fb4d126dbea3",
        "colab": {
          "base_uri": "https://localhost:8080/"
        }
      },
      "source": [
        "# Convert the class labels into a numpy array named Y.\n",
        "# Each entry in Y should still match the corresponding row in X.\n",
        "Y = np.zeros((ylabels.shape[0],1))\n",
        "for i in range(0, Y.shape[0]):\n",
        "  # Convert the class labels to a number between 0 and 7\n",
        "  label_number = labelToNumber(ylabels[i])   \n",
        "  if label_number != \"Invalid class label\":\n",
        "    Y[i,0] = label_number\n",
        "  else: \n",
        "    print(\"Invalid class label!\")\n",
        "\n",
        "# Reshaping our labels\n",
        "# Y = np.reshape(Y,(Y.shape[0],))\n",
        "print(f\"Y shape as numpy: {Y.shape}\")"
      ],
      "execution_count": 19,
      "outputs": [
        {
          "output_type": "stream",
          "text": [
            "Y shape as numpy: (11582, 1)\n"
          ],
          "name": "stdout"
        }
      ]
    },
    {
      "cell_type": "markdown",
      "metadata": {
        "id": "iX7YMuwlrc9T"
      },
      "source": [
        "Lemmatization & Stemming"
      ]
    },
    {
      "cell_type": "code",
      "metadata": {
        "id": "A7EJ7cyhhQ_R"
      },
      "source": [
        "# Map the pos tag to first character that lemmatize accepts\n",
        "def get_wordnet_pos(word):\n",
        "  # my tag returns an upper case letter representing nouns, verbs, adverbs, etc\n",
        "  \"\"\"Map POS tag to first character lemmatize() accepts\"\"\"\n",
        "  tag = nltk.pos_tag([word])[0][1][0].upper()\n",
        "  tag_dict = {\"J\": wordnet.ADJ,\n",
        "              \"N\": wordnet.NOUN,\n",
        "              \"V\": wordnet.VERB,\n",
        "              \"R\": wordnet.ADV}\n",
        "  return tag_dict.get(tag, wordnet.NOUN)"
      ],
      "execution_count": 20,
      "outputs": []
    },
    {
      "cell_type": "code",
      "metadata": {
        "id": "D036vpQSutSG"
      },
      "source": [
        "# Create a new class for that does word tokenizing combined with word lemmatization\n",
        "class MyLemmaTokenizer:\n",
        "  def __init__(self):\n",
        "    self.wnl = WordNetLemmatizer()\n",
        "  def __call__(self, doc):\n",
        "    return [self.wnl.lemmatize(t,pos =get_wordnet_pos(t)) for t in word_tokenize(doc) if t.isalpha()]"
      ],
      "execution_count": 21,
      "outputs": []
    },
    {
      "cell_type": "code",
      "metadata": {
        "id": "XLs2TWVlyIOE"
      },
      "source": [
        "# Create my stemming object for mophological variants of root/base words findings\n",
        "class MyStemTokenizer:\n",
        "  # Constructor\n",
        "  def __init__(self):\n",
        "    self.myPorterStemmer = PorterStemmer()\n",
        "  # It does the stemmization\n",
        "  def __call__(self, document):\n",
        "    return [self.myPorterStemmer.stem(j) for j in word_tokenize(document) if j.isalpha()]"
      ],
      "execution_count": 22,
      "outputs": []
    },
    {
      "cell_type": "code",
      "metadata": {
        "id": "HfNxoqTPHCpj",
        "outputId": "5acbb901-94ec-497b-b2a7-4c7bbb8b6460",
        "colab": {
          "base_uri": "https://localhost:8080/"
        }
      },
      "source": [
        "# Get all my english stop words\n",
        "myStopWords = text.ENGLISH_STOP_WORDS\n",
        "myStopWords = list(myStopWords)\n",
        "print(myStopWords)\n",
        "myStopWords.append(\"_\")\n",
        "\n",
        "# #Adding more stop words to the imported list of stop words\n",
        "# file_path = \"/content/myDrive/My Drive/ECSE_551_Machine_Learning/TextClassification/stopwords.txt\"\n",
        "# with open(file_path,mode='r') as file:\n",
        "#   content = file.readlines()\n",
        "#   for word in content:\n",
        "#     myStopWords.append(str(word))"
      ],
      "execution_count": 23,
      "outputs": [
        {
          "output_type": "stream",
          "text": [
            "['either', 'con', 'due', 'name', 'whole', 'cry', 'in', 'un', 'upon', 'through', 'after', 'hers', 'nevertheless', 'system', 'twelve', 'become', 'by', 'formerly', 'must', 'out', 'who', 'would', 'hasnt', 'show', 'am', 'also', 'describe', 'couldnt', 'least', 'latterly', 'take', 'why', 'ltd', 'hereupon', 'no', 'hereafter', 'while', 'without', 'yourself', 'or', 'thence', 'to', 'he', 'call', 'from', 'has', 'became', 'thin', 'via', 'one', 'as', 'afterwards', 'amoungst', 'further', 'herself', 'may', 'except', 'beside', 'co', 'meanwhile', 'nothing', 'rather', 'eight', 'since', 'everywhere', 'across', 'although', 'enough', 'i', 'its', 'indeed', 'onto', 'under', 'ie', 'always', 'about', 'none', 'part', 'any', 'many', 'now', 'over', 'perhaps', 'were', 'anywhere', 'down', 'whereafter', 'detail', 'same', 'whose', 'me', 'thereupon', 'few', 'itself', 'elsewhere', 'should', 'these', 'serious', 'an', 're', 'not', 'well', 'a', 'other', 'what', 'whence', 'can', 'otherwise', 'therein', 'hence', 'becoming', 'fifty', 'go', 'eg', 'that', 'might', 'every', 'interest', 'my', 'next', 'even', 'if', 'bill', 'do', 'anything', 'mostly', 'once', 'seems', 'somehow', 'then', 'ever', 'mill', 'cant', 'into', 'above', 'nobody', 'off', 'was', 'you', 'both', 'almost', 'being', 'five', 'himself', 'myself', 'side', 'during', 'two', 'behind', 'put', 'thru', 'amongst', 'former', 'see', 'whom', 'own', 'within', 'whenever', 'another', 'bottom', 'have', 'full', 'had', 'move', 'all', 'somewhere', 'fire', 'wherever', 'but', 'sixty', 'yet', 'for', 'more', 'each', 'find', 'your', 'ourselves', 'their', 'thus', 'moreover', 'sincere', 'nine', 'such', 'hereby', 'it', 'our', 'sometime', 'thick', 'yours', 'neither', 'never', 'us', 'and', 'four', 'already', 'per', 'therefore', 'themselves', 'empty', 'give', 'the', 'twenty', 'because', 'besides', 'cannot', 'anyhow', 'found', 'her', 'latter', 'much', 'often', 'where', 'along', 'how', 'very', 'ten', 'been', 'we', 'again', 'seemed', 'those', 'is', 'others', 'among', 'alone', 'anyone', 'fifteen', 'please', 'thereby', 'third', 'nor', 'against', 'eleven', 'front', 'towards', 'everything', 'seem', 'someone', 'last', 'at', 'whereupon', 'whereas', 'whoever', 'de', 'herein', 'there', 'with', 'less', 'between', 'him', 'noone', 'seeming', 'amount', 'toward', 'whereby', 'forty', 'inc', 'top', 'around', 'she', 'together', 'whatever', 'becomes', 'something', 'are', 'namely', 'get', 'only', 'ours', 'here', 'until', 'when', 'could', 'whether', 'too', 'thereafter', 'sometimes', 'first', 'however', 'wherein', 'fill', 'keep', 'beyond', 'still', 'up', 'will', 'his', 'nowhere', 'some', 'so', 'which', 'etc', 'yourselves', 'everyone', 'done', 'most', 'several', 'three', 'mine', 'throughout', 'back', 'be', 'on', 'than', 'this', 'beforehand', 'whither', 'them', 'hundred', 'six', 'before', 'else', 'though', 'below', 'anyway', 'made', 'of', 'they']\n"
          ],
          "name": "stdout"
        }
      ]
    },
    {
      "cell_type": "code",
      "metadata": {
        "id": "9aE2hQuj1n-w"
      },
      "source": [
        "# Getting rid of all the bad characters and words\n",
        "Xtraining_list = Xtraining.to_list()\n",
        "X_words1 = []\n",
        "for sample in Xtraining_list:\n",
        "  tmp = parseLine(sample)\n",
        "  s = ' '\n",
        "  s = s.join(tmp)\n",
        "  X_words1.append(s)\n",
        "\n"
      ],
      "execution_count": 24,
      "outputs": []
    },
    {
      "cell_type": "code",
      "metadata": {
        "id": "qp5fbVUa1oHy",
        "outputId": "d3e1d8fd-eaa4-446d-f933-c3826e2e77a3",
        "colab": {
          "base_uri": "https://localhost:8080/"
        }
      },
      "source": [
        "# Converting the list of words back into a pandas object\n",
        "Xtraining = pd.DataFrame(X_words1)\n",
        "Xtraining = Xtraining[0]\n",
        "print(Xtraining[0])\n",
        "print(Xtraining.shape)"
      ],
      "execution_count": 25,
      "outputs": [
        {
          "output_type": "stream",
          "text": [
            "epic hypocrite play rocket league see greedy prices cosmetic objects skyrocketed psonyx charging money simple cosmetic object wheels white lightning\n",
            "(11582,)\n"
          ],
          "name": "stdout"
        }
      ]
    },
    {
      "cell_type": "code",
      "metadata": {
        "id": "zCsbz9nnsM-s"
      },
      "source": [
        "# Getting rid of all bad characters and words in test set\n",
        "Xtest_list = test_set.to_list()\n",
        "X_words2 = []\n",
        "for sample in Xtest_list:\n",
        "  tmp = parseLine(sample)\n",
        "  s = ' '\n",
        "  s = s.join(tmp)\n",
        "  X_words2.append(s)"
      ],
      "execution_count": 26,
      "outputs": []
    },
    {
      "cell_type": "code",
      "metadata": {
        "id": "6AEHZDu1sidT",
        "outputId": "b7679cb1-102e-4c44-bb0f-8c8dc2f8556f",
        "colab": {
          "base_uri": "https://localhost:8080/"
        }
      },
      "source": [
        "# Converting the list of test words into a pandas object\n",
        "Xtest = pd.DataFrame(X_words2)\n",
        "Xtest = Xtest[0]\n",
        "print(Xtest[0])\n",
        "print(Xtest.shape)"
      ],
      "execution_count": 27,
      "outputs": [
        {
          "output_type": "stream",
          "text": [
            "data scientist years experience figured people experience graduated nyu degree finance applied number jobs start finance jobs fidelity morgan stanley morgan mellon company work jobs available fidelity mellon entry level surprise jobs job morgan stanley morgan current company rejected former accepted latter office close parents house benefit starting general data scientist position financial analyst position point background stats calc coursework high school uni calendar year experience research financial sector months psychology understood common types models linear regression knn time series applied year work supported research projects local office data scientist build capability ground involved research meeting people people working hand entering data spreadsheet painstakingly hand jamming graphs supported employees teaching build spreadsheets analytics automating processes spreadsheets teaching vba helping business financial analysts prevent automated process business cases involved simple modeling crazy time graduate course python covered basic statistical techniques knn time series education benefit bored professor sent advanced materials learned neural networks smote techniques number number year worked visualizations helped colleagues spreadsheets usable format automated data pulls data systems hosted server attached viz tool modernization progress end year dashboards consisted slapping graphs tableau dashboard creation departments budget leadership backing tableau stuck automated spreadsheets departments budget support created dashboards purpose flowed included various features easy standard\n",
            "(2898,)\n"
          ],
          "name": "stdout"
        }
      ]
    },
    {
      "cell_type": "markdown",
      "metadata": {
        "id": "wUGNKISQ3c1j"
      },
      "source": [
        "# Naive Bayes Classifier"
      ]
    },
    {
      "cell_type": "code",
      "metadata": {
        "id": "v44P8iW20dox"
      },
      "source": [
        "# Superclass for Bernouilli Naive Bayes Classifiers\n",
        "class Bernoulli_NB():\n",
        "\n",
        "    #Class constructor\n",
        "    def __init__(self, alpha=0.01):\n",
        "      self.num_classes = 8\n",
        "      self.condProb = None\n",
        "      self.priorProb = None\n",
        "      self.alpha = alpha\n",
        "    ####################################################################################################\n",
        "    ####################################################################################################\n",
        "\n",
        "    def set_params(self, **params):\n",
        "      # self.alpha = params[\"alpha\"]\n",
        "      pass\n",
        "\n",
        "    def get_params(self, deep=False):\n",
        "      parameters = {\"alpha\": self.alpha}\n",
        "      return parameters\n",
        "\n",
        "    # Calculate the probability of Y = 1.\n",
        "    # Returns a column vector for which the ith entry is P(Yi=1)\n",
        "    # and i refers to a class label.\n",
        "    def probY(self, Y):\n",
        "\n",
        "      Y = np.reshape(Y, (Y.shape[0],1))\n",
        "      num_labels = self.num_classes\n",
        "      prob = np.zeros((num_labels,1))  #Probability vector P(Yi=1)\n",
        "\n",
        "      for i in range(0,Y.shape[0]):\n",
        "        # Assumption: labels are integers ranging from 0 to num_labels - 1\n",
        "        for label in range(0, num_labels):\n",
        "          if Y[i,0] == label:\n",
        "            prob[label,0] += 1\n",
        "          elif Y[i,0] > (num_labels - 1):\n",
        "            print(\"Y at index \" + str(i) + \" is an invalid class label\")\n",
        "            break\n",
        "      # Divide by the total # of labels input labels Y\n",
        "      prob = prob/Y.shape[0]\n",
        "      return prob\n",
        "\n",
        "    ####################################################################################################\n",
        "    ####################################################################################################\n",
        "    # Calculate the probability of X = 1 given a class label Yi (number).\n",
        "    # Returns a row vector for which the jth entry is P(Xj=1|Yi)\n",
        "    # and j refers to a feature.\n",
        "    # Note: not implemented with the bias term in mind.\n",
        "    def probXGivenYi(self, X, Y, label):\n",
        "\n",
        "      Y = np.reshape(Y, (Y.shape[0],1))\n",
        "      prob = np.zeros((1,X.shape[1]))  # Conditional probability vector P(Xj=1|Yi)\n",
        "      denominator = 0                  # Number of times label Yi appears in Y\n",
        "\n",
        "      for i in range(0, X.shape[0]):\n",
        "        if Y[i,0] == label:\n",
        "          denominator += 1\n",
        "          prob = prob + X[i,:]\n",
        "\n",
        "      # Laplace smoothing\n",
        "      if(self.alpha == 1):\n",
        "        prob = prob + np.ones((1,X.shape[1]))\n",
        "        denominator += 2\n",
        "      else:\n",
        "        prob = prob + self.alpha*np.ones((1,X.shape[1]))\n",
        "        denominator += self.alpha * 2\n",
        "      prob = prob/denominator\n",
        "      return prob\n",
        "    ####################################################################################################\n",
        "    ####################################################################################################\n",
        "    # Write the Bernoulli Naive  Bayes Method Here\n",
        "    def fit(self, Xtrain, Y):\n",
        "        Y = np.reshape(Y, (Y.shape[0],1))\n",
        "        # print('Starting the fit function::::')\n",
        "        t1 = time.time()\n",
        "        self.condProb = np.zeros((self.num_classes,Xtrain.shape[1]))\n",
        "\n",
        "        t2 =time.time()\n",
        "        self.priorProb = self.probY(Y)\n",
        "        # print('Time taken for Pior probs function:::', time.time()-t2 )\n",
        "\n",
        "        t3 = time.time()\n",
        "        for c in range(self.num_classes):\n",
        "            self.condProb[c,:] = self.probXGivenYi(Xtrain, Y, c)\n",
        "        # print('Time taken for Condtional Prob:::', time.time()-t3)\n",
        "        # print('Total time by fit function:::', time.time()-t1 )\n",
        "    ####################################################################################################\n",
        "    ####################################################################################################\n",
        "                            #NON OPTIMISED BERNOULLI #\n",
        "    # def predict(self,Xtest):\n",
        "    #\n",
        "    #     predLabel = np.zeros((Xtest.shape[0],1))\n",
        "    #     prosteriorProb = np.zeros((Xtest.shape[0],8))\n",
        "    #\n",
        "    #     for d in range(Xtest.shape[0]):\n",
        "    #         for c in range(8):\n",
        "    #             prosteriorProb[d,c] = np.log10(self.priorProb[c,0])\n",
        "    #             for index in range(Xtest.shape[1]):\n",
        "    #                 if(Xtest[d,index] == 1):\n",
        "    #                     prosteriorProb[d,c] += np.log10(self.condProb[c,index])\n",
        "    #                 else:\n",
        "    #                     prosteriorProb[d,c] += np.log10(1 - self.condProb[c,index])\n",
        "    #\n",
        "    #                 # print(self.condProb[c, index])\n",
        "    #\n",
        "    #         predLabel[d,0] = np.argmax(prosteriorProb[d,:])\n",
        "    #         # print(prosteriorProb[d, :])\n",
        "    #         # print(predLabel[d,0])\n",
        "    #         # if d == 5:\n",
        "    #         #     return\n",
        "    #\n",
        "    #     return predLabel\n",
        "    ####################################################################################\n",
        "    ####################################################################################\n",
        "                            # OPTIMISED BERNOULLI #\n",
        "    def predict(self,Xtest):\n",
        "        print(f'Starting the Predicting Function....')\n",
        "        start_time = time.time()\n",
        "        predLabel = np.zeros((Xtest.shape[0],1), dtype=int)\n",
        "        prosteriorProb = np.zeros((Xtest.shape[0],self.num_classes))\n",
        "        for d in range(Xtest.shape[0]):\n",
        "            for c in range(self.num_classes):\n",
        "                prosteriorProb[d,c] = np.log10(self.priorProb[c,0])\n",
        "                # for index in range(Xtest.shape[1]):\n",
        "                #     if(Xtest[d,index] == 1):\n",
        "                #         prosteriorProb[d,c] += np.log10(self.condProb[c,index])\n",
        "                #     else:\n",
        "                #         prosteriorProb[d,c] += np.log10(1 - self.condProb[c,index])\n",
        "                Z = Xtest[d,:]\n",
        "                # print(Xtest.shape)\n",
        "                # print(type(Xtest))\n",
        "                # print(Z.shape)\n",
        "                \n",
        "                # print(type(Z))\n",
        "\n",
        "                # print(sp.nonzero(Z))\n",
        "                # one_ind = np.where(Z==1)[0]\n",
        "                one_ind = sp.nonzero(Z)[1]\n",
        "                zero_ind = np.delete(np.arange(0,Xtest.shape[0]),one_ind,0)\n",
        "                row_ones = np.ones((1,zero_ind.shape[0]))\n",
        "                prosteriorProb[d,c] += np.sum(np.log10(self.condProb[c,one_ind]))\n",
        "                prosteriorProb[d,c] +=  np.sum(np.log10(row_ones-self.condProb[c,zero_ind]))\n",
        "              \n",
        "       \n",
        "            predLabel[d,0] = np.argmax(prosteriorProb[d,:])\n",
        "        print(f'Time taken for predict function: {time.time()-start_time}')\n",
        "        return predLabel"
      ],
      "execution_count": 28,
      "outputs": []
    },
    {
      "cell_type": "markdown",
      "metadata": {
        "id": "qlaQhMaa6OdK"
      },
      "source": [
        "# Ensemble Bagging"
      ]
    },
    {
      "cell_type": "code",
      "metadata": {
        "id": "jfGkdSlA4-aq"
      },
      "source": [
        "def featureVectorizer(myVectorizer, tfidfNormalizer, Xtraining, numFeatures):\n",
        "\n",
        "  # Making my frequency vectors (either binary or non binary depends on CountVectorizer)\n",
        "  training_vectors = myVectorizer.fit_transform(Xtraining)\n",
        "\n",
        "  # TFIDF normalizing\n",
        "  training_vectors_tfidf_normalized = tfidfNormalizer.fit_transform(training_vectors)\n",
        "\n",
        "  # Using Sklearns function to help us select the top features\n",
        "  training_vectors_tfidf_normalized_new = SelectKBest(chi2, k=numFeatures).fit_transform(training_vectors_tfidf_normalized, Y)\n",
        "\n",
        "  # Look at feature names for both and extract and save a list of them for viewing\n",
        "  myFeatures = myVectorizer.get_feature_names()\n",
        "  path1 = \"/content/myDrive/My Drive/ECSE_551_Machine_Learning/TextClassification/features1.txt\"\n",
        "  # Writing the feaure names to a text file\n",
        "  with open(path1, mode='w') as file:\n",
        "    for item in myFeatures:\n",
        "      file.write(\"%s\\n\" % item)\n",
        "\n",
        "  return training_vectors_tfidf_normalized_new, myVectorizer, tfidfNormalizer"
      ],
      "execution_count": 29,
      "outputs": []
    },
    {
      "cell_type": "code",
      "metadata": {
        "id": "frEbx2SP6GY3"
      },
      "source": [
        "#\n",
        "def bootstrapWithReplacement(X, Y):\n",
        "  X = X.toarray()\n",
        "  Xout = np.zeros((X.shape[0],X.shape[1]))\n",
        "  Yout = np.zeros((Y.shape[0],Y.shape[1]))\n",
        "  for i in range(0,X.shape[0]):\n",
        "    rand_idx = rand.randint(0,X.shape[0]-1)\n",
        "    Xout[i,:] = X[rand_idx,:]\n",
        "    Yout[i,:] = Y[rand_idx,:]\n",
        "  return Xout, Yout"
      ],
      "execution_count": 30,
      "outputs": []
    },
    {
      "cell_type": "code",
      "metadata": {
        "id": "QmknMoUy5dtt"
      },
      "source": [
        "# Our bootstrap ensemble classifier \n",
        "def ensembleBagging(myVectorizer, mytfidfTransformer, num_features, alpha, Xtraining, Y, Xtest, B, path):\n",
        "\n",
        "  # feature selector from sklearn\n",
        "  skLearnFeatureSelector = SelectKBest(chi2, k=num_features)\n",
        "\n",
        "  # vectorization of our training and testing data\n",
        "  vectors_train = myVectorizer.fit_transform(Xtraining)\n",
        "  vectors_test = myVectorizer.transform(Xtest)\n",
        "\n",
        "  # tfidf normalization\n",
        "  vectors_train_tfidf_normalized = mytfidfTransformer.fit_transform(vectors_train)\n",
        "  vectors_test_tfidf_normalized = mytfidfTransformer.transform(vectors_test)\n",
        "\n",
        "  # selecting the top features using chi squared evaluation\n",
        "  vectors_train_tfidf_normalized_new = skLearnFeatureSelector.fit_transform(vectors_train_tfidf_normalized, Y)\n",
        "  vectors_test_tfidf_normalized_new = skLearnFeatureSelector.transform(vectors_test_tfidf_normalized)\n",
        "\n",
        "  # accuracies list\n",
        "  accuracies = np.zeros((1,B))\n",
        "\n",
        "  # predicted labels for each of our classifier\n",
        "  predictedLabels = np.zeros((Xtest.shape[0], B), dtype=int)\n",
        "  \n",
        "  for i in range(0,B):\n",
        "\n",
        "    # instantiating a different instance of NB for classification\n",
        "    nb = Bernoulli_NB(alpha=alpha)                \n",
        "\n",
        "    # bootstrap our data (sample with replacement)\n",
        "    Xresampled, Yresampled = bootstrapWithReplacement(vectors_train_tfidf_normalized_new, Y)\n",
        "\n",
        "    # convert back frorm numpy to sparse\n",
        "    Xresampled = sparse.csr_matrix(Xresampled)\n",
        "\n",
        "    # # Run k-fold to get the model (classifier) accuracies\n",
        "    # avgErrorOfThisModel, avgAccuracyOfThisModel, fold_Accuracy_Dict = run_K_Fold_CrossValidation(Xresampled, Yresampled, nb, numFolds=3)\n",
        "    # # accuracies.append(avgAccuracyOfThisModel)\n",
        "    # accuracies[0,i] = avgAccuracyOfThisModel\n",
        "\n",
        "    # Evaluating using our classifier\n",
        "    nb.fit(Xresampled, Yresampled)\n",
        "    tmp = nb.predict(vectors_test_tfidf_normalized_new)\n",
        "    predictedLabels[:,i] = np.reshape(tmp, (tmp.shape[0],))\n",
        "\n",
        "  # Majority voting\n",
        "  finalLabel = np.zeros((predictedLabels.shape[0], 1))\n",
        "  for i in range(0, predictedLabels.shape[0]):\n",
        "    frequencies = np.zeros((1,8), dtype=int)\n",
        "    for j in range(B):\n",
        "      frequencies[0,predictedLabels[i,j]] += 1\n",
        "    max = np.max(frequencies)\n",
        "    idx = [] # Classifier indices\n",
        "    for x in range(0,frequencies.shape[1]):\n",
        "      if frequencies[0,x] == max:\n",
        "        idx.append(x) \n",
        "    if len(idx) > 1:\n",
        "      print(idx)\n",
        "      finalLabel[i,0] = idx[1]\n",
        "    else:\n",
        "      finalLabel[i,0] = idx[0]\n",
        "\n",
        "  \n",
        "  # Convert number labels back into string labels\n",
        "  predictedLabelsStringFormat = []\n",
        "  for labelNum in finalLabel:\n",
        "    predictedLabelsStringFormat.append(numberToLabel(int(labelNum[0])))\n",
        "\n",
        "  print(f\"Length of predicted list: {len(predictedLabelsStringFormat)}\")\n",
        "  # print(predictedLabelsStringFormat)\n",
        "  # Convert from list to pandas data frame\n",
        "  dfPredicted = pd.DataFrame(predictedLabelsStringFormat, columns=['subreddit'])\n",
        "  # print(dfPredicted)\n",
        "  dfPredicted.to_csv(path)\n",
        "  return finalLabel\n"
      ],
      "execution_count": 31,
      "outputs": []
    },
    {
      "cell_type": "markdown",
      "metadata": {
        "id": "kGtMyFg04zKc"
      },
      "source": [
        "# Pipeline & GridsearchCV"
      ]
    },
    {
      "cell_type": "markdown",
      "metadata": {
        "id": "2m0f27t0kUDk"
      },
      "source": [
        "SKLearn SVC Tunning"
      ]
    },
    {
      "cell_type": "code",
      "metadata": {
        "id": "0FdAFxvakNMW"
      },
      "source": [
        "# Defining my pipeline parameters for my gridsearchCV to tweak at run time\n",
        "pipeline_parameters = {\n",
        "    \"classifier__max_iter\": [500000],\n",
        "    \"classifier__multi_class\": ['ovr', 'crammer_singer'],\n",
        "    \"classifier__tol\": [1e-4],\n",
        "    \"classifier__C\": [1.0],\n",
        "    \"classifier__dual\": [True],\n",
        "    \"classifier__loss\": ['squared_hinge'],\n",
        "    # \"classifier__penalty\": ['l1', 'l2'],\n",
        "    \"countVectorizer__binary\": [False],\n",
        "    \"countVectorizer__max_df\": [1.0],\n",
        "    \"countVectorizer__min_df\": [0.0],\n",
        "    \"countVectorizer__stop_words\": [myStopWords],\n",
        "    \"countVectorizer__max_features\": [5500],\n",
        "    \"countVectorizer__ngram_range\":[(1,1)],\n",
        "    \"countVectorizer__tokenizer\": [MyStemTokenizer(), MyLemmaTokenizer()],\n",
        "    \"normalizer__norm\": ['l2']\n",
        "}\n",
        "\n",
        "# adaboostCLF = AdaBoostClassifier(base_estimator=Bernoulli_NB(), n_estimators=8, random_state=0, algorithm='SAMME')\n",
        "\n",
        "# Making my pipeline to have these preprocessing functions\n",
        "myPipe = Pipeline(\n",
        "    # [('countVectorizer', CountVectorizer()), ('classifier', LinearSVC())]\n",
        "    [('countVectorizer', CountVectorizer()), ('normalizer', Normalizer()), ('classifier', LinearSVC())]\n",
        ")\n",
        "\n",
        "# Making a grid search object in order to optimize our parameters\n",
        "myGridSearch = GridSearchCV(myPipe, param_grid=pipeline_parameters, scoring=\"accuracy\", n_jobs=-2, verbose=1)\n",
        "print(\"Performing grid search...\")\n",
        "print(\"Pipeline: \", [name for name, _ in myPipe.steps])\n",
        "t0 = time.time()\n",
        "Ygridsearch = np.reshape(Y, (Y.shape[0],))\n",
        "print(Xtraining.shape)\n",
        "myGridSearch.fit(Xtraining, Ygridsearch)\n",
        "print(\"Finished in %0.3fs\" % (time.time() - t0))\n",
        "print(\"\\n\")"
      ],
      "execution_count": 32,
      "outputs": []
    },
    {
      "cell_type": "code",
      "metadata": {
        "id": "o-lPk1iLkOvP"
      },
      "source": [
        "print(\"Best score: %0.3f\" % myGridSearch.best_score_)\n",
        "print(\"Best parameters set:\")\n",
        "bestParameters = myGridSearch.best_estimator_.get_params()\n",
        "# print(bestParameters)\n",
        "for paramName in sorted(bestParameters.keys()):\n",
        "  print(\"\\t%s: %r\" % (paramName, bestParameters[paramName]))"
      ],
      "execution_count": 33,
      "outputs": []
    },
    {
      "cell_type": "markdown",
      "metadata": {
        "id": "EpdJHAkBAxUo"
      },
      "source": [
        "SKLearn LinearSVC Tuning"
      ]
    },
    {
      "cell_type": "code",
      "metadata": {
        "id": "FatCI4NFAkJr",
        "outputId": "00fc19dc-d34a-470c-999d-012cacb5039f",
        "colab": {
          "base_uri": "https://localhost:8080/"
        }
      },
      "source": [
        "# Defining my pipeline parameters for my gridsearchCV to tweak at run time\n",
        "pipeline_parameters = {\n",
        "    \"classifier__max_iter\": [10000000],\n",
        "    \"classifier__multi_class\": ['ovr'],\n",
        "    \"classifier__tol\": [1e-4],\n",
        "    \"classifier__C\": [1.0],\n",
        "    \"classifier__dual\": [True],\n",
        "    \"classifier__loss\": ['squared_hinge'],\n",
        "    \"classifier__penalty\": ['l2'],\n",
        "    \"countVectorizer__binary\": [False],\n",
        "    \"countVectorizer__max_df\": [1.0],\n",
        "    \"countVectorizer__min_df\": [0.0],\n",
        "    \"countVectorizer__stop_words\": [myStopWords],\n",
        "    \"countVectorizer__max_features\": [15000],\n",
        "    \"countVectorizer__ngram_range\":[(1,1)],\n",
        "    # \"countVectorizer__tokenizer\": [MyStemTokenizer()],\n",
        "    \"normalizer__norm\": ['l2']\n",
        "}\n",
        "\n",
        "# adaboostCLF = AdaBoostClassifier(base_estimator=Bernoulli_NB(), n_estimators=8, random_state=0, algorithm='SAMME')\n",
        "\n",
        "# Making my pipeline to have these preprocessing functions\n",
        "myPipe = Pipeline(\n",
        "    # [('countVectorizer', CountVectorizer()), ('classifier', LinearSVC())]\n",
        "    [('countVectorizer', CountVectorizer()), ('normalizer', Normalizer()), ('classifier', LinearSVC())]\n",
        ")\n",
        "\n",
        "# Making a grid search object in order to optimize our parameters\n",
        "myGridSearch = GridSearchCV(myPipe, param_grid=pipeline_parameters, scoring=\"accuracy\", n_jobs=-2, verbose=1)\n",
        "print(\"Performing grid search...\")\n",
        "print(\"Pipeline: \", [name for name, _ in myPipe.steps])\n",
        "t0 = time.time()\n",
        "Ygridsearch = np.reshape(Y, (Y.shape[0],))\n",
        "print(Xtraining.shape)\n",
        "myGridSearch.fit(Xtraining, Ygridsearch)\n",
        "print(\"Finished in %0.3fs\" % (time.time() - t0))\n",
        "print(\"\\n\")"
      ],
      "execution_count": 34,
      "outputs": [
        {
          "output_type": "stream",
          "text": [
            "Performing grid search...\n",
            "Pipeline:  ['countVectorizer', 'normalizer', 'classifier']\n",
            "(11582,)\n",
            "Fitting 5 folds for each of 1 candidates, totalling 5 fits\n"
          ],
          "name": "stdout"
        },
        {
          "output_type": "stream",
          "text": [
            "[Parallel(n_jobs=-2)]: Using backend SequentialBackend with 1 concurrent workers.\n",
            "[Parallel(n_jobs=-2)]: Done   5 out of   5 | elapsed:    4.1s finished\n"
          ],
          "name": "stderr"
        },
        {
          "output_type": "stream",
          "text": [
            "Finished in 4.995s\n",
            "\n",
            "\n"
          ],
          "name": "stdout"
        }
      ]
    },
    {
      "cell_type": "code",
      "metadata": {
        "id": "od05QtfcAkHX"
      },
      "source": [
        "print(\"Best score: %0.3f\" % myGridSearch.best_score_)\n",
        "print(\"Best parameters set:\")\n",
        "bestParameters = myGridSearch.best_estimator_.get_params()\n",
        "# print(bestParameters)\n",
        "for paramName in sorted(bestParameters.keys()):\n",
        "  print(\"\\t%s: %r\" % (paramName, bestParameters[paramName]))"
      ],
      "execution_count": 35,
      "outputs": []
    },
    {
      "cell_type": "markdown",
      "metadata": {
        "id": "1lGaKTgAl4_N"
      },
      "source": [
        "Sklearn Multinomial NB Tuning"
      ]
    },
    {
      "cell_type": "code",
      "metadata": {
        "id": "HX4-FuaRld6g"
      },
      "source": [
        "# Defining my pipeline parameters for my gridsearchCV to tweak at run time\n",
        "pipeline_Params_Multi_Bayes = {\n",
        "    \"classifier__alpha\": [0.06, 0.04, 0.02],\n",
        "    \"countVectorizer__binary\": [False],\n",
        "    \"countVectorizer__max_df\": [0.1],\n",
        "    \"countVectorizer__min_df\": [1],\n",
        "    \"countVectorizer__stop_words\": [myStopWords],\n",
        "    \"countVectorizer__max_features\": [5000],\n",
        "    \"countVectorizer__ngram_range\":[(1,1)],\n",
        "    \"countVectorizer__tokenizer\": [MyStemTokenizer()],\n",
        "    # \"normalizer__norm\": ['l2','l1']\n",
        "}\n",
        "\n",
        "# adaboostCLF = AdaBoostClassifier(base_estimator=Bernoulli_NB(), n_estimators=8, random_state=0, algorithm='SAMME')\n",
        "\n",
        "# Making my pipeline to have these preprocessing functions\n",
        "myPipeMultiBayes = Pipeline(\n",
        "    # [('countVectorizer', CountVectorizer()), ('classifier', Bernoulli_NB())]\n",
        "    [('countVectorizer', CountVectorizer()), ('classifier', MultinomialNB())]\n",
        ")\n",
        "\n",
        "# Making a grid search object in order to optimize our parameters\n",
        "myGridSearchMultiBayes = GridSearchCV(myPipeMultiBayes, param_grid=pipeline_Params_Multi_Bayes, scoring=\"accuracy\", n_jobs=-2, verbose=1)\n",
        "# Xnew = SelectKBest(chi2, k=5000).fit_transform(Xtraining, Y)\n",
        "print(\"Performing grid search...\")\n",
        "print(\"Pipeline: \", [name for name, _ in myPipeMultiBayes.steps])\n",
        "t0 = time.time()\n",
        "YMultiBayes = np.reshape(Y, (Y.shape[0],))\n",
        "myGridSearchMultiBayes.fit(Xtraining, YMultiBayes)\n",
        "print(\"Finished in %0.3fs\" % (time.time() - t0))\n",
        "print(\"\\n\")"
      ],
      "execution_count": 36,
      "outputs": []
    },
    {
      "cell_type": "code",
      "metadata": {
        "id": "svsKK7Xqlecj"
      },
      "source": [
        "print(\"Best score: %0.3f\" % myGridSearchMultiBayes.best_score_)\n",
        "print(\"Best parameters set:\")\n",
        "bestParameters = myGridSearchMultiBayes.best_estimator_.get_params()\n",
        "# print(bestParameters)\n",
        "for paramName in sorted(bestParameters.keys()):\n",
        "  print(\"\\t%s: %r\" % (paramName, bestParameters[paramName]))"
      ],
      "execution_count": 37,
      "outputs": []
    },
    {
      "cell_type": "markdown",
      "metadata": {
        "id": "DDhvAI4jlqv4"
      },
      "source": [
        "Bernoulli Naive Bayes Tunning"
      ]
    },
    {
      "cell_type": "code",
      "metadata": {
        "id": "xZox_qqZ48Y4"
      },
      "source": [
        "# Defining my pipeline parameters for my gridsearchCV to tweak at run time\n",
        "pipeline_parameters = {\n",
        "    \"classifier__alpha\": [0.01],\n",
        "    \"countVectorizer__binary\": [False],\n",
        "    \"countVectorizer__max_df\": [1.0],\n",
        "    \"countVectorizer__min_df\": [0.0],\n",
        "    \"countVectorizer__stop_words\": [myStopWords],\n",
        "    \"countVectorizer__max_features\": [8000],\n",
        "    \"countVectorizer__ngram_range\":[(1,1)],\n",
        "    # \"countVectorizer__tokenizer\": [MyStemTokenizer()]\n",
        "    # \"normalizer__norm\": ['l2','l1']\n",
        "}\n",
        "\n",
        "# adaboostCLF = AdaBoostClassifier(base_estimator=Bernoulli_NB(), n_estimators=8, random_state=0, algorithm='SAMME')\n",
        "\n",
        "# Making my pipeline to have these preprocessing functions\n",
        "myPipe = Pipeline(\n",
        "    [('countVectorizer', CountVectorizer()), ('tfidf', TfidfTransformer()), ('classifier', Bernoulli_NB())]\n",
        "    # [('countVectorizer', CountVectorizer()), ('normalizer', Normalizer()), ('classifier', Bernoulli_NB(8))]\n",
        ")\n",
        "\n",
        "# Making a grid search object in order to optimize our parameters\n",
        "myGridSearch = GridSearchCV(myPipe, param_grid=pipeline_parameters, scoring=\"accuracy\", n_jobs=-2, verbose=1)\n",
        "# Xnew = SelectKBest(chi2, k=5000).fit_transform(Xtraining, Y)\n",
        "print(\"Performing grid search...\")\n",
        "print(\"Pipeline: \", [name for name, _ in myPipe.steps])\n",
        "t0 = time.time()\n",
        "# Ygridsearch = np.reshape(Y, (Y.shape[0],))\n",
        "print(Xtraining.shape)\n",
        "myGridSearch.fit(Xtraining, Y)\n",
        "print(\"Finished in %0.3fs\" % (time.time() - t0))\n",
        "print(\"\\n\")"
      ],
      "execution_count": 38,
      "outputs": []
    },
    {
      "cell_type": "code",
      "metadata": {
        "id": "1LnWSaZWLo5w"
      },
      "source": [
        "print(\"Best score: %0.3f\" % myGridSearch.best_score_)\n",
        "print(\"Best parameters set:\")\n",
        "bestParameters = myGridSearch.best_estimator_.get_params()\n",
        "# print(bestParameters)\n",
        "for paramName in sorted(bestParameters.keys()):\n",
        "  print(\"\\t%s: %r\" % (paramName, bestParameters[paramName]))"
      ],
      "execution_count": 39,
      "outputs": []
    },
    {
      "cell_type": "markdown",
      "metadata": {
        "id": "4AtUa0fM3usD"
      },
      "source": [
        "# K-Fold Cross Validation"
      ]
    },
    {
      "cell_type": "code",
      "metadata": {
        "id": "EPioC6oc4FmH"
      },
      "source": [
        "# K-Fold Cross Validation function\n",
        "def run_K_Fold_CrossValidation(X, Y, classifier, numFolds=None):\n",
        "\n",
        "    # # Convert\n",
        "    # X = X.toarray()\n",
        "\n",
        "    \"\"\"Starting K-Fold Cross Validation\"\"\"\n",
        "    # Create a dictionary to hold our fold accuracies\n",
        "    fold_Accuracy_Dict = {}\n",
        "\n",
        "    # Create sklearn's K-Fold instance\n",
        "    kf = KFold(n_splits=numFolds)\n",
        "\n",
        "    # Find out how many splitting iterations\n",
        "    print(f\"Number of splitting iterations: {kf.get_n_splits(Y)}\\n\")\n",
        "    # TO UPDATE: print(f\"Number of splitting iterations: {kf.get_n_splits(Y)}\\n\")\n",
        "\n",
        "    # Fold Iteration count\n",
        "    foldCount = 0\n",
        "\n",
        "    # Fold error sum tracker\n",
        "    foldErrorSum = 0\n",
        "\n",
        "    # Fold accuracy tracker\n",
        "    foldAccuracySum = 0\n",
        "\n",
        "    # K-Fold loop\n",
        "    for training_indices, validation_indices in kf.split(X):\n",
        "    # TO UPDATE: for training_indices, validation_indices in kf.split(Y):\n",
        "\n",
        "        print(f\"Starting fold {foldCount + 1}.....\")\n",
        "        # print(\"Training: \", training_indices, \"Validation: \", validation_indices)\n",
        "\n",
        "        curFoldTrainingLabels = None\n",
        "        curFoldValidationLabels = None\n",
        "        curFoldTraining = None\n",
        "        curFoldValidation = None\n",
        "        # If we are using an sklearn classifier need to do this\n",
        "        if (Y.shape == (Y.shape[0],)):\n",
        "          curFoldTrainingLabels = Y[training_indices]\n",
        "          curFoldValidationLabels = Y[validation_indices]\n",
        "          curFoldTraining = X[training_indices,:]\n",
        "          curFoldValidation = X[validation_indices,:]\n",
        "        else:\n",
        "          # Slicing our data to get current training and current validation sets\n",
        "          curFoldTraining = X[training_indices,:]\n",
        "          curFoldTrainingLabels = Y[training_indices,:]\n",
        "          curFoldValidation = X[validation_indices,:]\n",
        "          curFoldValidationLabels = Y[validation_indices,:]\n",
        "\n",
        "        # print(\"Current fold training: \\n\", curFoldTraining) # if you want to see the sliced array for training\n",
        "        print(f\"Current fold training shape: {curFoldTraining.shape}\")\n",
        "        # print(\"Current fold validation: \\n\", curFoldValidation) # if you want to see the sliced array for validation\n",
        "        print(f\"Current fold validation shape: {curFoldValidation.shape}\")\n",
        "\n",
        "        # Fit our model with training\n",
        "        \"\"\"TODO: use our naive bayes classifier's fit function to fit our model to our training set\"\"\"\n",
        "        classifier.fit(curFoldTraining, curFoldTrainingLabels)\n",
        "        # TO UPDATE: classifier.fit(Xtrain, curFoldTrainingLabels)\n",
        "\n",
        "        # Predict the labels here\n",
        "        \"\"\"TODO: use our predict function to predict the labels on the validation set\"\"\"\n",
        "        curFoldPredictedLabels = classifier.predict(curFoldValidation)\n",
        "\n",
        "        # Calculate accuracy for this fold\n",
        "        \"\"\"TODO: find accuracy\"\"\"\n",
        "        count = 0\n",
        "        for i in range(0, curFoldPredictedLabels.shape[0]):\n",
        "            if curFoldValidationLabels[i] == curFoldPredictedLabels[i]:\n",
        "                count += 1\n",
        "        currentFoldAccuracy = (count/curFoldPredictedLabels.shape[0])*100\n",
        "        print(f\"Accuracy for fold {foldCount + 1}: {currentFoldAccuracy}%\\n\")\n",
        "\n",
        "\n",
        "        # Add the accuracy of this fold to the dictionary\n",
        "        fold_Accuracy_Dict[str(foldCount + 1)] = float(currentFoldAccuracy)\n",
        "\n",
        "        # Update fold error tracker & fold accuracy tracker\n",
        "        foldErrorSum = foldErrorSum + (100.0 - currentFoldAccuracy)\n",
        "        foldAccuracySum = foldAccuracySum + currentFoldAccuracy\n",
        "\n",
        "        # Update fold number\n",
        "        foldCount += 1\n",
        "\n",
        "    # Graph the fold accuracies with the dictionary\n",
        "    plt.figure(figsize=(7,7))\n",
        "    plt.bar(fold_Accuracy_Dict.keys(), fold_Accuracy_Dict.values(), 0.3, color='b')\n",
        "    plt.xlabel('Fold Number')\n",
        "    plt.ylabel('Accuracy %')\n",
        "    plt.title(\"K-Fold Accuracy Distribution of Current Model\")\n",
        "    plt.show()\n",
        "\n",
        "    # Display this model's avg accuracy for the K-Fold\n",
        "    avgAccuracyOfThisModel = float(float(foldAccuracySum)/float(foldCount))\n",
        "    print(f\"\\nAvg accuracy for this model is: {avgAccuracyOfThisModel} %\")\n",
        "\n",
        "    # Display this model's avg error for the K-Fold\n",
        "    avgErrorOfThisModel = float(float(foldErrorSum)/float(foldCount))\n",
        "    print(f\"Avg error for this model is: {avgErrorOfThisModel} %\\n\")\n",
        "\n",
        "    # Returning the avg error, fold accuracy dictionary, and model accuracy\n",
        "    return avgErrorOfThisModel, avgAccuracyOfThisModel, fold_Accuracy_Dict"
      ],
      "execution_count": 40,
      "outputs": []
    },
    {
      "cell_type": "markdown",
      "metadata": {
        "id": "b77D5-pHzRzv"
      },
      "source": [
        "# Selected Pipeline & Estimator"
      ]
    },
    {
      "cell_type": "markdown",
      "metadata": {
        "id": "ndpmQo1ClppS"
      },
      "source": [
        "Pipeline Multinomial Naive Bayes"
      ]
    },
    {
      "cell_type": "code",
      "metadata": {
        "id": "nau7yMPmlqF-"
      },
      "source": [
        "# Vectorizer object for linear svc\n",
        "myVectorizer4 = CountVectorizer(binary=False, max_df=1.0, min_df=0.0, stop_words=myStopWords, ngram_range=(1,1), max_features=None)\n",
        "\n",
        "# TFIDF normalizer\n",
        "tfidfNormalizer4 = TfidfTransformer(norm='l2', use_idf=True, smooth_idf=True, sublinear_tf=False)\n",
        "\n",
        "# Normalizer object for  linear svc\n",
        "normalizer4 = Normalizer()\n",
        "\n",
        "# Create our non binary training vector of word frequencies\n",
        "training_vectors4 = myVectorizer4.fit_transform(Xtraining)\n",
        "\n",
        "# Normalize with l2 so values are between 0 and 1\n",
        "training_vectors4_tfidf_normalized = tfidfNormalizer4.fit_transform(training_vectors4)\n",
        "training_vectors4_normalized = normalizer4.fit_transform(training_vectors4)\n",
        "\n",
        "# Now select our best features based on chi squared evaluation \n",
        "training_vectors4_normalized_new = SelectKBest(chi2, k=7500).fit_transform(training_vectors4_normalized, Y)\n",
        "training_vectors4_tfidf_normalized_new = SelectKBest(chi2, k=8500).fit_transform(training_vectors4_tfidf_normalized, Y)"
      ],
      "execution_count": 41,
      "outputs": []
    },
    {
      "cell_type": "markdown",
      "metadata": {
        "id": "39TsNH5L98Qr"
      },
      "source": [
        "Pipeline LinearSVC"
      ]
    },
    {
      "cell_type": "code",
      "metadata": {
        "id": "u2i12AfT9_N0"
      },
      "source": [
        "# Vectorizer object for linear svc\n",
        "myVectorizer3 = CountVectorizer(binary=False, max_df=1.0, min_df=0.0, stop_words=myStopWords, ngram_range=(1,1), max_features=None)\n",
        "\n",
        "# TFIDF normalizer\n",
        "tfidfNormalizer3 = TfidfTransformer(norm='l2', use_idf=True, smooth_idf=True, sublinear_tf=False)\n",
        "\n",
        "# Normalizer object for  linear svc\n",
        "normalizer3 = Normalizer()\n",
        "\n",
        "# Create our non binary training vector of word frequencies\n",
        "training_vectors3 = myVectorizer3.fit_transform(Xtraining)\n",
        "\n",
        "# Normalize with l2 so values are between 0 and 1\n",
        "training_vectors3_tfidf_normalized = tfidfNormalizer3.fit_transform(training_vectors3)\n",
        "training_vectors3_normalized = normalizer3.fit_transform(training_vectors3)\n",
        "\n",
        "# Now select our best features based on chi squared evaluation \n",
        "training_vectors3_normalized_new = SelectKBest(chi2, k=15000).fit_transform(training_vectors3_normalized, Y)\n",
        "training_vectors3_tfidf_normalized_new = SelectKBest(chi2, k=15000).fit_transform(training_vectors3_tfidf_normalized, Y)\n"
      ],
      "execution_count": 42,
      "outputs": []
    },
    {
      "cell_type": "markdown",
      "metadata": {
        "id": "n-9WnrDAbDw3"
      },
      "source": [
        "Pipeline Bernoulli Naive Bayes"
      ]
    },
    {
      "cell_type": "code",
      "metadata": {
        "id": "4gerddIqzamt",
        "outputId": "e931d0ab-a517-4834-ebd2-d6a64e8d2096",
        "colab": {
          "base_uri": "https://localhost:8080/"
        }
      },
      "source": [
        "# My selected feature vectorization paraemeters and instance\n",
        "# Keep in mind to have stemming when predicting on test set\n",
        "# tokenizer=MyStemTokenizer()\n",
        "myVectorizer1 = CountVectorizer(binary=False, max_df=1.0, min_df=0.0, stop_words=myStopWords, ngram_range=(1,1), max_features=None)\n",
        "\n",
        "# TFIDF normalizer\n",
        "tfidfNormalizer1 = TfidfTransformer(norm='l2', use_idf=True, smooth_idf=True, sublinear_tf=False)\n",
        "\n",
        "# Making my training binary vectors\n",
        "training_vectors1 = myVectorizer1.fit_transform(Xtraining)\n",
        "\n",
        "# TFIDF normalizing\n",
        "training_vectors1_tfidf_normalized = tfidfNormalizer1.fit_transform(training_vectors1)\n",
        "\n",
        "# Using Sklearns function to help us select the top features\n",
        "training_vectors1_tfidf_normalized_new = SelectKBest(chi2, k=8000).fit_transform(training_vectors1_tfidf_normalized, Y)\n",
        "\n",
        "# Look at feature names for both and extract and save a list of them for viewing\n",
        "myFeatures1 = myVectorizer1.get_feature_names()\n",
        "path = \"/content/myDrive/My Drive/ECSE_551_Machine_Learning/TextClassification/features.txt\"\n",
        "# Writing the feaure names to a text file\n",
        "with open(path, mode='w') as file:\n",
        "  for item in myFeatures1:\n",
        "    file.write(\"%s\\n\" % item)\n",
        "print(\"Finished writing our feature names to the text files for viewing!\")"
      ],
      "execution_count": 43,
      "outputs": [
        {
          "output_type": "stream",
          "text": [
            "Finished writing our feature names to the text files for viewing!\n"
          ],
          "name": "stdout"
        }
      ]
    },
    {
      "cell_type": "code",
      "metadata": {
        "id": "QLBL0It2DF2_"
      },
      "source": [
        "# myVectorizer = CountVectorizer(binary=False, max_df=1.0, min_df=0.0, stop_words=myStopWords, ngram_range=(1,1), max_features=None)\n",
        "# mytfidfTransformer = TfidfTransformer(norm='l2', use_idf=True, smooth_idf=True, sublinear_tf=False)\n",
        "# path = \"/content/myDrive/My Drive/ECSE_551_Machine_Learning/TextClassification/ensembleOut.csv\"\n",
        "\n",
        "# # split into trianing and val (1 fold for our kfold algorithm)\n",
        "# Xtr = Xtraining[0:9264,]\n",
        "# Xt = Xtraining[9265:11581,]\n",
        "# Ytr = np.reshape(Y[0:9264,0], (Y[0:9264,0].shape[0],1))\n",
        "# Yt = Y[9265:11581,0]\n",
        "\n",
        "# # Trying to see \n",
        "# # ensembleBagging(myVectorizer, mytfidfTransformer, 8000, 0.01, Xtraining, Y, Xtest, 10, path)\n",
        "# finalLabel = ensembleBagging(myVectorizer, mytfidfTransformer, 8000, 0.01, Xtr, Ytr, Xt, 10, path)\n",
        "# count = 0\n",
        "# for i in range(finalLabel.shape[0]):\n",
        "#   if (finalLabel[i] == Yt[i]):\n",
        "#     count += 1\n",
        "\n",
        "# print(f\"Ensemble accuracy: {(count/finalLabel.shape[0])*100}\")\n",
        "\n",
        "\n"
      ],
      "execution_count": 44,
      "outputs": []
    },
    {
      "cell_type": "markdown",
      "metadata": {
        "id": "YqY-re2qT6Zf"
      },
      "source": [
        "# Feature Selection Evaluations"
      ]
    },
    {
      "cell_type": "markdown",
      "metadata": {
        "id": "pIwy-PJhUCIP"
      },
      "source": [
        "Various Feature Selection Methods including MUTUAL INFORMATION for different classifiers \n",
        "\n"
      ]
    },
    {
      "cell_type": "code",
      "metadata": {
        "id": "iMHJU0khUrvL"
      },
      "source": [
        "# My selected feature vectorization paraemeters and instance\n",
        "# Keep in mind to have stemming when predicting on test set\n",
        "# tokenizer=MyStemTokenizer()\n",
        "myVectorizer = CountVectorizer(binary=False, max_df=1.0, min_df=0.0, stop_words=myStopWords, ngram_range=(1,1), max_features=None)\n",
        "\n",
        "# TFIDF normalizer\n",
        "tfidfNormalizer = TfidfTransformer(norm='l2', use_idf=True, smooth_idf=True, sublinear_tf=False)\n",
        "\n",
        "# Making my training binary vectors\n",
        "training_vectors = myVectorizer.fit_transform(Xtraining)\n",
        "\n",
        "# TFIDF normalizing\n",
        "training_vectors_tfidf_normalized = tfidfNormalizer.fit_transform(training_vectors)\n",
        "\n",
        "# Using Sklearns feature selection functions to help us select the top features\n",
        "featureSelectionMethods = [chi2, f_classif, mutual_info_classif, f_regression, mutual_info_regression]\n",
        "accuracyList = []\n",
        "for selectionMethod in featureSelectionMethods:\n",
        "  print(f\"Starting: {str(selectionMethod)}.......\")\n",
        "  training_vectors_tfidf_normalized_new = SelectKBest(score_func=selectionMethod, k=8000).fit_transform(training_vectors_tfidf_normalized, np.ravel(Y))\n",
        "  _,avgAccuracy,_ = run_K_Fold_CrossValidation(training_vectors_tfidf_normalized_new, Y, Bernoulli_NB(alpha=0.01), numFolds=5)\n",
        "  accuracyList.append(avgAccuracy)\n"
      ],
      "execution_count": 45,
      "outputs": []
    },
    {
      "cell_type": "code",
      "metadata": {
        "id": "A7SiJbk7-ihm"
      },
      "source": [
        "featureSelectionNames = [\"chi2\", \"f_classif\", \"mutual_info_classif\", \"f_regression\", \"mutual_info_regression\"]\n",
        "plt.figure(figsize=(8,8))\n",
        "plt.plot(featureSelectionNames, accuracyList)\n",
        "plt.title(\"Naive Bayes Feature Selection Method Tunning with SelectKBest\")\n",
        "plt.xlabel(\"Feature Selection Method\")\n",
        "plt.ylabel(\"Average Model Accuracy\")\n",
        "plt.show()"
      ],
      "execution_count": 46,
      "outputs": []
    },
    {
      "cell_type": "markdown",
      "metadata": {
        "id": "RZcKBeYg9v0v"
      },
      "source": [
        "Bernouilli Naive Bayes & Best Pipeline & Various Feature Selection Methods & SelectPercentile"
      ]
    },
    {
      "cell_type": "code",
      "metadata": {
        "id": "XiBYH5NM9-Yv"
      },
      "source": [
        "# My selected feature vectorization paraemeters and instance\n",
        "# Keep in mind to have stemming when predicting on test set\n",
        "# tokenizer=MyStemTokenizer()\n",
        "myVectorizer = CountVectorizer(binary=False, max_df=1.0, min_df=0.0, stop_words=myStopWords, ngram_range=(1,1), max_features=None)\n",
        "\n",
        "# TFIDF normalizer\n",
        "tfidfNormalizer = TfidfTransformer(norm='l2', use_idf=True, smooth_idf=True, sublinear_tf=False)\n",
        "\n",
        "# Making my training binary vectors\n",
        "training_vectors = myVectorizer.fit_transform(Xtraining)\n",
        "\n",
        "# TFIDF normalizing\n",
        "training_vectors_tfidf_normalized = tfidfNormalizer.fit_transform(training_vectors)\n",
        "\n",
        "# Using Sklearns feature selection functions to help us select the top features\n",
        "featureSelectionMethods = [chi2, f_classif, mutual_info_classif, f_regression]\n",
        "accuracyList = []\n",
        "for selectionMethod in featureSelectionMethods:\n",
        "  print(f\"Starting: {str(selectionMethod)}.......\")\n",
        "  training_vectors_tfidf_normalized_new = SelectPercentile(score_func=selectionMethod, percentile=25).fit_transform(training_vectors_tfidf_normalized, np.ravel(Y))\n",
        "  _,avgAccuracy,_ = run_K_Fold_CrossValidation(training_vectors_tfidf_normalized_new, Y, Bernoulli_NB(alpha=0.01), numFolds=5)\n",
        "  accuracyList.append(avgAccuracy)\n",
        "\n"
      ],
      "execution_count": 47,
      "outputs": []
    },
    {
      "cell_type": "code",
      "metadata": {
        "id": "iMxPhYQM-eIg"
      },
      "source": [
        "featureSelectionNames = [\"chi2\", \"f_classif\", \"mutual_info_classif\", \"f_regression\"]\n",
        "# Plotting feature selection methods vs accuracy \n",
        "plt.figure(figsize=(8,8))\n",
        "plt.plot(featureSelectionNames, accuracyList)\n",
        "plt.title(\"Naive Bayes Feature Selection Method Tunning with SelectPercentile\")\n",
        "plt.xlabel(\"Feature Selection Method\")\n",
        "plt.ylabel(\"Average Model Accuracy\")\n",
        "plt.show()"
      ],
      "execution_count": 48,
      "outputs": []
    },
    {
      "cell_type": "markdown",
      "metadata": {
        "id": "OkpQSAfs7BpF"
      },
      "source": [
        "# SKLearn Ensemble Bagging"
      ]
    },
    {
      "cell_type": "code",
      "metadata": {
        "id": "aCxUqOzg7HXr",
        "outputId": "d9b86502-6020-4689-b529-ea14641b174d",
        "colab": {
          "base_uri": "https://localhost:8080/",
          "height": 1000
        }
      },
      "source": [
        "# Vectorizer object for linear svc\n",
        "myVectorizer4 = CountVectorizer(binary=False, max_df=1.0, min_df=0.0, stop_words=myStopWords, ngram_range=(1,1), max_features=None)\n",
        "\n",
        "# TFIDF normalizer\n",
        "tfidfNormalizer4 = TfidfTransformer(norm='l2', use_idf=True, smooth_idf=True, sublinear_tf=False)\n",
        "\n",
        "# Normalizer object for  linear svc\n",
        "normalizer4 = Normalizer()\n",
        "\n",
        "# Create our non binary training vector of word frequencies\n",
        "training_vectors4 = myVectorizer4.fit_transform(Xtraining)\n",
        "\n",
        "# Normalize with l2 so values are between 0 and 1\n",
        "training_vectors4_tfidf_normalized = tfidfNormalizer4.fit_transform(training_vectors4)\n",
        "training_vectors4_normalized = normalizer4.fit_transform(training_vectors4)\n",
        "\n",
        "# Now select our best features based on chi squared evaluation \n",
        "training_vectors4_normalized_new = SelectKBest(chi2, k=7500).fit_transform(training_vectors4_normalized, Y)\n",
        "training_vectors4_tfidf_normalized_new = SelectKBest(chi2, k=8500).fit_transform(training_vectors4_tfidf_normalized, Y)\n",
        "\n",
        "# Defining ensemble classifier from sklearn\n",
        "clf2 = BaggingClassifier(base_estimator=MultinomialNB(alpha=0.02, fit_prior=False), n_estimators=20, random_state=0)\n",
        "\n",
        "# Run k fold cross validation\n",
        "run_K_Fold_CrossValidation(training_vectors4_tfidf_normalized_new, np.ravel(Y), clf2, numFolds=5)\n"
      ],
      "execution_count": 49,
      "outputs": [
        {
          "output_type": "stream",
          "text": [
            "Number of splitting iterations: 5\n",
            "\n",
            "Starting fold 1.....\n",
            "Current fold training shape: (9265, 8500)\n",
            "Current fold validation shape: (2317, 8500)\n",
            "Accuracy for fold 1: 90.59128182995254%\n",
            "\n",
            "Starting fold 2.....\n",
            "Current fold training shape: (9265, 8500)\n",
            "Current fold validation shape: (2317, 8500)\n",
            "Accuracy for fold 2: 91.36814846784635%\n",
            "\n",
            "Starting fold 3.....\n",
            "Current fold training shape: (9266, 8500)\n",
            "Current fold validation shape: (2316, 8500)\n",
            "Accuracy for fold 3: 91.53713298791018%\n",
            "\n",
            "Starting fold 4.....\n",
            "Current fold training shape: (9266, 8500)\n",
            "Current fold validation shape: (2316, 8500)\n",
            "Accuracy for fold 4: 91.83937823834198%\n",
            "\n",
            "Starting fold 5.....\n",
            "Current fold training shape: (9266, 8500)\n",
            "Current fold validation shape: (2316, 8500)\n",
            "Accuracy for fold 5: 92.14162348877375%\n",
            "\n"
          ],
          "name": "stdout"
        },
        {
          "output_type": "display_data",
          "data": {
            "image/png": "[encoded data removed]",
            "text/plain": [
              "<Figure size 504x504 with 1 Axes>"
            ]
          },
          "metadata": {
            "tags": [],
            "needs_background": "light"
          }
        },
        {
          "output_type": "stream",
          "text": [
            "\n",
            "Avg accuracy for this model is: 91.49551300256495 %\n",
            "Avg error for this model is: 8.504486997435041 %\n",
            "\n"
          ],
          "name": "stdout"
        },
        {
          "output_type": "execute_result",
          "data": {
            "text/plain": [
              "(8.504486997435041,\n",
              " 91.49551300256495,\n",
              " {'1': 90.59128182995254,\n",
              "  '2': 91.36814846784635,\n",
              "  '3': 91.53713298791018,\n",
              "  '4': 91.83937823834198,\n",
              "  '5': 92.14162348877375})"
            ]
          },
          "metadata": {
            "tags": []
          },
          "execution_count": 49
        }
      ]
    },
    {
      "cell_type": "code",
      "metadata": {
        "id": "_NnrXQVtAGd3",
        "outputId": "ce6578bf-6526-4a79-d709-a1c0849664dd",
        "colab": {
          "base_uri": "https://localhost:8080/",
          "height": 1000
        }
      },
      "source": [
        "# My selected feature vectorization paraemeters and instance\n",
        "# Keep in mind to have stemming when predicting on test set\n",
        "# tokenizer=MyStemTokenizer()\n",
        "myVectorizer1 = CountVectorizer(binary=False, max_df=1.0, min_df=0.0, stop_words=myStopWords, ngram_range=(1,1), max_features=None)\n",
        "\n",
        "# TFIDF normalizer\n",
        "tfidfNormalizer1 = TfidfTransformer(norm='l2', use_idf=True, smooth_idf=True, sublinear_tf=False)\n",
        "\n",
        "# Making my training binary vectors\n",
        "training_vectors1 = myVectorizer1.fit_transform(Xtraining)\n",
        "\n",
        "# TFIDF normalizing\n",
        "training_vectors1_tfidf_normalized = tfidfNormalizer1.fit_transform(training_vectors1)\n",
        "\n",
        "# Using Sklearns function to help us select the top features\n",
        "training_vectors1_tfidf_normalized_new = SelectKBest(chi2, k=8000).fit_transform(training_vectors1_tfidf_normalized, Y)\n",
        "\n",
        "# Defining ensemble classifier from sklearn\n",
        "clf1 = BaggingClassifier(base_estimator=Bernoulli_NB(alpha=0.01), n_estimators=20, random_state=0)\n",
        "\n",
        "# Run k fold cross validation\n",
        "run_K_Fold_CrossValidation(training_vectors1_tfidf_normalized_new, np.ravel(Y), clf1, numFolds=5)"
      ],
      "execution_count": 50,
      "outputs": [
        {
          "output_type": "stream",
          "text": [
            "Number of splitting iterations: 5\n",
            "\n",
            "Starting fold 1.....\n",
            "Current fold training shape: (9265, 8000)\n",
            "Current fold validation shape: (2317, 8000)\n",
            "Starting the Predicting Function....\n"
          ],
          "name": "stdout"
        },
        {
          "output_type": "stream",
          "text": [
            "/usr/local/lib/python3.6/dist-packages/ipykernel_launcher.py:137: DeprecationWarning: scipy.nonzero is deprecated and will be removed in SciPy 2.0.0, use numpy.nonzero instead\n",
            "/usr/local/lib/python3.6/dist-packages/ipykernel_launcher.py:138: DeprecationWarning: in the future out of bounds indices will raise an error instead of being ignored by `numpy.delete`.\n"
          ],
          "name": "stderr"
        },
        {
          "output_type": "stream",
          "text": [
            "Time taken for predict function: 6.128404378890991\n",
            "Starting the Predicting Function....\n",
            "Time taken for predict function: 6.1150126457214355\n",
            "Starting the Predicting Function....\n",
            "Time taken for predict function: 6.0943334102630615\n",
            "Starting the Predicting Function....\n",
            "Time taken for predict function: 6.09052848815918\n",
            "Starting the Predicting Function....\n",
            "Time taken for predict function: 6.024214744567871\n",
            "Starting the Predicting Function....\n",
            "Time taken for predict function: 6.047936916351318\n",
            "Starting the Predicting Function....\n",
            "Time taken for predict function: 6.1270318031311035\n",
            "Starting the Predicting Function....\n",
            "Time taken for predict function: 6.08565354347229\n",
            "Starting the Predicting Function....\n",
            "Time taken for predict function: 6.10057258605957\n",
            "Starting the Predicting Function....\n",
            "Time taken for predict function: 6.089900970458984\n",
            "Starting the Predicting Function....\n",
            "Time taken for predict function: 6.091604232788086\n",
            "Starting the Predicting Function....\n",
            "Time taken for predict function: 6.192521810531616\n",
            "Starting the Predicting Function....\n",
            "Time taken for predict function: 6.061562538146973\n",
            "Starting the Predicting Function....\n",
            "Time taken for predict function: 6.133311748504639\n",
            "Starting the Predicting Function....\n",
            "Time taken for predict function: 6.138210773468018\n",
            "Starting the Predicting Function....\n",
            "Time taken for predict function: 6.095057010650635\n",
            "Starting the Predicting Function....\n",
            "Time taken for predict function: 6.141935110092163\n",
            "Starting the Predicting Function....\n",
            "Time taken for predict function: 6.110235929489136\n",
            "Starting the Predicting Function....\n",
            "Time taken for predict function: 6.040802717208862\n",
            "Starting the Predicting Function....\n",
            "Time taken for predict function: 6.08812952041626\n",
            "Accuracy for fold 1: 89.98705222270176%\n",
            "\n",
            "Starting fold 2.....\n",
            "Current fold training shape: (9265, 8000)\n",
            "Current fold validation shape: (2317, 8000)\n",
            "Starting the Predicting Function....\n"
          ],
          "name": "stdout"
        },
        {
          "output_type": "stream",
          "text": [
            "/usr/local/lib/python3.6/dist-packages/ipykernel_launcher.py:137: DeprecationWarning: scipy.nonzero is deprecated and will be removed in SciPy 2.0.0, use numpy.nonzero instead\n",
            "/usr/local/lib/python3.6/dist-packages/ipykernel_launcher.py:138: DeprecationWarning: in the future out of bounds indices will raise an error instead of being ignored by `numpy.delete`.\n"
          ],
          "name": "stderr"
        },
        {
          "output_type": "stream",
          "text": [
            "Time taken for predict function: 6.1360251903533936\n",
            "Starting the Predicting Function....\n",
            "Time taken for predict function: 6.098041534423828\n",
            "Starting the Predicting Function....\n",
            "Time taken for predict function: 6.089860200881958\n",
            "Starting the Predicting Function....\n",
            "Time taken for predict function: 6.05401873588562\n",
            "Starting the Predicting Function....\n",
            "Time taken for predict function: 6.082384347915649\n",
            "Starting the Predicting Function....\n",
            "Time taken for predict function: 6.041102409362793\n",
            "Starting the Predicting Function....\n",
            "Time taken for predict function: 6.089333534240723\n",
            "Starting the Predicting Function....\n",
            "Time taken for predict function: 6.0588459968566895\n",
            "Starting the Predicting Function....\n",
            "Time taken for predict function: 6.144900321960449\n",
            "Starting the Predicting Function....\n",
            "Time taken for predict function: 6.0622899532318115\n",
            "Starting the Predicting Function....\n",
            "Time taken for predict function: 6.063958168029785\n",
            "Starting the Predicting Function....\n",
            "Time taken for predict function: 6.060235261917114\n",
            "Starting the Predicting Function....\n",
            "Time taken for predict function: 6.104342937469482\n",
            "Starting the Predicting Function....\n",
            "Time taken for predict function: 6.074382543563843\n",
            "Starting the Predicting Function....\n",
            "Time taken for predict function: 6.064229488372803\n",
            "Starting the Predicting Function....\n",
            "Time taken for predict function: 6.1110382080078125\n",
            "Starting the Predicting Function....\n",
            "Time taken for predict function: 6.079930067062378\n",
            "Starting the Predicting Function....\n",
            "Time taken for predict function: 6.225976943969727\n",
            "Starting the Predicting Function....\n",
            "Time taken for predict function: 6.164881706237793\n",
            "Starting the Predicting Function....\n",
            "Time taken for predict function: 6.078091621398926\n",
            "Accuracy for fold 2: 91.23867069486404%\n",
            "\n",
            "Starting fold 3.....\n",
            "Current fold training shape: (9266, 8000)\n",
            "Current fold validation shape: (2316, 8000)\n",
            "Starting the Predicting Function....\n"
          ],
          "name": "stdout"
        },
        {
          "output_type": "stream",
          "text": [
            "/usr/local/lib/python3.6/dist-packages/ipykernel_launcher.py:137: DeprecationWarning: scipy.nonzero is deprecated and will be removed in SciPy 2.0.0, use numpy.nonzero instead\n",
            "/usr/local/lib/python3.6/dist-packages/ipykernel_launcher.py:138: DeprecationWarning: in the future out of bounds indices will raise an error instead of being ignored by `numpy.delete`.\n"
          ],
          "name": "stderr"
        },
        {
          "output_type": "stream",
          "text": [
            "Time taken for predict function: 6.081785678863525\n",
            "Starting the Predicting Function....\n",
            "Time taken for predict function: 6.0773375034332275\n",
            "Starting the Predicting Function....\n",
            "Time taken for predict function: 6.063917636871338\n",
            "Starting the Predicting Function....\n",
            "Time taken for predict function: 6.08913254737854\n",
            "Starting the Predicting Function....\n",
            "Time taken for predict function: 6.092252492904663\n",
            "Starting the Predicting Function....\n",
            "Time taken for predict function: 6.091034173965454\n",
            "Starting the Predicting Function....\n",
            "Time taken for predict function: 6.1383256912231445\n",
            "Starting the Predicting Function....\n",
            "Time taken for predict function: 6.074397563934326\n",
            "Starting the Predicting Function....\n",
            "Time taken for predict function: 6.089242458343506\n",
            "Starting the Predicting Function....\n",
            "Time taken for predict function: 6.095434904098511\n",
            "Starting the Predicting Function....\n",
            "Time taken for predict function: 6.085680961608887\n",
            "Starting the Predicting Function....\n",
            "Time taken for predict function: 6.073188304901123\n",
            "Starting the Predicting Function....\n",
            "Time taken for predict function: 6.120060682296753\n",
            "Starting the Predicting Function....\n",
            "Time taken for predict function: 6.1669604778289795\n",
            "Starting the Predicting Function....\n",
            "Time taken for predict function: 6.137341499328613\n",
            "Starting the Predicting Function....\n",
            "Time taken for predict function: 6.145626068115234\n",
            "Starting the Predicting Function....\n",
            "Time taken for predict function: 6.127574443817139\n",
            "Starting the Predicting Function....\n",
            "Time taken for predict function: 6.118177890777588\n",
            "Starting the Predicting Function....\n",
            "Time taken for predict function: 6.089439392089844\n",
            "Starting the Predicting Function....\n",
            "Time taken for predict function: 6.100608587265015\n",
            "Accuracy for fold 3: 90.75993091537133%\n",
            "\n",
            "Starting fold 4.....\n",
            "Current fold training shape: (9266, 8000)\n",
            "Current fold validation shape: (2316, 8000)\n",
            "Starting the Predicting Function....\n"
          ],
          "name": "stdout"
        },
        {
          "output_type": "stream",
          "text": [
            "/usr/local/lib/python3.6/dist-packages/ipykernel_launcher.py:137: DeprecationWarning: scipy.nonzero is deprecated and will be removed in SciPy 2.0.0, use numpy.nonzero instead\n",
            "/usr/local/lib/python3.6/dist-packages/ipykernel_launcher.py:138: DeprecationWarning: in the future out of bounds indices will raise an error instead of being ignored by `numpy.delete`.\n"
          ],
          "name": "stderr"
        },
        {
          "output_type": "stream",
          "text": [
            "Time taken for predict function: 6.0894694328308105\n",
            "Starting the Predicting Function....\n",
            "Time taken for predict function: 6.104656934738159\n",
            "Starting the Predicting Function....\n",
            "Time taken for predict function: 6.087350845336914\n",
            "Starting the Predicting Function....\n",
            "Time taken for predict function: 6.0806779861450195\n",
            "Starting the Predicting Function....\n",
            "Time taken for predict function: 6.12214732170105\n",
            "Starting the Predicting Function....\n",
            "Time taken for predict function: 6.127332448959351\n",
            "Starting the Predicting Function....\n",
            "Time taken for predict function: 6.138596773147583\n",
            "Starting the Predicting Function....\n",
            "Time taken for predict function: 6.0524208545684814\n",
            "Starting the Predicting Function....\n",
            "Time taken for predict function: 6.081993341445923\n",
            "Starting the Predicting Function....\n",
            "Time taken for predict function: 6.054534435272217\n",
            "Starting the Predicting Function....\n",
            "Time taken for predict function: 6.074815511703491\n",
            "Starting the Predicting Function....\n",
            "Time taken for predict function: 6.084230184555054\n",
            "Starting the Predicting Function....\n",
            "Time taken for predict function: 6.075937509536743\n",
            "Starting the Predicting Function....\n",
            "Time taken for predict function: 6.070358753204346\n",
            "Starting the Predicting Function....\n",
            "Time taken for predict function: 6.1203086376190186\n",
            "Starting the Predicting Function....\n",
            "Time taken for predict function: 6.10192084312439\n",
            "Starting the Predicting Function....\n",
            "Time taken for predict function: 6.092311143875122\n",
            "Starting the Predicting Function....\n",
            "Time taken for predict function: 6.0871336460113525\n",
            "Starting the Predicting Function....\n",
            "Time taken for predict function: 6.090749502182007\n",
            "Starting the Predicting Function....\n",
            "Time taken for predict function: 6.22987961769104\n",
            "Accuracy for fold 4: 90.75993091537133%\n",
            "\n",
            "Starting fold 5.....\n",
            "Current fold training shape: (9266, 8000)\n",
            "Current fold validation shape: (2316, 8000)\n",
            "Starting the Predicting Function....\n"
          ],
          "name": "stdout"
        },
        {
          "output_type": "stream",
          "text": [
            "/usr/local/lib/python3.6/dist-packages/ipykernel_launcher.py:137: DeprecationWarning: scipy.nonzero is deprecated and will be removed in SciPy 2.0.0, use numpy.nonzero instead\n",
            "/usr/local/lib/python3.6/dist-packages/ipykernel_launcher.py:138: DeprecationWarning: in the future out of bounds indices will raise an error instead of being ignored by `numpy.delete`.\n"
          ],
          "name": "stderr"
        },
        {
          "output_type": "stream",
          "text": [
            "Time taken for predict function: 6.0919153690338135\n",
            "Starting the Predicting Function....\n",
            "Time taken for predict function: 6.095502138137817\n",
            "Starting the Predicting Function....\n",
            "Time taken for predict function: 6.093400239944458\n",
            "Starting the Predicting Function....\n",
            "Time taken for predict function: 6.07521653175354\n",
            "Starting the Predicting Function....\n",
            "Time taken for predict function: 6.035213232040405\n",
            "Starting the Predicting Function....\n",
            "Time taken for predict function: 6.050443410873413\n",
            "Starting the Predicting Function....\n",
            "Time taken for predict function: 6.093638181686401\n",
            "Starting the Predicting Function....\n",
            "Time taken for predict function: 6.102128505706787\n",
            "Starting the Predicting Function....\n",
            "Time taken for predict function: 6.052196979522705\n",
            "Starting the Predicting Function....\n",
            "Time taken for predict function: 6.0340495109558105\n",
            "Starting the Predicting Function....\n",
            "Time taken for predict function: 6.086772918701172\n",
            "Starting the Predicting Function....\n",
            "Time taken for predict function: 6.020426273345947\n",
            "Starting the Predicting Function....\n",
            "Time taken for predict function: 6.094437599182129\n",
            "Starting the Predicting Function....\n",
            "Time taken for predict function: 6.057794570922852\n",
            "Starting the Predicting Function....\n",
            "Time taken for predict function: 6.092195272445679\n",
            "Starting the Predicting Function....\n",
            "Time taken for predict function: 6.113972902297974\n",
            "Starting the Predicting Function....\n",
            "Time taken for predict function: 6.142057418823242\n",
            "Starting the Predicting Function....\n",
            "Time taken for predict function: 6.038076400756836\n",
            "Starting the Predicting Function....\n",
            "Time taken for predict function: 6.0322771072387695\n",
            "Starting the Predicting Function....\n",
            "Time taken for predict function: 6.076916217803955\n",
            "Accuracy for fold 5: 90.88946459412782%\n",
            "\n"
          ],
          "name": "stdout"
        },
        {
          "output_type": "display_data",
          "data": {
            "image/png": "[encoded data removed]",
            "text/plain": [
              "<Figure size 504x504 with 1 Axes>"
            ]
          },
          "metadata": {
            "tags": [],
            "needs_background": "light"
          }
        },
        {
          "output_type": "stream",
          "text": [
            "\n",
            "Avg accuracy for this model is: 90.72700986848727 %\n",
            "Avg error for this model is: 9.272990131512746 %\n",
            "\n"
          ],
          "name": "stdout"
        },
        {
          "output_type": "execute_result",
          "data": {
            "text/plain": [
              "(9.272990131512746,\n",
              " 90.72700986848727,\n",
              " {'1': 89.98705222270176,\n",
              "  '2': 91.23867069486404,\n",
              "  '3': 90.75993091537133,\n",
              "  '4': 90.75993091537133,\n",
              "  '5': 90.88946459412782})"
            ]
          },
          "metadata": {
            "tags": []
          },
          "execution_count": 50
        }
      ]
    },
    {
      "cell_type": "markdown",
      "metadata": {
        "id": "3PXmZcVPbf3e"
      },
      "source": [
        "Classifier Instances"
      ]
    },
    {
      "cell_type": "code",
      "metadata": {
        "id": "CSRs3tTnbfId"
      },
      "source": [
        "# Instantiating our classifier instances\n",
        "nb1 = Bernoulli_NB(0.01)\n",
        "nb2 = Bernoulli_NB(0.05)\n",
        "linearsvc = LinearSVC(max_iter=1000000)\n",
        "mnb = MultinomialNB(alpha=0.02, fit_prior=False)"
      ],
      "execution_count": 51,
      "outputs": []
    },
    {
      "cell_type": "markdown",
      "metadata": {
        "id": "ZLg0tjo_bIRq"
      },
      "source": [
        "1) K-Fold Cross Validation: SKLearn Feature Selection & Max_features = None & Bernoulli NB & TFIDF Transfromer normalized & Binary=False\n",
        "\n",
        "\n",
        "\n",
        "\n",
        "\n"
      ]
    },
    {
      "cell_type": "code",
      "metadata": {
        "id": "3ITlcvGiZNpW",
        "outputId": "d50f188c-6a5b-404a-f65f-53b9f78146e0",
        "colab": {
          "base_uri": "https://localhost:8080/",
          "height": 1000
        }
      },
      "source": [
        "# # Run our K_fold to see what our training accuracy is like\n",
        "run_K_Fold_CrossValidation(training_vectors1_tfidf_normalized_new, Y, nb1, numFolds=5)"
      ],
      "execution_count": 52,
      "outputs": [
        {
          "output_type": "stream",
          "text": [
            "Number of splitting iterations: 5\n",
            "\n",
            "Starting fold 1.....\n",
            "Current fold training shape: (9265, 8000)\n",
            "Current fold validation shape: (2317, 8000)\n",
            "Starting the Predicting Function....\n"
          ],
          "name": "stdout"
        },
        {
          "output_type": "stream",
          "text": [
            "/usr/local/lib/python3.6/dist-packages/ipykernel_launcher.py:137: DeprecationWarning: scipy.nonzero is deprecated and will be removed in SciPy 2.0.0, use numpy.nonzero instead\n",
            "/usr/local/lib/python3.6/dist-packages/ipykernel_launcher.py:138: DeprecationWarning: in the future out of bounds indices will raise an error instead of being ignored by `numpy.delete`.\n"
          ],
          "name": "stderr"
        },
        {
          "output_type": "stream",
          "text": [
            "Time taken for predict function: 6.233243227005005\n",
            "Accuracy for fold 1: 89.81441519205869%\n",
            "\n",
            "Starting fold 2.....\n",
            "Current fold training shape: (9265, 8000)\n",
            "Current fold validation shape: (2317, 8000)\n",
            "Starting the Predicting Function....\n"
          ],
          "name": "stdout"
        },
        {
          "output_type": "stream",
          "text": [
            "/usr/local/lib/python3.6/dist-packages/ipykernel_launcher.py:137: DeprecationWarning: scipy.nonzero is deprecated and will be removed in SciPy 2.0.0, use numpy.nonzero instead\n",
            "/usr/local/lib/python3.6/dist-packages/ipykernel_launcher.py:138: DeprecationWarning: in the future out of bounds indices will raise an error instead of being ignored by `numpy.delete`.\n"
          ],
          "name": "stderr"
        },
        {
          "output_type": "stream",
          "text": [
            "Time taken for predict function: 6.241454124450684\n",
            "Accuracy for fold 2: 90.89339663357791%\n",
            "\n",
            "Starting fold 3.....\n",
            "Current fold training shape: (9266, 8000)\n",
            "Current fold validation shape: (2316, 8000)\n",
            "Starting the Predicting Function....\n"
          ],
          "name": "stdout"
        },
        {
          "output_type": "stream",
          "text": [
            "/usr/local/lib/python3.6/dist-packages/ipykernel_launcher.py:137: DeprecationWarning: scipy.nonzero is deprecated and will be removed in SciPy 2.0.0, use numpy.nonzero instead\n",
            "/usr/local/lib/python3.6/dist-packages/ipykernel_launcher.py:138: DeprecationWarning: in the future out of bounds indices will raise an error instead of being ignored by `numpy.delete`.\n"
          ],
          "name": "stderr"
        },
        {
          "output_type": "stream",
          "text": [
            "Time taken for predict function: 6.200391054153442\n",
            "Accuracy for fold 3: 90.88946459412782%\n",
            "\n",
            "Starting fold 4.....\n",
            "Current fold training shape: (9266, 8000)\n",
            "Current fold validation shape: (2316, 8000)\n",
            "Starting the Predicting Function....\n"
          ],
          "name": "stdout"
        },
        {
          "output_type": "stream",
          "text": [
            "/usr/local/lib/python3.6/dist-packages/ipykernel_launcher.py:137: DeprecationWarning: scipy.nonzero is deprecated and will be removed in SciPy 2.0.0, use numpy.nonzero instead\n",
            "/usr/local/lib/python3.6/dist-packages/ipykernel_launcher.py:138: DeprecationWarning: in the future out of bounds indices will raise an error instead of being ignored by `numpy.delete`.\n"
          ],
          "name": "stderr"
        },
        {
          "output_type": "stream",
          "text": [
            "Time taken for predict function: 6.1869494915008545\n",
            "Accuracy for fold 4: 90.80310880829016%\n",
            "\n",
            "Starting fold 5.....\n",
            "Current fold training shape: (9266, 8000)\n",
            "Current fold validation shape: (2316, 8000)\n",
            "Starting the Predicting Function....\n"
          ],
          "name": "stdout"
        },
        {
          "output_type": "stream",
          "text": [
            "/usr/local/lib/python3.6/dist-packages/ipykernel_launcher.py:137: DeprecationWarning: scipy.nonzero is deprecated and will be removed in SciPy 2.0.0, use numpy.nonzero instead\n",
            "/usr/local/lib/python3.6/dist-packages/ipykernel_launcher.py:138: DeprecationWarning: in the future out of bounds indices will raise an error instead of being ignored by `numpy.delete`.\n"
          ],
          "name": "stderr"
        },
        {
          "output_type": "stream",
          "text": [
            "Time taken for predict function: 6.190799951553345\n",
            "Accuracy for fold 5: 91.10535405872193%\n",
            "\n"
          ],
          "name": "stdout"
        },
        {
          "output_type": "display_data",
          "data": {
            "image/png": "[encoded data removed]",
            "text/plain": [
              "<Figure size 504x504 with 1 Axes>"
            ]
          },
          "metadata": {
            "tags": [],
            "needs_background": "light"
          }
        },
        {
          "output_type": "stream",
          "text": [
            "\n",
            "Avg accuracy for this model is: 90.7011478573553 %\n",
            "Avg error for this model is: 9.2988521426447 %\n",
            "\n"
          ],
          "name": "stdout"
        },
        {
          "output_type": "execute_result",
          "data": {
            "text/plain": [
              "(9.2988521426447,\n",
              " 90.7011478573553,\n",
              " {'1': 89.81441519205869,\n",
              "  '2': 90.89339663357791,\n",
              "  '3': 90.88946459412782,\n",
              "  '4': 90.80310880829016,\n",
              "  '5': 91.10535405872193})"
            ]
          },
          "metadata": {
            "tags": []
          },
          "execution_count": 52
        }
      ]
    },
    {
      "cell_type": "markdown",
      "metadata": {
        "id": "liWBMOUzamHQ"
      },
      "source": [
        "2) K-Fold Cross Validation: SKLearn Feature Selection & Max_features = None & LinearSVC & TFIDF Transfromer normalized & Binary=False"
      ]
    },
    {
      "cell_type": "code",
      "metadata": {
        "id": "gDjIbaSGalWF",
        "outputId": "d0efd538-0054-4406-a560-e44411811181",
        "colab": {
          "base_uri": "https://localhost:8080/",
          "height": 1000
        }
      },
      "source": [
        "Ysvc = np.reshape(Y, (Y.shape[0],))\n",
        "run_K_Fold_CrossValidation(training_vectors3_tfidf_normalized_new, Ysvc, linearsvc, numFolds=5)"
      ],
      "execution_count": 53,
      "outputs": [
        {
          "output_type": "stream",
          "text": [
            "Number of splitting iterations: 5\n",
            "\n",
            "Starting fold 1.....\n",
            "Current fold training shape: (9265, 15000)\n",
            "Current fold validation shape: (2317, 15000)\n",
            "Accuracy for fold 1: 88.9943892965041%\n",
            "\n",
            "Starting fold 2.....\n",
            "Current fold training shape: (9265, 15000)\n",
            "Current fold validation shape: (2317, 15000)\n",
            "Accuracy for fold 2: 89.51230038843332%\n",
            "\n",
            "Starting fold 3.....\n",
            "Current fold training shape: (9266, 15000)\n",
            "Current fold validation shape: (2316, 15000)\n",
            "Accuracy for fold 3: 90.02590673575129%\n",
            "\n",
            "Starting fold 4.....\n",
            "Current fold training shape: (9266, 15000)\n",
            "Current fold validation shape: (2316, 15000)\n",
            "Accuracy for fold 4: 88.60103626943005%\n",
            "\n",
            "Starting fold 5.....\n",
            "Current fold training shape: (9266, 15000)\n",
            "Current fold validation shape: (2316, 15000)\n",
            "Accuracy for fold 5: 89.59412780656304%\n",
            "\n"
          ],
          "name": "stdout"
        },
        {
          "output_type": "display_data",
          "data": {
            "image/png": "[encoded data removed]",
            "text/plain": [
              "<Figure size 504x504 with 1 Axes>"
            ]
          },
          "metadata": {
            "tags": [],
            "needs_background": "light"
          }
        },
        {
          "output_type": "stream",
          "text": [
            "\n",
            "Avg accuracy for this model is: 89.34555209933636 %\n",
            "Avg error for this model is: 10.65444790066364 %\n",
            "\n"
          ],
          "name": "stdout"
        },
        {
          "output_type": "execute_result",
          "data": {
            "text/plain": [
              "(10.65444790066364,\n",
              " 89.34555209933636,\n",
              " {'1': 88.9943892965041,\n",
              "  '2': 89.51230038843332,\n",
              "  '3': 90.02590673575129,\n",
              "  '4': 88.60103626943005,\n",
              "  '5': 89.59412780656304})"
            ]
          },
          "metadata": {
            "tags": []
          },
          "execution_count": 53
        }
      ]
    },
    {
      "cell_type": "markdown",
      "metadata": {
        "id": "flAxufxfmxcA"
      },
      "source": [
        "3) K-Fold Cross Validation: SKLearn Feature Selection & \n",
        "Max_features = None & Multinomial Naive Bayes & TFIDF Transfromer normalized & Binary=False"
      ]
    },
    {
      "cell_type": "code",
      "metadata": {
        "id": "4ti8-0v_m7g-",
        "outputId": "37143da6-353a-46ef-b9c6-81aa43fa87d4",
        "colab": {
          "base_uri": "https://localhost:8080/",
          "height": 1000
        }
      },
      "source": [
        "Ymnb = np.reshape(Y, (Y.shape[0],))\n",
        "run_K_Fold_CrossValidation(training_vectors4_tfidf_normalized_new, Ymnb, mnb, numFolds=5)"
      ],
      "execution_count": 54,
      "outputs": [
        {
          "output_type": "stream",
          "text": [
            "Number of splitting iterations: 5\n",
            "\n",
            "Starting fold 1.....\n",
            "Current fold training shape: (9265, 8500)\n",
            "Current fold validation shape: (2317, 8500)\n",
            "Accuracy for fold 1: 90.20284851100561%\n",
            "\n",
            "Starting fold 2.....\n",
            "Current fold training shape: (9265, 8500)\n",
            "Current fold validation shape: (2317, 8500)\n",
            "Accuracy for fold 2: 90.85023737591713%\n",
            "\n",
            "Starting fold 3.....\n",
            "Current fold training shape: (9266, 8500)\n",
            "Current fold validation shape: (2316, 8500)\n",
            "Accuracy for fold 3: 91.75302245250433%\n",
            "\n",
            "Starting fold 4.....\n",
            "Current fold training shape: (9266, 8500)\n",
            "Current fold validation shape: (2316, 8500)\n",
            "Accuracy for fold 4: 91.66666666666666%\n",
            "\n",
            "Starting fold 5.....\n",
            "Current fold training shape: (9266, 8500)\n",
            "Current fold validation shape: (2316, 8500)\n",
            "Accuracy for fold 5: 91.66666666666666%\n",
            "\n"
          ],
          "name": "stdout"
        },
        {
          "output_type": "display_data",
          "data": {
            "image/png": "[encoded data removed]",
            "text/plain": [
              "<Figure size 504x504 with 1 Axes>"
            ]
          },
          "metadata": {
            "tags": [],
            "needs_background": "light"
          }
        },
        {
          "output_type": "stream",
          "text": [
            "\n",
            "Avg accuracy for this model is: 91.22788833455206 %\n",
            "Avg error for this model is: 8.772111665447923 %\n",
            "\n"
          ],
          "name": "stdout"
        },
        {
          "output_type": "execute_result",
          "data": {
            "text/plain": [
              "(8.772111665447923,\n",
              " 91.22788833455206,\n",
              " {'1': 90.20284851100561,\n",
              "  '2': 90.85023737591713,\n",
              "  '3': 91.75302245250433,\n",
              "  '4': 91.66666666666666,\n",
              "  '5': 91.66666666666666})"
            ]
          },
          "metadata": {
            "tags": []
          },
          "execution_count": 54
        }
      ]
    },
    {
      "cell_type": "markdown",
      "metadata": {
        "id": "2Zx_hPDIFcrX"
      },
      "source": [
        "4) K-Fold Cross Validation: SKLearn Feature Selection & Max_features = None & Multinomial Naive Bayes with Normalizer() & Binary=False\n",
        "\n"
      ]
    },
    {
      "cell_type": "code",
      "metadata": {
        "id": "WE2GEEwCFQ2Z",
        "outputId": "737a2612-44a8-431a-842a-0c056fd682e4",
        "colab": {
          "base_uri": "https://localhost:8080/",
          "height": 1000
        }
      },
      "source": [
        "Ymnb = np.reshape(Y, (Y.shape[0],))\n",
        "run_K_Fold_CrossValidation(training_vectors4_normalized_new, Ymnb, mnb, numFolds=5)"
      ],
      "execution_count": 55,
      "outputs": [
        {
          "output_type": "stream",
          "text": [
            "Number of splitting iterations: 5\n",
            "\n",
            "Starting fold 1.....\n",
            "Current fold training shape: (9265, 7500)\n",
            "Current fold validation shape: (2317, 7500)\n",
            "Accuracy for fold 1: 90.28916702632715%\n",
            "\n",
            "Starting fold 2.....\n",
            "Current fold training shape: (9265, 7500)\n",
            "Current fold validation shape: (2317, 7500)\n",
            "Accuracy for fold 2: 91.06603366422098%\n",
            "\n",
            "Starting fold 3.....\n",
            "Current fold training shape: (9266, 7500)\n",
            "Current fold validation shape: (2316, 7500)\n",
            "Accuracy for fold 3: 91.58031088082902%\n",
            "\n",
            "Starting fold 4.....\n",
            "Current fold training shape: (9266, 7500)\n",
            "Current fold validation shape: (2316, 7500)\n",
            "Accuracy for fold 4: 91.66666666666666%\n",
            "\n",
            "Starting fold 5.....\n",
            "Current fold training shape: (9266, 7500)\n",
            "Current fold validation shape: (2316, 7500)\n",
            "Accuracy for fold 5: 91.58031088082902%\n",
            "\n"
          ],
          "name": "stdout"
        },
        {
          "output_type": "display_data",
          "data": {
            "image/png": "[encoded data removed]",
            "text/plain": [
              "<Figure size 504x504 with 1 Axes>"
            ]
          },
          "metadata": {
            "tags": [],
            "needs_background": "light"
          }
        },
        {
          "output_type": "stream",
          "text": [
            "\n",
            "Avg accuracy for this model is: 91.23649782377457 %\n",
            "Avg error for this model is: 8.763502176225435 %\n",
            "\n"
          ],
          "name": "stdout"
        },
        {
          "output_type": "execute_result",
          "data": {
            "text/plain": [
              "(8.763502176225435,\n",
              " 91.23649782377457,\n",
              " {'1': 90.28916702632715,\n",
              "  '2': 91.06603366422098,\n",
              "  '3': 91.58031088082902,\n",
              "  '4': 91.66666666666666,\n",
              "  '5': 91.58031088082902})"
            ]
          },
          "metadata": {
            "tags": []
          },
          "execution_count": 55
        }
      ]
    },
    {
      "cell_type": "markdown",
      "metadata": {
        "id": "Cs3MESsUt0Kh"
      },
      "source": [
        "# Model Selection & Evaluation on Test set"
      ]
    },
    {
      "cell_type": "code",
      "metadata": {
        "id": "eJ2i5jHauUF3"
      },
      "source": [
        "# My model selection and eval on test function\n",
        "def selectSKLearnModelEvalOnTest(myVectorizer, mytfidfTransformer, classifier, numFeatures, Xtest, Xtraining, Y, path):\n",
        "  \n",
        "  # count vectorization\n",
        "  skLearnFeatureSelector = SelectKBest(chi2, k=numFeatures)\n",
        "  vectors_train = myVectorizer.fit_transform(Xtraining)\n",
        "  vectors_test = myVectorizer.transform(Xtest)\n",
        "\n",
        "  # tfidf normalization\n",
        "  vectors_train_tfidf_normalized = mytfidfTransformer.fit_transform(vectors_train)\n",
        "  vectors_test_tfidf_normalized = mytfidfTransformer.transform(vectors_test)\n",
        "\n",
        "  # selecting the top features using chi squared evaluation\n",
        "  vectors_train_tfidf_normalized_new = skLearnFeatureSelector.fit_transform(vectors_train_tfidf_normalized, Y)\n",
        "  vectors_test_tfidf_normalized_new = skLearnFeatureSelector.transform(vectors_test_tfidf_normalized)\n",
        "\n",
        "  # Evaluating using our classifier\n",
        "  classifier.fit(vectors_train_tfidf_normalized_new, Y)\n",
        "  predictedLabels = classifier.predict(vectors_test_tfidf_normalized_new)\n",
        "\n",
        "  # Convert number labels back into string labels\n",
        "  predictedLabelsStringFormat = []\n",
        "  for labelNum in predictedLabels:\n",
        "    # print(labelNum)\n",
        "    predictedLabelsStringFormat.append(numberToLabel(labelNum))\n",
        "\n",
        "  print(f\"Length of predicted list: {len(predictedLabelsStringFormat)}\")\n",
        "  # print(predictedLabelsStringFormat)\n",
        "\n",
        "  # Convert from list to pandas data frame\n",
        "  dfPredicted = pd.DataFrame(predictedLabelsStringFormat, columns=['subreddit'])\n",
        "  # print(dfPredicted)\n",
        "  dfPredicted.to_csv(path)"
      ],
      "execution_count": 56,
      "outputs": []
    },
    {
      "cell_type": "code",
      "metadata": {
        "id": "wRrBWv3ltyfU"
      },
      "source": [
        "# My model selection and eval on test function\n",
        "def selectModelEvalOnTest(myVectorizer,mytfidfTransformer, classifier, numFeatures, Xtest, Xtraining, Y, path):\n",
        "  \n",
        "  # count vectorization\n",
        "  skLearnFeatureSelector = SelectKBest(chi2, k=numFeatures)\n",
        "  vectors_train = myVectorizer.fit_transform(Xtraining)\n",
        "  vectors_test = myVectorizer.transform(Xtest)\n",
        "\n",
        "  # tfidf normalization\n",
        "  vectors_train_tfidf_normalized = mytfidfTransformer.fit_transform(vectors_train)\n",
        "  vectors_test_tfidf_normalized = mytfidfTransformer.transform(vectors_test)\n",
        "\n",
        "  # selecting the top features using chi squared evaluation\n",
        "  vectors_train_tfidf_normalized_new = skLearnFeatureSelector.fit_transform(vectors_train_tfidf_normalized, Y)\n",
        "  vectors_test_tfidf_normalized_new = skLearnFeatureSelector.transform(vectors_test_tfidf_normalized)\n",
        "\n",
        "  # Evaluating using our classifier\n",
        "  classifier.fit(vectors_train_tfidf_normalized_new, Y)\n",
        "  predictedLabels = classifier.predict(vectors_test_tfidf_normalized_new)\n",
        "\n",
        "  # Convert number labels back into string labels\n",
        "  predictedLabelsStringFormat = []\n",
        "  for labelNum in predictedLabels:\n",
        "    # print(labelNum)\n",
        "    predictedLabelsStringFormat.append(numberToLabel(labelNum[0]))\n",
        "\n",
        "  print(f\"Length of predicted list: {len(predictedLabelsStringFormat)}\")\n",
        "  # print(predictedLabelsStringFormat)\n",
        "\n",
        "  # Convert from list to pandas data frame\n",
        "  dfPredicted = pd.DataFrame(predictedLabelsStringFormat, columns=['subreddit'])\n",
        "  # print(dfPredicted)\n",
        "  dfPredicted.to_csv(path)\n",
        "\n"
      ],
      "execution_count": 57,
      "outputs": []
    },
    {
      "cell_type": "markdown",
      "metadata": {
        "id": "jXKcp38nDeCK"
      },
      "source": [
        "Models Selected to try on test set"
      ]
    },
    {
      "cell_type": "code",
      "metadata": {
        "id": "giCUsCVVtyoR",
        "outputId": "4c5b8011-33a2-457e-c12d-e65555656edd",
        "colab": {
          "base_uri": "https://localhost:8080/"
        }
      },
      "source": [
        "# Final vectorizer pipeline set up\n",
        "finalVectorizer = CountVectorizer(binary=False, max_df=1.0, min_df=0.0, stop_words=myStopWords, ngram_range=(1,1), max_features=None)\n",
        "# Final TFIDF normalizer object\n",
        "tfidfNormalizerFinal = TfidfTransformer(norm='l2', use_idf=True, smooth_idf=True, sublinear_tf=False)\n",
        "# Final nb with tuned alpha\n",
        "nbFinal = Bernoulli_NB(alpha=0.01)\n",
        "# File path output csv\n",
        "csvPath = \"/content/myDrive/My Drive/ECSE_551_Machine_Learning/TextClassification/output.csv\"\n",
        "selectModelEvalOnTest(finalVectorizer, tfidfNormalizerFinal, nbFinal, 8000, Xtest, Xtraining, Y, csvPath)"
      ],
      "execution_count": 58,
      "outputs": [
        {
          "output_type": "stream",
          "text": [
            "Starting the Predicting Function....\n"
          ],
          "name": "stdout"
        },
        {
          "output_type": "stream",
          "text": [
            "/usr/local/lib/python3.6/dist-packages/ipykernel_launcher.py:137: DeprecationWarning: scipy.nonzero is deprecated and will be removed in SciPy 2.0.0, use numpy.nonzero instead\n",
            "/usr/local/lib/python3.6/dist-packages/ipykernel_launcher.py:138: DeprecationWarning: in the future out of bounds indices will raise an error instead of being ignored by `numpy.delete`.\n"
          ],
          "name": "stderr"
        },
        {
          "output_type": "stream",
          "text": [
            "Time taken for predict function: 8.078844785690308\n",
            "Length of predicted list: 2898\n"
          ],
          "name": "stdout"
        }
      ]
    },
    {
      "cell_type": "code",
      "metadata": {
        "id": "AZRDSRnlwtJY",
        "outputId": "1a84f221-f142-4b82-cca1-eaadab400670",
        "colab": {
          "base_uri": "https://localhost:8080/"
        }
      },
      "source": [
        "# Final vectorizer pipeline set up\n",
        "finalVectorizerMNB = CountVectorizer(binary=False, max_df=1.0, min_df=0.0, stop_words=myStopWords, ngram_range=(1,1), max_features=None)\n",
        "# Final mnb with tuned alpha\n",
        "mnbFinal = MultinomialNB(alpha=0.02)\n",
        "# File path output csv\n",
        "csvPath = \"/content/myDrive/My Drive/ECSE_551_Machine_Learning/TextClassification/output.csv\"\n",
        "# Final TFIDF normalizer object\n",
        "tfidfNormalizerFinal = TfidfTransformer(norm='l2', use_idf=True, smooth_idf=True, sublinear_tf=False)\n",
        "# Final model evaluation using a sklearn classifier\n",
        "Ymnbfinal = np.reshape(Y, (Y.shape[0],))\n",
        "selectSKLearnModelEvalOnTest(finalVectorizerMNB, tfidfNormalizerFinal, mnbFinal, 7500, Xtest, Xtraining, Ymnbfinal, csvPath)\n"
      ],
      "execution_count": 59,
      "outputs": [
        {
          "output_type": "stream",
          "text": [
            "Length of predicted list: 2898\n"
          ],
          "name": "stdout"
        }
      ]
    },
    {
      "cell_type": "code",
      "metadata": {
        "id": "FCU7qlMFPWdX",
        "outputId": "87015326-9c56-4e89-c923-db8951b0cad8",
        "colab": {
          "base_uri": "https://localhost:8080/"
        }
      },
      "source": [
        "# Final vectorizer pipeline set up\n",
        "finalVectorizerMNB = CountVectorizer(binary=False, max_df=1.0, min_df=0.0, stop_words=myStopWords, ngram_range=(1,1), max_features=None)\n",
        "# Final mnb with tuned alpha\n",
        "clf = BaggingClassifier(base_estimator=Bernoulli_NB(alpha=0.01), n_estimators=20, random_state=0)\n",
        "# File path output csv\n",
        "csvPath = \"/content/myDrive/My Drive/ECSE_551_Machine_Learning/TextClassification/output.csv\"\n",
        "# Final TFIDF normalizer object\n",
        "tfidfNormalizerFinal = TfidfTransformer(norm='l2', use_idf=True, smooth_idf=True, sublinear_tf=False)\n",
        "# Final model evaluation using a sklearn classifier\n",
        "Ymnbfinal = np.reshape(Y, (Y.shape[0],))\n",
        "selectSKLearnModelEvalOnTest(finalVectorizerMNB, tfidfNormalizerFinal, clf, 8000, Xtest, Xtraining, Ymnbfinal, csvPath)\n"
      ],
      "execution_count": 60,
      "outputs": [
        {
          "output_type": "stream",
          "text": [
            "Starting the Predicting Function....\n"
          ],
          "name": "stdout"
        },
        {
          "output_type": "stream",
          "text": [
            "/usr/local/lib/python3.6/dist-packages/ipykernel_launcher.py:137: DeprecationWarning: scipy.nonzero is deprecated and will be removed in SciPy 2.0.0, use numpy.nonzero instead\n",
            "/usr/local/lib/python3.6/dist-packages/ipykernel_launcher.py:138: DeprecationWarning: in the future out of bounds indices will raise an error instead of being ignored by `numpy.delete`.\n"
          ],
          "name": "stderr"
        },
        {
          "output_type": "stream",
          "text": [
            "Time taken for predict function: 7.940896034240723\n",
            "Starting the Predicting Function....\n",
            "Time taken for predict function: 8.019352197647095\n",
            "Starting the Predicting Function....\n",
            "Time taken for predict function: 7.926687955856323\n",
            "Starting the Predicting Function....\n",
            "Time taken for predict function: 7.885997772216797\n",
            "Starting the Predicting Function....\n",
            "Time taken for predict function: 7.951787948608398\n",
            "Starting the Predicting Function....\n",
            "Time taken for predict function: 7.9804089069366455\n",
            "Starting the Predicting Function....\n",
            "Time taken for predict function: 7.963092803955078\n",
            "Starting the Predicting Function....\n",
            "Time taken for predict function: 7.929513216018677\n",
            "Starting the Predicting Function....\n",
            "Time taken for predict function: 7.980605125427246\n",
            "Starting the Predicting Function....\n",
            "Time taken for predict function: 8.14895248413086\n",
            "Starting the Predicting Function....\n",
            "Time taken for predict function: 7.944003343582153\n",
            "Starting the Predicting Function....\n",
            "Time taken for predict function: 7.9535133838653564\n",
            "Starting the Predicting Function....\n",
            "Time taken for predict function: 7.955096960067749\n",
            "Starting the Predicting Function....\n",
            "Time taken for predict function: 7.954916715621948\n",
            "Starting the Predicting Function....\n",
            "Time taken for predict function: 7.931580543518066\n",
            "Starting the Predicting Function....\n",
            "Time taken for predict function: 7.963669061660767\n",
            "Starting the Predicting Function....\n",
            "Time taken for predict function: 7.975346088409424\n",
            "Starting the Predicting Function....\n",
            "Time taken for predict function: 7.918354272842407\n",
            "Starting the Predicting Function....\n",
            "Time taken for predict function: 7.8960442543029785\n",
            "Starting the Predicting Function....\n",
            "Time taken for predict function: 7.957943439483643\n",
            "Length of predicted list: 2898\n"
          ],
          "name": "stdout"
        }
      ]
    },
    {
      "cell_type": "markdown",
      "metadata": {
        "id": "g5PvjT3FuUPh"
      },
      "source": [
        "# Experimentation\n"
      ]
    },
    {
      "cell_type": "markdown",
      "metadata": {
        "id": "zyfwAFuSwk9k"
      },
      "source": [
        "Experiment Classifiers"
      ]
    },
    {
      "cell_type": "code",
      "metadata": {
        "id": "ht8BO13TwpCq"
      },
      "source": [
        "nbExp = Bernoulli_NB(0.01)\n",
        "mbExp = MultinomialNB(alpha=0.02, fit_prior=False)"
      ],
      "execution_count": 61,
      "outputs": []
    },
    {
      "cell_type": "markdown",
      "metadata": {
        "id": "UoNbW8pFuY4D"
      },
      "source": [
        "1) Stemming Experiment using Bernoulli NB"
      ]
    },
    {
      "cell_type": "code",
      "metadata": {
        "id": "6lfKTUVUuYO1",
        "outputId": "d3a5d162-82ac-4b5e-dece-673719ed0a3d",
        "colab": {
          "base_uri": "https://localhost:8080/",
          "height": 1000
        }
      },
      "source": [
        "# Vectorizer object for linear svc\n",
        "myVectorizer4 = CountVectorizer(binary=True, max_df=1.0, min_df=0.0, stop_words=myStopWords, ngram_range=(1,1), max_features=None, tokenizer=MyLemmaTokenizer())\n",
        "\n",
        "# # TFIDF normalizer\n",
        "# tfidfNormalizer4 = TfidfTransformer(norm='l2', use_idf=True, smooth_idf=True, sublinear_tf=False)\n",
        "\n",
        "# Normalizer object for  linear svc\n",
        "normalizer4 = Normalizer()\n",
        "\n",
        "# Create our non binary training vector of word frequencies\n",
        "training_vectors4 = myVectorizer4.fit_transform(Xtraining)\n",
        "\n",
        "# # Normalize with l2 so values are between 0 and 1\n",
        "# training_vectors4_tfidf_normalized = tfidfNormalizer4.fit_transform(training_vectors4)\n",
        "# training_vectors4_normalized = normalizer4.fit_transform(training_vectors4)\n",
        "\n",
        "# # Now select our best features based on chi squared evaluation \n",
        "# training_vectors4_normalized_new = SelectKBest(chi2, k=8000).fit_transform(training_vectors4_normalized, Y)\n",
        "# training_vectors4_tfidf_normalized_new = SelectKBest(chi2, k=8000).fit_transform(training_vectors4_tfidf_normalized, Y)\n",
        "\n",
        "# run kfold\n",
        "run_K_Fold_CrossValidation(training_vectors4, Y, nbExp, numFolds=5)\n"
      ],
      "execution_count": 62,
      "outputs": [
        {
          "output_type": "stream",
          "text": [
            "/usr/local/lib/python3.6/dist-packages/sklearn/feature_extraction/text.py:385: UserWarning: Your stop_words may be inconsistent with your preprocessing. Tokenizing the stop words generated tokens ['far', 'make', 'u'] not in stop_words.\n",
            "  'stop_words.' % sorted(inconsistent))\n"
          ],
          "name": "stderr"
        },
        {
          "output_type": "stream",
          "text": [
            "Number of splitting iterations: 5\n",
            "\n",
            "Starting fold 1.....\n",
            "Current fold training shape: (9265, 25897)\n",
            "Current fold validation shape: (2317, 25897)\n",
            "Starting the Predicting Function....\n"
          ],
          "name": "stdout"
        },
        {
          "output_type": "stream",
          "text": [
            "/usr/local/lib/python3.6/dist-packages/ipykernel_launcher.py:137: DeprecationWarning: scipy.nonzero is deprecated and will be removed in SciPy 2.0.0, use numpy.nonzero instead\n",
            "/usr/local/lib/python3.6/dist-packages/ipykernel_launcher.py:138: DeprecationWarning: in the future out of bounds indices will raise an error instead of being ignored by `numpy.delete`.\n"
          ],
          "name": "stderr"
        },
        {
          "output_type": "stream",
          "text": [
            "Time taken for predict function: 6.157334566116333\n",
            "Accuracy for fold 1: 85.75744497194648%\n",
            "\n",
            "Starting fold 2.....\n",
            "Current fold training shape: (9265, 25897)\n",
            "Current fold validation shape: (2317, 25897)\n",
            "Starting the Predicting Function....\n"
          ],
          "name": "stdout"
        },
        {
          "output_type": "stream",
          "text": [
            "/usr/local/lib/python3.6/dist-packages/ipykernel_launcher.py:137: DeprecationWarning: scipy.nonzero is deprecated and will be removed in SciPy 2.0.0, use numpy.nonzero instead\n",
            "/usr/local/lib/python3.6/dist-packages/ipykernel_launcher.py:138: DeprecationWarning: in the future out of bounds indices will raise an error instead of being ignored by `numpy.delete`.\n"
          ],
          "name": "stderr"
        },
        {
          "output_type": "stream",
          "text": [
            "Time taken for predict function: 6.3004186153411865\n",
            "Accuracy for fold 2: 86.49115235217954%\n",
            "\n",
            "Starting fold 3.....\n",
            "Current fold training shape: (9266, 25897)\n",
            "Current fold validation shape: (2316, 25897)\n",
            "Starting the Predicting Function....\n"
          ],
          "name": "stdout"
        },
        {
          "output_type": "stream",
          "text": [
            "/usr/local/lib/python3.6/dist-packages/ipykernel_launcher.py:137: DeprecationWarning: scipy.nonzero is deprecated and will be removed in SciPy 2.0.0, use numpy.nonzero instead\n",
            "/usr/local/lib/python3.6/dist-packages/ipykernel_launcher.py:138: DeprecationWarning: in the future out of bounds indices will raise an error instead of being ignored by `numpy.delete`.\n"
          ],
          "name": "stderr"
        },
        {
          "output_type": "stream",
          "text": [
            "Time taken for predict function: 6.180901765823364\n",
            "Accuracy for fold 3: 86.57167530224525%\n",
            "\n",
            "Starting fold 4.....\n",
            "Current fold training shape: (9266, 25897)\n",
            "Current fold validation shape: (2316, 25897)\n",
            "Starting the Predicting Function....\n"
          ],
          "name": "stdout"
        },
        {
          "output_type": "stream",
          "text": [
            "/usr/local/lib/python3.6/dist-packages/ipykernel_launcher.py:137: DeprecationWarning: scipy.nonzero is deprecated and will be removed in SciPy 2.0.0, use numpy.nonzero instead\n",
            "/usr/local/lib/python3.6/dist-packages/ipykernel_launcher.py:138: DeprecationWarning: in the future out of bounds indices will raise an error instead of being ignored by `numpy.delete`.\n"
          ],
          "name": "stderr"
        },
        {
          "output_type": "stream",
          "text": [
            "Time taken for predict function: 6.140590667724609\n",
            "Accuracy for fold 4: 85.23316062176166%\n",
            "\n",
            "Starting fold 5.....\n",
            "Current fold training shape: (9266, 25897)\n",
            "Current fold validation shape: (2316, 25897)\n",
            "Starting the Predicting Function....\n"
          ],
          "name": "stdout"
        },
        {
          "output_type": "stream",
          "text": [
            "/usr/local/lib/python3.6/dist-packages/ipykernel_launcher.py:137: DeprecationWarning: scipy.nonzero is deprecated and will be removed in SciPy 2.0.0, use numpy.nonzero instead\n",
            "/usr/local/lib/python3.6/dist-packages/ipykernel_launcher.py:138: DeprecationWarning: in the future out of bounds indices will raise an error instead of being ignored by `numpy.delete`.\n"
          ],
          "name": "stderr"
        },
        {
          "output_type": "stream",
          "text": [
            "Time taken for predict function: 6.3151304721832275\n",
            "Accuracy for fold 5: 86.13989637305698%\n",
            "\n"
          ],
          "name": "stdout"
        },
        {
          "output_type": "display_data",
          "data": {
            "image/png": "[encoded data removed]",
            "text/plain": [
              "<Figure size 504x504 with 1 Axes>"
            ]
          },
          "metadata": {
            "tags": [],
            "needs_background": "light"
          }
        },
        {
          "output_type": "stream",
          "text": [
            "\n",
            "Avg accuracy for this model is: 86.03866592423799 %\n",
            "Avg error for this model is: 13.961334075762016 %\n",
            "\n"
          ],
          "name": "stdout"
        },
        {
          "output_type": "execute_result",
          "data": {
            "text/plain": [
              "(13.961334075762016,\n",
              " 86.03866592423799,\n",
              " {'1': 85.75744497194648,\n",
              "  '2': 86.49115235217954,\n",
              "  '3': 86.57167530224525,\n",
              "  '4': 85.23316062176166,\n",
              "  '5': 86.13989637305698})"
            ]
          },
          "metadata": {
            "tags": []
          },
          "execution_count": 62
        }
      ]
    },
    {
      "cell_type": "markdown",
      "metadata": {
        "id": "iGB4LD0K0soR"
      },
      "source": [
        "2) Lemmatization Experiment with Bernoulli NB"
      ]
    },
    {
      "cell_type": "code",
      "metadata": {
        "id": "GRJPvN_H0y25",
        "outputId": "adfb61b5-fc1c-4cae-835e-16ebaeec8a45",
        "colab": {
          "base_uri": "https://localhost:8080/",
          "height": 1000
        }
      },
      "source": [
        "# Vectorizer object for linear svc\n",
        "myVectorizer4 = CountVectorizer(binary=True, max_df=1.0, min_df=0.0, stop_words=myStopWords, ngram_range=(1,1), max_features=None, tokenizer=MyLemmaTokenizer())\n",
        "\n",
        "# # TFIDF normalizer\n",
        "# tfidfNormalizer4 = TfidfTransformer(norm='l2', use_idf=True, smooth_idf=True, sublinear_tf=False)\n",
        "\n",
        "# Normalizer object for  linear svc\n",
        "normalizer4 = Normalizer()\n",
        "\n",
        "# Create our non binary training vector of word frequencies\n",
        "training_vectors4 = myVectorizer4.fit_transform(Xtraining)\n",
        "\n",
        "# # Normalize with l2 so values are between 0 and 1\n",
        "# training_vectors4_tfidf_normalized = tfidfNormalizer4.fit_transform(training_vectors4)\n",
        "# training_vectors4_normalized = normalizer4.fit_transform(training_vectors4)\n",
        "\n",
        "# # Now select our best features based on chi squared evaluation \n",
        "# training_vectors4_normalized_new = SelectKBest(chi2, k=8000).fit_transform(training_vectors4_normalized, Y)\n",
        "# training_vectors4_tfidf_normalized_new = SelectKBest(chi2, k=8000).fit_transform(training_vectors4_tfidf_normalized, Y)\n",
        "\n",
        "# run kfold\n",
        "run_K_Fold_CrossValidation(training_vectors4, Y, nbExp, numFolds=5)\n"
      ],
      "execution_count": 63,
      "outputs": [
        {
          "output_type": "stream",
          "text": [
            "/usr/local/lib/python3.6/dist-packages/sklearn/feature_extraction/text.py:385: UserWarning: Your stop_words may be inconsistent with your preprocessing. Tokenizing the stop words generated tokens ['far', 'make', 'u'] not in stop_words.\n",
            "  'stop_words.' % sorted(inconsistent))\n"
          ],
          "name": "stderr"
        },
        {
          "output_type": "stream",
          "text": [
            "Number of splitting iterations: 5\n",
            "\n",
            "Starting fold 1.....\n",
            "Current fold training shape: (9265, 25897)\n",
            "Current fold validation shape: (2317, 25897)\n",
            "Starting the Predicting Function....\n"
          ],
          "name": "stdout"
        },
        {
          "output_type": "stream",
          "text": [
            "/usr/local/lib/python3.6/dist-packages/ipykernel_launcher.py:137: DeprecationWarning: scipy.nonzero is deprecated and will be removed in SciPy 2.0.0, use numpy.nonzero instead\n",
            "/usr/local/lib/python3.6/dist-packages/ipykernel_launcher.py:138: DeprecationWarning: in the future out of bounds indices will raise an error instead of being ignored by `numpy.delete`.\n"
          ],
          "name": "stderr"
        },
        {
          "output_type": "stream",
          "text": [
            "Time taken for predict function: 6.1970484256744385\n",
            "Accuracy for fold 1: 85.75744497194648%\n",
            "\n",
            "Starting fold 2.....\n",
            "Current fold training shape: (9265, 25897)\n",
            "Current fold validation shape: (2317, 25897)\n",
            "Starting the Predicting Function....\n"
          ],
          "name": "stdout"
        },
        {
          "output_type": "stream",
          "text": [
            "/usr/local/lib/python3.6/dist-packages/ipykernel_launcher.py:137: DeprecationWarning: scipy.nonzero is deprecated and will be removed in SciPy 2.0.0, use numpy.nonzero instead\n",
            "/usr/local/lib/python3.6/dist-packages/ipykernel_launcher.py:138: DeprecationWarning: in the future out of bounds indices will raise an error instead of being ignored by `numpy.delete`.\n"
          ],
          "name": "stderr"
        },
        {
          "output_type": "stream",
          "text": [
            "Time taken for predict function: 6.154908895492554\n",
            "Accuracy for fold 2: 86.49115235217954%\n",
            "\n",
            "Starting fold 3.....\n",
            "Current fold training shape: (9266, 25897)\n",
            "Current fold validation shape: (2316, 25897)\n",
            "Starting the Predicting Function....\n"
          ],
          "name": "stdout"
        },
        {
          "output_type": "stream",
          "text": [
            "/usr/local/lib/python3.6/dist-packages/ipykernel_launcher.py:137: DeprecationWarning: scipy.nonzero is deprecated and will be removed in SciPy 2.0.0, use numpy.nonzero instead\n",
            "/usr/local/lib/python3.6/dist-packages/ipykernel_launcher.py:138: DeprecationWarning: in the future out of bounds indices will raise an error instead of being ignored by `numpy.delete`.\n"
          ],
          "name": "stderr"
        },
        {
          "output_type": "stream",
          "text": [
            "Time taken for predict function: 6.180292844772339\n",
            "Accuracy for fold 3: 86.57167530224525%\n",
            "\n",
            "Starting fold 4.....\n",
            "Current fold training shape: (9266, 25897)\n",
            "Current fold validation shape: (2316, 25897)\n",
            "Starting the Predicting Function....\n"
          ],
          "name": "stdout"
        },
        {
          "output_type": "stream",
          "text": [
            "/usr/local/lib/python3.6/dist-packages/ipykernel_launcher.py:137: DeprecationWarning: scipy.nonzero is deprecated and will be removed in SciPy 2.0.0, use numpy.nonzero instead\n",
            "/usr/local/lib/python3.6/dist-packages/ipykernel_launcher.py:138: DeprecationWarning: in the future out of bounds indices will raise an error instead of being ignored by `numpy.delete`.\n"
          ],
          "name": "stderr"
        },
        {
          "output_type": "stream",
          "text": [
            "Time taken for predict function: 6.464166641235352\n",
            "Accuracy for fold 4: 85.23316062176166%\n",
            "\n",
            "Starting fold 5.....\n",
            "Current fold training shape: (9266, 25897)\n",
            "Current fold validation shape: (2316, 25897)\n",
            "Starting the Predicting Function....\n"
          ],
          "name": "stdout"
        },
        {
          "output_type": "stream",
          "text": [
            "/usr/local/lib/python3.6/dist-packages/ipykernel_launcher.py:137: DeprecationWarning: scipy.nonzero is deprecated and will be removed in SciPy 2.0.0, use numpy.nonzero instead\n",
            "/usr/local/lib/python3.6/dist-packages/ipykernel_launcher.py:138: DeprecationWarning: in the future out of bounds indices will raise an error instead of being ignored by `numpy.delete`.\n"
          ],
          "name": "stderr"
        },
        {
          "output_type": "stream",
          "text": [
            "Time taken for predict function: 6.355318069458008\n",
            "Accuracy for fold 5: 86.13989637305698%\n",
            "\n"
          ],
          "name": "stdout"
        },
        {
          "output_type": "display_data",
          "data": {
            "image/png": "[encoded data removed]",
            "text/plain": [
              "<Figure size 504x504 with 1 Axes>"
            ]
          },
          "metadata": {
            "tags": [],
            "needs_background": "light"
          }
        },
        {
          "output_type": "stream",
          "text": [
            "\n",
            "Avg accuracy for this model is: 86.03866592423799 %\n",
            "Avg error for this model is: 13.961334075762016 %\n",
            "\n"
          ],
          "name": "stdout"
        },
        {
          "output_type": "execute_result",
          "data": {
            "text/plain": [
              "(13.961334075762016,\n",
              " 86.03866592423799,\n",
              " {'1': 85.75744497194648,\n",
              "  '2': 86.49115235217954,\n",
              "  '3': 86.57167530224525,\n",
              "  '4': 85.23316062176166,\n",
              "  '5': 86.13989637305698})"
            ]
          },
          "metadata": {
            "tags": []
          },
          "execution_count": 63
        }
      ]
    },
    {
      "cell_type": "markdown",
      "metadata": {
        "id": "YDlByQ0K2gmF"
      },
      "source": [
        "3) Raw data with no tokenizer using Bernoulli NB"
      ]
    },
    {
      "cell_type": "code",
      "metadata": {
        "id": "kJmrJCex2hJG",
        "outputId": "475575d0-10e4-4071-fdac-1015bf67bfe1",
        "colab": {
          "base_uri": "https://localhost:8080/",
          "height": 1000
        }
      },
      "source": [
        "# Vectorizer object for linear svc\n",
        "myVectorizer4 = CountVectorizer(binary=True, max_df=1.0, min_df=0.0, stop_words=myStopWords, ngram_range=(1,1), max_features=None)\n",
        "\n",
        "# # TFIDF normalizer\n",
        "# tfidfNormalizer4 = TfidfTransformer(norm='l2', use_idf=True, smooth_idf=True, sublinear_tf=False)\n",
        "\n",
        "# Normalizer object for  linear svc\n",
        "normalizer4 = Normalizer()\n",
        "\n",
        "# Create our non binary training vector of word frequencies\n",
        "training_vectors4 = myVectorizer4.fit_transform(Xtraining)\n",
        "\n",
        "# # Normalize with l2 so values are between 0 and 1\n",
        "# training_vectors4_tfidf_normalized = tfidfNormalizer4.fit_transform(training_vectors4)\n",
        "# training_vectors4_normalized = normalizer4.fit_transform(training_vectors4)\n",
        "\n",
        "# # Now select our best features based on chi squared evaluation \n",
        "# training_vectors4_normalized_new = SelectKBest(chi2, k=8000).fit_transform(training_vectors4_normalized, Y)\n",
        "# training_vectors4_tfidf_normalized_new = SelectKBest(chi2, k=8000).fit_transform(training_vectors4_tfidf_normalized, Y)\n",
        "\n",
        "# run kfold\n",
        "run_K_Fold_CrossValidation(training_vectors4, Y, nbExp, numFolds=5)\n"
      ],
      "execution_count": 64,
      "outputs": [
        {
          "output_type": "stream",
          "text": [
            "Number of splitting iterations: 5\n",
            "\n",
            "Starting fold 1.....\n",
            "Current fold training shape: (9265, 33123)\n",
            "Current fold validation shape: (2317, 33123)\n",
            "Starting the Predicting Function....\n"
          ],
          "name": "stdout"
        },
        {
          "output_type": "stream",
          "text": [
            "/usr/local/lib/python3.6/dist-packages/ipykernel_launcher.py:137: DeprecationWarning: scipy.nonzero is deprecated and will be removed in SciPy 2.0.0, use numpy.nonzero instead\n",
            "/usr/local/lib/python3.6/dist-packages/ipykernel_launcher.py:138: DeprecationWarning: in the future out of bounds indices will raise an error instead of being ignored by `numpy.delete`.\n"
          ],
          "name": "stderr"
        },
        {
          "output_type": "stream",
          "text": [
            "Time taken for predict function: 6.348634243011475\n",
            "Accuracy for fold 1: 85.54164868364265%\n",
            "\n",
            "Starting fold 2.....\n",
            "Current fold training shape: (9265, 33123)\n",
            "Current fold validation shape: (2317, 33123)\n",
            "Starting the Predicting Function....\n"
          ],
          "name": "stdout"
        },
        {
          "output_type": "stream",
          "text": [
            "/usr/local/lib/python3.6/dist-packages/ipykernel_launcher.py:137: DeprecationWarning: scipy.nonzero is deprecated and will be removed in SciPy 2.0.0, use numpy.nonzero instead\n",
            "/usr/local/lib/python3.6/dist-packages/ipykernel_launcher.py:138: DeprecationWarning: in the future out of bounds indices will raise an error instead of being ignored by `numpy.delete`.\n"
          ],
          "name": "stderr"
        },
        {
          "output_type": "stream",
          "text": [
            "Time taken for predict function: 6.171662330627441\n",
            "Accuracy for fold 2: 87.13854121709107%\n",
            "\n",
            "Starting fold 3.....\n",
            "Current fold training shape: (9266, 33123)\n",
            "Current fold validation shape: (2316, 33123)\n",
            "Starting the Predicting Function....\n"
          ],
          "name": "stdout"
        },
        {
          "output_type": "stream",
          "text": [
            "/usr/local/lib/python3.6/dist-packages/ipykernel_launcher.py:137: DeprecationWarning: scipy.nonzero is deprecated and will be removed in SciPy 2.0.0, use numpy.nonzero instead\n",
            "/usr/local/lib/python3.6/dist-packages/ipykernel_launcher.py:138: DeprecationWarning: in the future out of bounds indices will raise an error instead of being ignored by `numpy.delete`.\n"
          ],
          "name": "stderr"
        },
        {
          "output_type": "stream",
          "text": [
            "Time taken for predict function: 6.204285144805908\n",
            "Accuracy for fold 3: 86.4853195164076%\n",
            "\n",
            "Starting fold 4.....\n",
            "Current fold training shape: (9266, 33123)\n",
            "Current fold validation shape: (2316, 33123)\n",
            "Starting the Predicting Function....\n"
          ],
          "name": "stdout"
        },
        {
          "output_type": "stream",
          "text": [
            "/usr/local/lib/python3.6/dist-packages/ipykernel_launcher.py:137: DeprecationWarning: scipy.nonzero is deprecated and will be removed in SciPy 2.0.0, use numpy.nonzero instead\n",
            "/usr/local/lib/python3.6/dist-packages/ipykernel_launcher.py:138: DeprecationWarning: in the future out of bounds indices will raise an error instead of being ignored by `numpy.delete`.\n"
          ],
          "name": "stderr"
        },
        {
          "output_type": "stream",
          "text": [
            "Time taken for predict function: 6.201135635375977\n",
            "Accuracy for fold 4: 85.75129533678756%\n",
            "\n",
            "Starting fold 5.....\n",
            "Current fold training shape: (9266, 33123)\n",
            "Current fold validation shape: (2316, 33123)\n",
            "Starting the Predicting Function....\n"
          ],
          "name": "stdout"
        },
        {
          "output_type": "stream",
          "text": [
            "/usr/local/lib/python3.6/dist-packages/ipykernel_launcher.py:137: DeprecationWarning: scipy.nonzero is deprecated and will be removed in SciPy 2.0.0, use numpy.nonzero instead\n",
            "/usr/local/lib/python3.6/dist-packages/ipykernel_launcher.py:138: DeprecationWarning: in the future out of bounds indices will raise an error instead of being ignored by `numpy.delete`.\n"
          ],
          "name": "stderr"
        },
        {
          "output_type": "stream",
          "text": [
            "Time taken for predict function: 6.323915719985962\n",
            "Accuracy for fold 5: 86.39896373056995%\n",
            "\n"
          ],
          "name": "stdout"
        },
        {
          "output_type": "display_data",
          "data": {
            "image/png": "[encoded data removed]",
            "text/plain": [
              "<Figure size 504x504 with 1 Axes>"
            ]
          },
          "metadata": {
            "tags": [],
            "needs_background": "light"
          }
        },
        {
          "output_type": "stream",
          "text": [
            "\n",
            "Avg accuracy for this model is: 86.26315369689976 %\n",
            "Avg error for this model is: 13.736846303100233 %\n",
            "\n"
          ],
          "name": "stdout"
        },
        {
          "output_type": "execute_result",
          "data": {
            "text/plain": [
              "(13.736846303100233,\n",
              " 86.26315369689976,\n",
              " {'1': 85.54164868364265,\n",
              "  '2': 87.13854121709107,\n",
              "  '3': 86.4853195164076,\n",
              "  '4': 85.75129533678756,\n",
              "  '5': 86.39896373056995})"
            ]
          },
          "metadata": {
            "tags": []
          },
          "execution_count": 64
        }
      ]
    },
    {
      "cell_type": "markdown",
      "metadata": {
        "id": "5Q7YEEHa3ixC"
      },
      "source": [
        "4) Raw data with SKLearn feature selection (SelectKBest - Chi Squared Test)"
      ]
    },
    {
      "cell_type": "code",
      "metadata": {
        "id": "5q4T_thu3jEp",
        "outputId": "ba3c1c47-473d-4d54-fdd0-8f454fad9686",
        "colab": {
          "base_uri": "https://localhost:8080/",
          "height": 1000
        }
      },
      "source": [
        "# Vectorizer object for linear svc\n",
        "myVectorizer4 = CountVectorizer(binary=True, max_df=1.0, min_df=0.0, stop_words=myStopWords, ngram_range=(1,1), max_features=None)\n",
        "\n",
        "# # TFIDF normalizer\n",
        "# tfidfNormalizer4 = TfidfTransformer(norm='l2', use_idf=True, smooth_idf=True, sublinear_tf=False)\n",
        "\n",
        "# Normalizer object for  linear svc\n",
        "normalizer4 = Normalizer()\n",
        "\n",
        "# Create our non binary training vector of word frequencies\n",
        "training_vectors4 = myVectorizer4.fit_transform(Xtraining)\n",
        "\n",
        "# # Normalize with l2 so values are between 0 and 1\n",
        "# training_vectors4_tfidf_normalized = tfidfNormalizer4.fit_transform(training_vectors4)\n",
        "# training_vectors4_normalized = normalizer4.fit_transform(training_vectors4)\n",
        "\n",
        "# # Now select our best features based on chi squared evaluation \n",
        "# training_vectors4_normalized_new = SelectKBest(chi2, k=8000).fit_transform(training_vectors4_normalized, Y)\n",
        "# training_vectors4_tfidf_normalized_new = SelectKBest(chi2, k=8000).fit_transform(training_vectors4_tfidf_normalized, Y)\n",
        "training_vectors4_feature_selected = SelectKBest(chi2, k=8000).fit_transform(training_vectors4, Y)\n",
        "\n",
        "# run kfold\n",
        "run_K_Fold_CrossValidation(training_vectors4_feature_selected, Y, nbExp, numFolds=5)\n"
      ],
      "execution_count": 65,
      "outputs": [
        {
          "output_type": "stream",
          "text": [
            "Number of splitting iterations: 5\n",
            "\n",
            "Starting fold 1.....\n",
            "Current fold training shape: (9265, 8000)\n",
            "Current fold validation shape: (2317, 8000)\n",
            "Starting the Predicting Function....\n"
          ],
          "name": "stdout"
        },
        {
          "output_type": "stream",
          "text": [
            "/usr/local/lib/python3.6/dist-packages/ipykernel_launcher.py:137: DeprecationWarning: scipy.nonzero is deprecated and will be removed in SciPy 2.0.0, use numpy.nonzero instead\n",
            "/usr/local/lib/python3.6/dist-packages/ipykernel_launcher.py:138: DeprecationWarning: in the future out of bounds indices will raise an error instead of being ignored by `numpy.delete`.\n"
          ],
          "name": "stderr"
        },
        {
          "output_type": "stream",
          "text": [
            "Time taken for predict function: 6.2407402992248535\n",
            "Accuracy for fold 1: 88.8649115235218%\n",
            "\n",
            "Starting fold 2.....\n",
            "Current fold training shape: (9265, 8000)\n",
            "Current fold validation shape: (2317, 8000)\n",
            "Starting the Predicting Function....\n"
          ],
          "name": "stdout"
        },
        {
          "output_type": "stream",
          "text": [
            "/usr/local/lib/python3.6/dist-packages/ipykernel_launcher.py:137: DeprecationWarning: scipy.nonzero is deprecated and will be removed in SciPy 2.0.0, use numpy.nonzero instead\n",
            "/usr/local/lib/python3.6/dist-packages/ipykernel_launcher.py:138: DeprecationWarning: in the future out of bounds indices will raise an error instead of being ignored by `numpy.delete`.\n"
          ],
          "name": "stderr"
        },
        {
          "output_type": "stream",
          "text": [
            "Time taken for predict function: 6.202101945877075\n",
            "Accuracy for fold 2: 89.59861890375485%\n",
            "\n",
            "Starting fold 3.....\n",
            "Current fold training shape: (9266, 8000)\n",
            "Current fold validation shape: (2316, 8000)\n",
            "Starting the Predicting Function....\n"
          ],
          "name": "stdout"
        },
        {
          "output_type": "stream",
          "text": [
            "/usr/local/lib/python3.6/dist-packages/ipykernel_launcher.py:137: DeprecationWarning: scipy.nonzero is deprecated and will be removed in SciPy 2.0.0, use numpy.nonzero instead\n",
            "/usr/local/lib/python3.6/dist-packages/ipykernel_launcher.py:138: DeprecationWarning: in the future out of bounds indices will raise an error instead of being ignored by `numpy.delete`.\n"
          ],
          "name": "stderr"
        },
        {
          "output_type": "stream",
          "text": [
            "Time taken for predict function: 6.209667682647705\n",
            "Accuracy for fold 3: 90.11226252158895%\n",
            "\n",
            "Starting fold 4.....\n",
            "Current fold training shape: (9266, 8000)\n",
            "Current fold validation shape: (2316, 8000)\n",
            "Starting the Predicting Function....\n"
          ],
          "name": "stdout"
        },
        {
          "output_type": "stream",
          "text": [
            "/usr/local/lib/python3.6/dist-packages/ipykernel_launcher.py:137: DeprecationWarning: scipy.nonzero is deprecated and will be removed in SciPy 2.0.0, use numpy.nonzero instead\n",
            "/usr/local/lib/python3.6/dist-packages/ipykernel_launcher.py:138: DeprecationWarning: in the future out of bounds indices will raise an error instead of being ignored by `numpy.delete`.\n"
          ],
          "name": "stderr"
        },
        {
          "output_type": "stream",
          "text": [
            "Time taken for predict function: 6.184859037399292\n",
            "Accuracy for fold 4: 89.72366148531951%\n",
            "\n",
            "Starting fold 5.....\n",
            "Current fold training shape: (9266, 8000)\n",
            "Current fold validation shape: (2316, 8000)\n",
            "Starting the Predicting Function....\n"
          ],
          "name": "stdout"
        },
        {
          "output_type": "stream",
          "text": [
            "/usr/local/lib/python3.6/dist-packages/ipykernel_launcher.py:137: DeprecationWarning: scipy.nonzero is deprecated and will be removed in SciPy 2.0.0, use numpy.nonzero instead\n",
            "/usr/local/lib/python3.6/dist-packages/ipykernel_launcher.py:138: DeprecationWarning: in the future out of bounds indices will raise an error instead of being ignored by `numpy.delete`.\n"
          ],
          "name": "stderr"
        },
        {
          "output_type": "stream",
          "text": [
            "Time taken for predict function: 6.221644639968872\n",
            "Accuracy for fold 5: 89.55094991364422%\n",
            "\n"
          ],
          "name": "stdout"
        },
        {
          "output_type": "display_data",
          "data": {
            "image/png": "[encoded data removed]",
            "text/plain": [
              "<Figure size 504x504 with 1 Axes>"
            ]
          },
          "metadata": {
            "tags": [],
            "needs_background": "light"
          }
        },
        {
          "output_type": "stream",
          "text": [
            "\n",
            "Avg accuracy for this model is: 89.57008086956586 %\n",
            "Avg error for this model is: 10.429919130434135 %\n",
            "\n"
          ],
          "name": "stdout"
        },
        {
          "output_type": "execute_result",
          "data": {
            "text/plain": [
              "(10.429919130434135,\n",
              " 89.57008086956586,\n",
              " {'1': 88.8649115235218,\n",
              "  '2': 89.59861890375485,\n",
              "  '3': 90.11226252158895,\n",
              "  '4': 89.72366148531951,\n",
              "  '5': 89.55094991364422})"
            ]
          },
          "metadata": {
            "tags": []
          },
          "execution_count": 65
        }
      ]
    },
    {
      "cell_type": "markdown",
      "metadata": {
        "id": "u5Yw9CjP5RZc"
      },
      "source": [
        "5) Raw data and TFIDF normalization with SKLearn feature selection with different classifiers\n"
      ]
    },
    {
      "cell_type": "code",
      "metadata": {
        "id": "33ugsX2u5R1N",
        "outputId": "b422af79-dba7-453f-8afc-8134c7d726dc",
        "colab": {
          "base_uri": "https://localhost:8080/",
          "height": 1000
        }
      },
      "source": [
        "# Vectorizer object for linear svc\n",
        "myVectorizer4 = CountVectorizer(binary=True, max_df=1.0, min_df=0.0, stop_words=myStopWords, ngram_range=(1,1), max_features=None)\n",
        "\n",
        "# TFIDF normalizer\n",
        "tfidfNormalizer4 = TfidfTransformer(norm='l2', use_idf=True, smooth_idf=True, sublinear_tf=False)\n",
        "\n",
        "# Normalizer object for  linear svc\n",
        "normalizer4 = Normalizer()\n",
        "\n",
        "# Create our non binary training vector of word frequencies\n",
        "training_vectors4 = myVectorizer4.fit_transform(Xtraining)\n",
        "\n",
        "# Normalize with l2 so values are between 0 and 1\n",
        "training_vectors4_tfidf_normalized = tfidfNormalizer4.fit_transform(training_vectors4)\n",
        "training_vectors4_normalized = normalizer4.fit_transform(training_vectors4)\n",
        "\n",
        "# Now select our best features based on chi squared evaluation \n",
        "training_vectors4_normalized_new = SelectKBest(chi2, k=8000).fit_transform(training_vectors4_normalized, Y)\n",
        "training_vectors4_tfidf_normalized_new = SelectKBest(chi2, k=8000).fit_transform(training_vectors4_tfidf_normalized, Y)\n",
        "# training_vectors4_feature_selected = SelectKBest(chi2, k=8000).fit_transform(training_vectors4, Y)\n",
        "\n",
        "# run kfold\n",
        "run_K_Fold_CrossValidation(training_vectors4_normalized_new, Y, nbExp, numFolds=5)\n"
      ],
      "execution_count": 66,
      "outputs": [
        {
          "output_type": "stream",
          "text": [
            "Number of splitting iterations: 5\n",
            "\n",
            "Starting fold 1.....\n",
            "Current fold training shape: (9265, 8000)\n",
            "Current fold validation shape: (2317, 8000)\n",
            "Starting the Predicting Function....\n"
          ],
          "name": "stdout"
        },
        {
          "output_type": "stream",
          "text": [
            "/usr/local/lib/python3.6/dist-packages/ipykernel_launcher.py:137: DeprecationWarning: scipy.nonzero is deprecated and will be removed in SciPy 2.0.0, use numpy.nonzero instead\n",
            "/usr/local/lib/python3.6/dist-packages/ipykernel_launcher.py:138: DeprecationWarning: in the future out of bounds indices will raise an error instead of being ignored by `numpy.delete`.\n"
          ],
          "name": "stderr"
        },
        {
          "output_type": "stream",
          "text": [
            "Time taken for predict function: 6.249483346939087\n",
            "Accuracy for fold 1: 89.77125593439793%\n",
            "\n",
            "Starting fold 2.....\n",
            "Current fold training shape: (9265, 8000)\n",
            "Current fold validation shape: (2317, 8000)\n",
            "Starting the Predicting Function....\n"
          ],
          "name": "stdout"
        },
        {
          "output_type": "stream",
          "text": [
            "/usr/local/lib/python3.6/dist-packages/ipykernel_launcher.py:137: DeprecationWarning: scipy.nonzero is deprecated and will be removed in SciPy 2.0.0, use numpy.nonzero instead\n",
            "/usr/local/lib/python3.6/dist-packages/ipykernel_launcher.py:138: DeprecationWarning: in the future out of bounds indices will raise an error instead of being ignored by `numpy.delete`.\n"
          ],
          "name": "stderr"
        },
        {
          "output_type": "stream",
          "text": [
            "Time taken for predict function: 6.230452299118042\n",
            "Accuracy for fold 2: 90.41864479930946%\n",
            "\n",
            "Starting fold 3.....\n",
            "Current fold training shape: (9266, 8000)\n",
            "Current fold validation shape: (2316, 8000)\n",
            "Starting the Predicting Function....\n"
          ],
          "name": "stdout"
        },
        {
          "output_type": "stream",
          "text": [
            "/usr/local/lib/python3.6/dist-packages/ipykernel_launcher.py:137: DeprecationWarning: scipy.nonzero is deprecated and will be removed in SciPy 2.0.0, use numpy.nonzero instead\n",
            "/usr/local/lib/python3.6/dist-packages/ipykernel_launcher.py:138: DeprecationWarning: in the future out of bounds indices will raise an error instead of being ignored by `numpy.delete`.\n"
          ],
          "name": "stderr"
        },
        {
          "output_type": "stream",
          "text": [
            "Time taken for predict function: 6.212558746337891\n",
            "Accuracy for fold 3: 90.5440414507772%\n",
            "\n",
            "Starting fold 4.....\n",
            "Current fold training shape: (9266, 8000)\n",
            "Current fold validation shape: (2316, 8000)\n",
            "Starting the Predicting Function....\n"
          ],
          "name": "stdout"
        },
        {
          "output_type": "stream",
          "text": [
            "/usr/local/lib/python3.6/dist-packages/ipykernel_launcher.py:137: DeprecationWarning: scipy.nonzero is deprecated and will be removed in SciPy 2.0.0, use numpy.nonzero instead\n",
            "/usr/local/lib/python3.6/dist-packages/ipykernel_launcher.py:138: DeprecationWarning: in the future out of bounds indices will raise an error instead of being ignored by `numpy.delete`.\n"
          ],
          "name": "stderr"
        },
        {
          "output_type": "stream",
          "text": [
            "Time taken for predict function: 6.23187518119812\n",
            "Accuracy for fold 4: 90.67357512953367%\n",
            "\n",
            "Starting fold 5.....\n",
            "Current fold training shape: (9266, 8000)\n",
            "Current fold validation shape: (2316, 8000)\n",
            "Starting the Predicting Function....\n"
          ],
          "name": "stdout"
        },
        {
          "output_type": "stream",
          "text": [
            "/usr/local/lib/python3.6/dist-packages/ipykernel_launcher.py:137: DeprecationWarning: scipy.nonzero is deprecated and will be removed in SciPy 2.0.0, use numpy.nonzero instead\n",
            "/usr/local/lib/python3.6/dist-packages/ipykernel_launcher.py:138: DeprecationWarning: in the future out of bounds indices will raise an error instead of being ignored by `numpy.delete`.\n"
          ],
          "name": "stderr"
        },
        {
          "output_type": "stream",
          "text": [
            "Time taken for predict function: 6.227933168411255\n",
            "Accuracy for fold 5: 90.75993091537133%\n",
            "\n"
          ],
          "name": "stdout"
        },
        {
          "output_type": "display_data",
          "data": {
            "image/png": "[encoded data removed]",
            "text/plain": [
              "<Figure size 504x504 with 1 Axes>"
            ]
          },
          "metadata": {
            "tags": [],
            "needs_background": "light"
          }
        },
        {
          "output_type": "stream",
          "text": [
            "\n",
            "Avg accuracy for this model is: 90.43348964587793 %\n",
            "Avg error for this model is: 9.566510354122082 %\n",
            "\n"
          ],
          "name": "stdout"
        },
        {
          "output_type": "execute_result",
          "data": {
            "text/plain": [
              "(9.566510354122082,\n",
              " 90.43348964587793,\n",
              " {'1': 89.77125593439793,\n",
              "  '2': 90.41864479930946,\n",
              "  '3': 90.5440414507772,\n",
              "  '4': 90.67357512953367,\n",
              "  '5': 90.75993091537133})"
            ]
          },
          "metadata": {
            "tags": []
          },
          "execution_count": 66
        }
      ]
    },
    {
      "cell_type": "markdown",
      "metadata": {
        "id": "D4Hh2rvD6YC_"
      },
      "source": [
        "6) Raw data and TFIDF normalization with SKLearn feature selection with different classifiers and Stemming"
      ]
    },
    {
      "cell_type": "code",
      "metadata": {
        "id": "nA5gdtdw6W8-",
        "outputId": "4f6c6ac7-053e-4e36-df39-b4ba4a55a835",
        "colab": {
          "base_uri": "https://localhost:8080/",
          "height": 1000
        }
      },
      "source": [
        "# Vectorizer object for linear svc\n",
        "myVectorizer4 = CountVectorizer(binary=True, max_df=1.0, min_df=0.0, stop_words=myStopWords, ngram_range=(1,1), max_features=None, tokenizer=MyStemTokenizer())\n",
        "\n",
        "# TFIDF normalizer\n",
        "tfidfNormalizer4 = TfidfTransformer(norm='l2', use_idf=True, smooth_idf=True, sublinear_tf=False)\n",
        "\n",
        "# Normalizer object for  linear svc\n",
        "normalizer4 = Normalizer()\n",
        "\n",
        "# Create our non binary training vector of word frequencies\n",
        "training_vectors4 = myVectorizer4.fit_transform(Xtraining)\n",
        "\n",
        "# Normalize with l2 so values are between 0 and 1\n",
        "training_vectors4_tfidf_normalized = tfidfNormalizer4.fit_transform(training_vectors4)\n",
        "training_vectors4_normalized = normalizer4.fit_transform(training_vectors4)\n",
        "\n",
        "# Now select our best features based on chi squared evaluation \n",
        "training_vectors4_normalized_new = SelectKBest(chi2, k=8000).fit_transform(training_vectors4_normalized, Y)\n",
        "training_vectors4_tfidf_normalized_new = SelectKBest(chi2, k=8000).fit_transform(training_vectors4_tfidf_normalized, Y)\n",
        "# training_vectors4_feature_selected = SelectKBest(chi2, k=8000).fit_transform(training_vectors4, Y)\n",
        "\n",
        "# run kfold\n",
        "run_K_Fold_CrossValidation(training_vectors4_normalized_new, Y, nbExp, numFolds=5)\n"
      ],
      "execution_count": 67,
      "outputs": [
        {
          "output_type": "stream",
          "text": [
            "/usr/local/lib/python3.6/dist-packages/sklearn/feature_extraction/text.py:385: UserWarning: Your stop_words may be inconsistent with your preprocessing. Tokenizing the stop words generated tokens ['abov', 'afterward', 'alon', 'alreadi', 'alway', 'ani', 'anoth', 'anyon', 'anyth', 'anywher', 'becam', 'becaus', 'becom', 'befor', 'besid', 'cri', 'describ', 'dure', 'els', 'elsewher', 'empti', 'everi', 'everyon', 'everyth', 'everywher', 'fifti', 'formerli', 'forti', 'ha', 'henc', 'hereaft', 'herebi', 'hi', 'howev', 'hundr', 'inde', 'latterli', 'mani', 'meanwhil', 'moreov', 'mostli', 'nobodi', 'noon', 'noth', 'nowher', 'onc', 'onli', 'otherwis', 'ourselv', 'perhap', 'pleas', 'seriou', 'sever', 'sinc', 'sincer', 'sixti', 'someon', 'someth', 'sometim', 'somewher', 'themselv', 'thenc', 'thereaft', 'therebi', 'therefor', 'thi', 'thu', 'togeth', 'twelv', 'twenti', 'veri', 'wa', 'whatev', 'whenc', 'whenev', 'wherea', 'whereaft', 'wherebi', 'wherev', 'whi', 'yourselv'] not in stop_words.\n",
            "  'stop_words.' % sorted(inconsistent))\n"
          ],
          "name": "stderr"
        },
        {
          "output_type": "stream",
          "text": [
            "Number of splitting iterations: 5\n",
            "\n",
            "Starting fold 1.....\n",
            "Current fold training shape: (9265, 8000)\n",
            "Current fold validation shape: (2317, 8000)\n",
            "Starting the Predicting Function....\n"
          ],
          "name": "stdout"
        },
        {
          "output_type": "stream",
          "text": [
            "/usr/local/lib/python3.6/dist-packages/ipykernel_launcher.py:137: DeprecationWarning: scipy.nonzero is deprecated and will be removed in SciPy 2.0.0, use numpy.nonzero instead\n",
            "/usr/local/lib/python3.6/dist-packages/ipykernel_launcher.py:138: DeprecationWarning: in the future out of bounds indices will raise an error instead of being ignored by `numpy.delete`.\n"
          ],
          "name": "stderr"
        },
        {
          "output_type": "stream",
          "text": [
            "Time taken for predict function: 6.232435703277588\n",
            "Accuracy for fold 1: 88.9943892965041%\n",
            "\n",
            "Starting fold 2.....\n",
            "Current fold training shape: (9265, 8000)\n",
            "Current fold validation shape: (2317, 8000)\n",
            "Starting the Predicting Function....\n"
          ],
          "name": "stdout"
        },
        {
          "output_type": "stream",
          "text": [
            "/usr/local/lib/python3.6/dist-packages/ipykernel_launcher.py:137: DeprecationWarning: scipy.nonzero is deprecated and will be removed in SciPy 2.0.0, use numpy.nonzero instead\n",
            "/usr/local/lib/python3.6/dist-packages/ipykernel_launcher.py:138: DeprecationWarning: in the future out of bounds indices will raise an error instead of being ignored by `numpy.delete`.\n"
          ],
          "name": "stderr"
        },
        {
          "output_type": "stream",
          "text": [
            "Time taken for predict function: 6.227808713912964\n",
            "Accuracy for fold 2: 89.85757444971946%\n",
            "\n",
            "Starting fold 3.....\n",
            "Current fold training shape: (9266, 8000)\n",
            "Current fold validation shape: (2316, 8000)\n",
            "Starting the Predicting Function....\n"
          ],
          "name": "stdout"
        },
        {
          "output_type": "stream",
          "text": [
            "/usr/local/lib/python3.6/dist-packages/ipykernel_launcher.py:137: DeprecationWarning: scipy.nonzero is deprecated and will be removed in SciPy 2.0.0, use numpy.nonzero instead\n",
            "/usr/local/lib/python3.6/dist-packages/ipykernel_launcher.py:138: DeprecationWarning: in the future out of bounds indices will raise an error instead of being ignored by `numpy.delete`.\n"
          ],
          "name": "stderr"
        },
        {
          "output_type": "stream",
          "text": [
            "Time taken for predict function: 6.196607828140259\n",
            "Accuracy for fold 3: 90.06908462867013%\n",
            "\n",
            "Starting fold 4.....\n",
            "Current fold training shape: (9266, 8000)\n",
            "Current fold validation shape: (2316, 8000)\n",
            "Starting the Predicting Function....\n"
          ],
          "name": "stdout"
        },
        {
          "output_type": "stream",
          "text": [
            "/usr/local/lib/python3.6/dist-packages/ipykernel_launcher.py:137: DeprecationWarning: scipy.nonzero is deprecated and will be removed in SciPy 2.0.0, use numpy.nonzero instead\n",
            "/usr/local/lib/python3.6/dist-packages/ipykernel_launcher.py:138: DeprecationWarning: in the future out of bounds indices will raise an error instead of being ignored by `numpy.delete`.\n"
          ],
          "name": "stderr"
        },
        {
          "output_type": "stream",
          "text": [
            "Time taken for predict function: 6.196943283081055\n",
            "Accuracy for fold 4: 88.86010362694302%\n",
            "\n",
            "Starting fold 5.....\n",
            "Current fold training shape: (9266, 8000)\n",
            "Current fold validation shape: (2316, 8000)\n",
            "Starting the Predicting Function....\n"
          ],
          "name": "stdout"
        },
        {
          "output_type": "stream",
          "text": [
            "/usr/local/lib/python3.6/dist-packages/ipykernel_launcher.py:137: DeprecationWarning: scipy.nonzero is deprecated and will be removed in SciPy 2.0.0, use numpy.nonzero instead\n",
            "/usr/local/lib/python3.6/dist-packages/ipykernel_launcher.py:138: DeprecationWarning: in the future out of bounds indices will raise an error instead of being ignored by `numpy.delete`.\n"
          ],
          "name": "stderr"
        },
        {
          "output_type": "stream",
          "text": [
            "Time taken for predict function: 6.174812316894531\n",
            "Accuracy for fold 5: 89.07599309153713%\n",
            "\n"
          ],
          "name": "stdout"
        },
        {
          "output_type": "display_data",
          "data": {
            "image/png": "[encoded data removed]",
            "text/plain": [
              "<Figure size 504x504 with 1 Axes>"
            ]
          },
          "metadata": {
            "tags": [],
            "needs_background": "light"
          }
        },
        {
          "output_type": "stream",
          "text": [
            "\n",
            "Avg accuracy for this model is: 89.37142901867477 %\n",
            "Avg error for this model is: 10.628570981325234 %\n",
            "\n"
          ],
          "name": "stdout"
        },
        {
          "output_type": "execute_result",
          "data": {
            "text/plain": [
              "(10.628570981325234,\n",
              " 89.37142901867477,\n",
              " {'1': 88.9943892965041,\n",
              "  '2': 89.85757444971946,\n",
              "  '3': 90.06908462867013,\n",
              "  '4': 88.86010362694302,\n",
              "  '5': 89.07599309153713})"
            ]
          },
          "metadata": {
            "tags": []
          },
          "execution_count": 67
        }
      ]
    },
    {
      "cell_type": "markdown",
      "metadata": {
        "id": "nT0bJn997E9_"
      },
      "source": [
        "7) Bernouilli NB with best pipeline"
      ]
    },
    {
      "cell_type": "code",
      "metadata": {
        "id": "3S9enB7L7Fhp"
      },
      "source": [
        "# Vectorizer object for linear svc\n",
        "myVectorizer4 = CountVectorizer(binary=True, max_df=1.0, min_df=0.0, stop_words=myStopWords, ngram_range=(1,1), max_features=None)\n",
        "\n",
        "# TFIDF normalizer\n",
        "tfidfNormalizer4 = TfidfTransformer(norm='l2', use_idf=True, smooth_idf=True, sublinear_tf=False)\n",
        "\n",
        "# Normalizer object for  linear svc\n",
        "normalizer4 = Normalizer()\n",
        "\n",
        "# Create our non binary training vector of word frequencies\n",
        "training_vectors4 = myVectorizer4.fit_transform(Xtraining)\n",
        "\n",
        "# Normalize with l2 so values are between 0 and 1\n",
        "training_vectors4_tfidf_normalized = tfidfNormalizer4.fit_transform(training_vectors4)\n",
        "training_vectors4_normalized = normalizer4.fit_transform(training_vectors4)\n",
        "\n",
        "# Now select our best features based on chi squared evaluation \n",
        "training_vectors4_normalized_new = SelectKBest(chi2, k=8000).fit_transform(training_vectors4_normalized, Y)\n",
        "training_vectors4_tfidf_normalized_new = SelectKBest(chi2, k=8000).fit_transform(training_vectors4_tfidf_normalized, Y)\n",
        "# training_vectors4_feature_selected = SelectKBest(chi2, k=8000).fit_transform(training_vectors4, Y)\n",
        "\n",
        "# # run kfold\n",
        "# run_K_Fold_CrossValidation(training_vectors4_normalized_new, Y, nbExp, numFolds=5)\n"
      ],
      "execution_count": 68,
      "outputs": []
    },
    {
      "cell_type": "markdown",
      "metadata": {
        "id": "ozLzXEHyt0Ej"
      },
      "source": [
        "Feature Selection for Bernouilli NB using Chi2"
      ]
    },
    {
      "cell_type": "code",
      "metadata": {
        "id": "BiQkH3lC7tRO",
        "outputId": "a3b71a39-0174-4222-f51c-3b7ed65920ea",
        "colab": {
          "base_uri": "https://localhost:8080/",
          "height": 1000
        }
      },
      "source": [
        "# Plotting feature size vs avgAccuracy\n",
        "featureList = [4000,5000, 6000, 7000, 8000, 9000, 10000]\n",
        "accuracies = []\n",
        "for f in featureList:\n",
        "  training_vectors4_normalized_new = SelectKBest(chi2, k=f).fit_transform(training_vectors4_normalized, Y)\n",
        "  _,avgAccuracy,_ = run_K_Fold_CrossValidation(training_vectors4_normalized_new, Y, Bernoulli_NB(alpha=0.01), numFolds=5)\n",
        "  accuracies.append(avgAccuracy)\n",
        "plt.figure(figsize=(8,8))\n",
        "plt.plot(featureList, accuracies)\n",
        "plt.title(\"Bernouilli Naive Bayes Feature Size Tunning\")\n",
        "plt.xlabel(\"Feature Size\")\n",
        "plt.ylabel(\"Average Model Accuracy\")\n",
        "plt.show()"
      ],
      "execution_count": 69,
      "outputs": [
        {
          "output_type": "stream",
          "text": [
            "Number of splitting iterations: 5\n",
            "\n",
            "Starting fold 1.....\n",
            "Current fold training shape: (9265, 4000)\n",
            "Current fold validation shape: (2317, 4000)\n",
            "Starting the Predicting Function....\n"
          ],
          "name": "stdout"
        },
        {
          "output_type": "stream",
          "text": [
            "/usr/local/lib/python3.6/dist-packages/ipykernel_launcher.py:137: DeprecationWarning: scipy.nonzero is deprecated and will be removed in SciPy 2.0.0, use numpy.nonzero instead\n",
            "/usr/local/lib/python3.6/dist-packages/ipykernel_launcher.py:138: DeprecationWarning: in the future out of bounds indices will raise an error instead of being ignored by `numpy.delete`.\n"
          ],
          "name": "stderr"
        },
        {
          "output_type": "stream",
          "text": [
            "Time taken for predict function: 6.287423372268677\n",
            "Accuracy for fold 1: 89.55545964609408%\n",
            "\n",
            "Starting fold 2.....\n",
            "Current fold training shape: (9265, 4000)\n",
            "Current fold validation shape: (2317, 4000)\n",
            "Starting the Predicting Function....\n"
          ],
          "name": "stdout"
        },
        {
          "output_type": "stream",
          "text": [
            "/usr/local/lib/python3.6/dist-packages/ipykernel_launcher.py:137: DeprecationWarning: scipy.nonzero is deprecated and will be removed in SciPy 2.0.0, use numpy.nonzero instead\n",
            "/usr/local/lib/python3.6/dist-packages/ipykernel_launcher.py:138: DeprecationWarning: in the future out of bounds indices will raise an error instead of being ignored by `numpy.delete`.\n"
          ],
          "name": "stderr"
        },
        {
          "output_type": "stream",
          "text": [
            "Time taken for predict function: 6.205758571624756\n",
            "Accuracy for fold 2: 90.15968925334484%\n",
            "\n",
            "Starting fold 3.....\n",
            "Current fold training shape: (9266, 4000)\n",
            "Current fold validation shape: (2316, 4000)\n",
            "Starting the Predicting Function....\n"
          ],
          "name": "stdout"
        },
        {
          "output_type": "stream",
          "text": [
            "/usr/local/lib/python3.6/dist-packages/ipykernel_launcher.py:137: DeprecationWarning: scipy.nonzero is deprecated and will be removed in SciPy 2.0.0, use numpy.nonzero instead\n",
            "/usr/local/lib/python3.6/dist-packages/ipykernel_launcher.py:138: DeprecationWarning: in the future out of bounds indices will raise an error instead of being ignored by `numpy.delete`.\n"
          ],
          "name": "stderr"
        },
        {
          "output_type": "stream",
          "text": [
            "Time taken for predict function: 6.208489894866943\n",
            "Accuracy for fold 3: 90.58721934369602%\n",
            "\n",
            "Starting fold 4.....\n",
            "Current fold training shape: (9266, 4000)\n",
            "Current fold validation shape: (2316, 4000)\n",
            "Starting the Predicting Function....\n"
          ],
          "name": "stdout"
        },
        {
          "output_type": "stream",
          "text": [
            "/usr/local/lib/python3.6/dist-packages/ipykernel_launcher.py:137: DeprecationWarning: scipy.nonzero is deprecated and will be removed in SciPy 2.0.0, use numpy.nonzero instead\n",
            "/usr/local/lib/python3.6/dist-packages/ipykernel_launcher.py:138: DeprecationWarning: in the future out of bounds indices will raise an error instead of being ignored by `numpy.delete`.\n"
          ],
          "name": "stderr"
        },
        {
          "output_type": "stream",
          "text": [
            "Time taken for predict function: 6.138349533081055\n",
            "Accuracy for fold 4: 89.59412780656304%\n",
            "\n",
            "Starting fold 5.....\n",
            "Current fold training shape: (9266, 4000)\n",
            "Current fold validation shape: (2316, 4000)\n",
            "Starting the Predicting Function....\n"
          ],
          "name": "stdout"
        },
        {
          "output_type": "stream",
          "text": [
            "/usr/local/lib/python3.6/dist-packages/ipykernel_launcher.py:137: DeprecationWarning: scipy.nonzero is deprecated and will be removed in SciPy 2.0.0, use numpy.nonzero instead\n",
            "/usr/local/lib/python3.6/dist-packages/ipykernel_launcher.py:138: DeprecationWarning: in the future out of bounds indices will raise an error instead of being ignored by `numpy.delete`.\n"
          ],
          "name": "stderr"
        },
        {
          "output_type": "stream",
          "text": [
            "Time taken for predict function: 6.152954578399658\n",
            "Accuracy for fold 5: 90.02590673575129%\n",
            "\n"
          ],
          "name": "stdout"
        },
        {
          "output_type": "display_data",
          "data": {
            "image/png": "[encoded data removed]",
            "text/plain": [
              "<Figure size 504x504 with 1 Axes>"
            ]
          },
          "metadata": {
            "tags": [],
            "needs_background": "light"
          }
        },
        {
          "output_type": "stream",
          "text": [
            "\n",
            "Avg accuracy for this model is: 89.98448055708985 %\n",
            "Avg error for this model is: 10.015519442910147 %\n",
            "\n",
            "Number of splitting iterations: 5\n",
            "\n",
            "Starting fold 1.....\n",
            "Current fold training shape: (9265, 5000)\n",
            "Current fold validation shape: (2317, 5000)\n",
            "Starting the Predicting Function....\n"
          ],
          "name": "stdout"
        },
        {
          "output_type": "stream",
          "text": [
            "/usr/local/lib/python3.6/dist-packages/ipykernel_launcher.py:137: DeprecationWarning: scipy.nonzero is deprecated and will be removed in SciPy 2.0.0, use numpy.nonzero instead\n",
            "/usr/local/lib/python3.6/dist-packages/ipykernel_launcher.py:138: DeprecationWarning: in the future out of bounds indices will raise an error instead of being ignored by `numpy.delete`.\n"
          ],
          "name": "stderr"
        },
        {
          "output_type": "stream",
          "text": [
            "Time taken for predict function: 6.247777223587036\n",
            "Accuracy for fold 1: 89.85757444971946%\n",
            "\n",
            "Starting fold 2.....\n",
            "Current fold training shape: (9265, 5000)\n",
            "Current fold validation shape: (2317, 5000)\n",
            "Starting the Predicting Function....\n"
          ],
          "name": "stdout"
        },
        {
          "output_type": "stream",
          "text": [
            "/usr/local/lib/python3.6/dist-packages/ipykernel_launcher.py:137: DeprecationWarning: scipy.nonzero is deprecated and will be removed in SciPy 2.0.0, use numpy.nonzero instead\n",
            "/usr/local/lib/python3.6/dist-packages/ipykernel_launcher.py:138: DeprecationWarning: in the future out of bounds indices will raise an error instead of being ignored by `numpy.delete`.\n"
          ],
          "name": "stderr"
        },
        {
          "output_type": "stream",
          "text": [
            "Time taken for predict function: 6.240432024002075\n",
            "Accuracy for fold 2: 89.943892965041%\n",
            "\n",
            "Starting fold 3.....\n",
            "Current fold training shape: (9266, 5000)\n",
            "Current fold validation shape: (2316, 5000)\n",
            "Starting the Predicting Function....\n"
          ],
          "name": "stdout"
        },
        {
          "output_type": "stream",
          "text": [
            "/usr/local/lib/python3.6/dist-packages/ipykernel_launcher.py:137: DeprecationWarning: scipy.nonzero is deprecated and will be removed in SciPy 2.0.0, use numpy.nonzero instead\n",
            "/usr/local/lib/python3.6/dist-packages/ipykernel_launcher.py:138: DeprecationWarning: in the future out of bounds indices will raise an error instead of being ignored by `numpy.delete`.\n"
          ],
          "name": "stderr"
        },
        {
          "output_type": "stream",
          "text": [
            "Time taken for predict function: 6.253273010253906\n",
            "Accuracy for fold 3: 90.71675302245251%\n",
            "\n",
            "Starting fold 4.....\n",
            "Current fold training shape: (9266, 5000)\n",
            "Current fold validation shape: (2316, 5000)\n",
            "Starting the Predicting Function....\n"
          ],
          "name": "stdout"
        },
        {
          "output_type": "stream",
          "text": [
            "/usr/local/lib/python3.6/dist-packages/ipykernel_launcher.py:137: DeprecationWarning: scipy.nonzero is deprecated and will be removed in SciPy 2.0.0, use numpy.nonzero instead\n",
            "/usr/local/lib/python3.6/dist-packages/ipykernel_launcher.py:138: DeprecationWarning: in the future out of bounds indices will raise an error instead of being ignored by `numpy.delete`.\n"
          ],
          "name": "stderr"
        },
        {
          "output_type": "stream",
          "text": [
            "Time taken for predict function: 6.202971696853638\n",
            "Accuracy for fold 4: 89.76683937823834%\n",
            "\n",
            "Starting fold 5.....\n",
            "Current fold training shape: (9266, 5000)\n",
            "Current fold validation shape: (2316, 5000)\n",
            "Starting the Predicting Function....\n"
          ],
          "name": "stdout"
        },
        {
          "output_type": "stream",
          "text": [
            "/usr/local/lib/python3.6/dist-packages/ipykernel_launcher.py:137: DeprecationWarning: scipy.nonzero is deprecated and will be removed in SciPy 2.0.0, use numpy.nonzero instead\n",
            "/usr/local/lib/python3.6/dist-packages/ipykernel_launcher.py:138: DeprecationWarning: in the future out of bounds indices will raise an error instead of being ignored by `numpy.delete`.\n"
          ],
          "name": "stderr"
        },
        {
          "output_type": "stream",
          "text": [
            "Time taken for predict function: 6.199300050735474\n",
            "Accuracy for fold 5: 90.3713298791019%\n",
            "\n"
          ],
          "name": "stdout"
        },
        {
          "output_type": "display_data",
          "data": {
            "image/png": "[encoded data removed]",
            "text/plain": [
              "<Figure size 504x504 with 1 Axes>"
            ]
          },
          "metadata": {
            "tags": [],
            "needs_background": "light"
          }
        },
        {
          "output_type": "stream",
          "text": [
            "\n",
            "Avg accuracy for this model is: 90.13127793891064 %\n",
            "Avg error for this model is: 9.868722061089354 %\n",
            "\n",
            "Number of splitting iterations: 5\n",
            "\n",
            "Starting fold 1.....\n",
            "Current fold training shape: (9265, 6000)\n",
            "Current fold validation shape: (2317, 6000)\n",
            "Starting the Predicting Function....\n"
          ],
          "name": "stdout"
        },
        {
          "output_type": "stream",
          "text": [
            "/usr/local/lib/python3.6/dist-packages/ipykernel_launcher.py:137: DeprecationWarning: scipy.nonzero is deprecated and will be removed in SciPy 2.0.0, use numpy.nonzero instead\n",
            "/usr/local/lib/python3.6/dist-packages/ipykernel_launcher.py:138: DeprecationWarning: in the future out of bounds indices will raise an error instead of being ignored by `numpy.delete`.\n"
          ],
          "name": "stderr"
        },
        {
          "output_type": "stream",
          "text": [
            "Time taken for predict function: 6.29460334777832\n",
            "Accuracy for fold 1: 89.90073370738023%\n",
            "\n",
            "Starting fold 2.....\n",
            "Current fold training shape: (9265, 6000)\n",
            "Current fold validation shape: (2317, 6000)\n",
            "Starting the Predicting Function....\n"
          ],
          "name": "stdout"
        },
        {
          "output_type": "stream",
          "text": [
            "/usr/local/lib/python3.6/dist-packages/ipykernel_launcher.py:137: DeprecationWarning: scipy.nonzero is deprecated and will be removed in SciPy 2.0.0, use numpy.nonzero instead\n",
            "/usr/local/lib/python3.6/dist-packages/ipykernel_launcher.py:138: DeprecationWarning: in the future out of bounds indices will raise an error instead of being ignored by `numpy.delete`.\n"
          ],
          "name": "stderr"
        },
        {
          "output_type": "stream",
          "text": [
            "Time taken for predict function: 6.19637656211853\n",
            "Accuracy for fold 2: 89.943892965041%\n",
            "\n",
            "Starting fold 3.....\n",
            "Current fold training shape: (9266, 6000)\n",
            "Current fold validation shape: (2316, 6000)\n",
            "Starting the Predicting Function....\n"
          ],
          "name": "stdout"
        },
        {
          "output_type": "stream",
          "text": [
            "/usr/local/lib/python3.6/dist-packages/ipykernel_launcher.py:137: DeprecationWarning: scipy.nonzero is deprecated and will be removed in SciPy 2.0.0, use numpy.nonzero instead\n",
            "/usr/local/lib/python3.6/dist-packages/ipykernel_launcher.py:138: DeprecationWarning: in the future out of bounds indices will raise an error instead of being ignored by `numpy.delete`.\n"
          ],
          "name": "stderr"
        },
        {
          "output_type": "stream",
          "text": [
            "Time taken for predict function: 6.264249324798584\n",
            "Accuracy for fold 3: 90.80310880829016%\n",
            "\n",
            "Starting fold 4.....\n",
            "Current fold training shape: (9266, 6000)\n",
            "Current fold validation shape: (2316, 6000)\n",
            "Starting the Predicting Function....\n"
          ],
          "name": "stdout"
        },
        {
          "output_type": "stream",
          "text": [
            "/usr/local/lib/python3.6/dist-packages/ipykernel_launcher.py:137: DeprecationWarning: scipy.nonzero is deprecated and will be removed in SciPy 2.0.0, use numpy.nonzero instead\n",
            "/usr/local/lib/python3.6/dist-packages/ipykernel_launcher.py:138: DeprecationWarning: in the future out of bounds indices will raise an error instead of being ignored by `numpy.delete`.\n"
          ],
          "name": "stderr"
        },
        {
          "output_type": "stream",
          "text": [
            "Time taken for predict function: 6.277374267578125\n",
            "Accuracy for fold 4: 90.02590673575129%\n",
            "\n",
            "Starting fold 5.....\n",
            "Current fold training shape: (9266, 6000)\n",
            "Current fold validation shape: (2316, 6000)\n",
            "Starting the Predicting Function....\n"
          ],
          "name": "stdout"
        },
        {
          "output_type": "stream",
          "text": [
            "/usr/local/lib/python3.6/dist-packages/ipykernel_launcher.py:137: DeprecationWarning: scipy.nonzero is deprecated and will be removed in SciPy 2.0.0, use numpy.nonzero instead\n",
            "/usr/local/lib/python3.6/dist-packages/ipykernel_launcher.py:138: DeprecationWarning: in the future out of bounds indices will raise an error instead of being ignored by `numpy.delete`.\n"
          ],
          "name": "stderr"
        },
        {
          "output_type": "stream",
          "text": [
            "Time taken for predict function: 6.270679235458374\n",
            "Accuracy for fold 5: 90.67357512953367%\n",
            "\n"
          ],
          "name": "stdout"
        },
        {
          "output_type": "display_data",
          "data": {
            "image/png": "[encoded data removed]",
            "text/plain": [
              "<Figure size 504x504 with 1 Axes>"
            ]
          },
          "metadata": {
            "tags": [],
            "needs_background": "light"
          }
        },
        {
          "output_type": "stream",
          "text": [
            "\n",
            "Avg accuracy for this model is: 90.26944346919927 %\n",
            "Avg error for this model is: 9.73055653080073 %\n",
            "\n",
            "Number of splitting iterations: 5\n",
            "\n",
            "Starting fold 1.....\n",
            "Current fold training shape: (9265, 7000)\n",
            "Current fold validation shape: (2317, 7000)\n",
            "Starting the Predicting Function....\n"
          ],
          "name": "stdout"
        },
        {
          "output_type": "stream",
          "text": [
            "/usr/local/lib/python3.6/dist-packages/ipykernel_launcher.py:137: DeprecationWarning: scipy.nonzero is deprecated and will be removed in SciPy 2.0.0, use numpy.nonzero instead\n",
            "/usr/local/lib/python3.6/dist-packages/ipykernel_launcher.py:138: DeprecationWarning: in the future out of bounds indices will raise an error instead of being ignored by `numpy.delete`.\n"
          ],
          "name": "stderr"
        },
        {
          "output_type": "stream",
          "text": [
            "Time taken for predict function: 6.245636701583862\n",
            "Accuracy for fold 1: 89.98705222270176%\n",
            "\n",
            "Starting fold 2.....\n",
            "Current fold training shape: (9265, 7000)\n",
            "Current fold validation shape: (2317, 7000)\n",
            "Starting the Predicting Function....\n"
          ],
          "name": "stdout"
        },
        {
          "output_type": "stream",
          "text": [
            "/usr/local/lib/python3.6/dist-packages/ipykernel_launcher.py:137: DeprecationWarning: scipy.nonzero is deprecated and will be removed in SciPy 2.0.0, use numpy.nonzero instead\n",
            "/usr/local/lib/python3.6/dist-packages/ipykernel_launcher.py:138: DeprecationWarning: in the future out of bounds indices will raise an error instead of being ignored by `numpy.delete`.\n"
          ],
          "name": "stderr"
        },
        {
          "output_type": "stream",
          "text": [
            "Time taken for predict function: 6.23350191116333\n",
            "Accuracy for fold 2: 90.28916702632715%\n",
            "\n",
            "Starting fold 3.....\n",
            "Current fold training shape: (9266, 7000)\n",
            "Current fold validation shape: (2316, 7000)\n",
            "Starting the Predicting Function....\n"
          ],
          "name": "stdout"
        },
        {
          "output_type": "stream",
          "text": [
            "/usr/local/lib/python3.6/dist-packages/ipykernel_launcher.py:137: DeprecationWarning: scipy.nonzero is deprecated and will be removed in SciPy 2.0.0, use numpy.nonzero instead\n",
            "/usr/local/lib/python3.6/dist-packages/ipykernel_launcher.py:138: DeprecationWarning: in the future out of bounds indices will raise an error instead of being ignored by `numpy.delete`.\n"
          ],
          "name": "stderr"
        },
        {
          "output_type": "stream",
          "text": [
            "Time taken for predict function: 6.268397331237793\n",
            "Accuracy for fold 3: 90.80310880829016%\n",
            "\n",
            "Starting fold 4.....\n",
            "Current fold training shape: (9266, 7000)\n",
            "Current fold validation shape: (2316, 7000)\n",
            "Starting the Predicting Function....\n"
          ],
          "name": "stdout"
        },
        {
          "output_type": "stream",
          "text": [
            "/usr/local/lib/python3.6/dist-packages/ipykernel_launcher.py:137: DeprecationWarning: scipy.nonzero is deprecated and will be removed in SciPy 2.0.0, use numpy.nonzero instead\n",
            "/usr/local/lib/python3.6/dist-packages/ipykernel_launcher.py:138: DeprecationWarning: in the future out of bounds indices will raise an error instead of being ignored by `numpy.delete`.\n"
          ],
          "name": "stderr"
        },
        {
          "output_type": "stream",
          "text": [
            "Time taken for predict function: 6.366715669631958\n",
            "Accuracy for fold 4: 90.45768566493955%\n",
            "\n",
            "Starting fold 5.....\n",
            "Current fold training shape: (9266, 7000)\n",
            "Current fold validation shape: (2316, 7000)\n",
            "Starting the Predicting Function....\n"
          ],
          "name": "stdout"
        },
        {
          "output_type": "stream",
          "text": [
            "/usr/local/lib/python3.6/dist-packages/ipykernel_launcher.py:137: DeprecationWarning: scipy.nonzero is deprecated and will be removed in SciPy 2.0.0, use numpy.nonzero instead\n",
            "/usr/local/lib/python3.6/dist-packages/ipykernel_launcher.py:138: DeprecationWarning: in the future out of bounds indices will raise an error instead of being ignored by `numpy.delete`.\n"
          ],
          "name": "stderr"
        },
        {
          "output_type": "stream",
          "text": [
            "Time taken for predict function: 6.212584018707275\n",
            "Accuracy for fold 5: 90.71675302245251%\n",
            "\n"
          ],
          "name": "stdout"
        },
        {
          "output_type": "display_data",
          "data": {
            "image/png": "[encoded data removed]",
            "text/plain": [
              "<Figure size 504x504 with 1 Axes>"
            ]
          },
          "metadata": {
            "tags": [],
            "needs_background": "light"
          }
        },
        {
          "output_type": "stream",
          "text": [
            "\n",
            "Avg accuracy for this model is: 90.45075334894223 %\n",
            "Avg error for this model is: 9.549246651057775 %\n",
            "\n",
            "Number of splitting iterations: 5\n",
            "\n",
            "Starting fold 1.....\n",
            "Current fold training shape: (9265, 8000)\n",
            "Current fold validation shape: (2317, 8000)\n",
            "Starting the Predicting Function....\n"
          ],
          "name": "stdout"
        },
        {
          "output_type": "stream",
          "text": [
            "/usr/local/lib/python3.6/dist-packages/ipykernel_launcher.py:137: DeprecationWarning: scipy.nonzero is deprecated and will be removed in SciPy 2.0.0, use numpy.nonzero instead\n",
            "/usr/local/lib/python3.6/dist-packages/ipykernel_launcher.py:138: DeprecationWarning: in the future out of bounds indices will raise an error instead of being ignored by `numpy.delete`.\n"
          ],
          "name": "stderr"
        },
        {
          "output_type": "stream",
          "text": [
            "Time taken for predict function: 6.208480358123779\n",
            "Accuracy for fold 1: 89.77125593439793%\n",
            "\n",
            "Starting fold 2.....\n",
            "Current fold training shape: (9265, 8000)\n",
            "Current fold validation shape: (2317, 8000)\n",
            "Starting the Predicting Function....\n"
          ],
          "name": "stdout"
        },
        {
          "output_type": "stream",
          "text": [
            "/usr/local/lib/python3.6/dist-packages/ipykernel_launcher.py:137: DeprecationWarning: scipy.nonzero is deprecated and will be removed in SciPy 2.0.0, use numpy.nonzero instead\n",
            "/usr/local/lib/python3.6/dist-packages/ipykernel_launcher.py:138: DeprecationWarning: in the future out of bounds indices will raise an error instead of being ignored by `numpy.delete`.\n"
          ],
          "name": "stderr"
        },
        {
          "output_type": "stream",
          "text": [
            "Time taken for predict function: 6.1654839515686035\n",
            "Accuracy for fold 2: 90.41864479930946%\n",
            "\n",
            "Starting fold 3.....\n",
            "Current fold training shape: (9266, 8000)\n",
            "Current fold validation shape: (2316, 8000)\n",
            "Starting the Predicting Function....\n"
          ],
          "name": "stdout"
        },
        {
          "output_type": "stream",
          "text": [
            "/usr/local/lib/python3.6/dist-packages/ipykernel_launcher.py:137: DeprecationWarning: scipy.nonzero is deprecated and will be removed in SciPy 2.0.0, use numpy.nonzero instead\n",
            "/usr/local/lib/python3.6/dist-packages/ipykernel_launcher.py:138: DeprecationWarning: in the future out of bounds indices will raise an error instead of being ignored by `numpy.delete`.\n"
          ],
          "name": "stderr"
        },
        {
          "output_type": "stream",
          "text": [
            "Time taken for predict function: 6.199089765548706\n",
            "Accuracy for fold 3: 90.5440414507772%\n",
            "\n",
            "Starting fold 4.....\n",
            "Current fold training shape: (9266, 8000)\n",
            "Current fold validation shape: (2316, 8000)\n",
            "Starting the Predicting Function....\n"
          ],
          "name": "stdout"
        },
        {
          "output_type": "stream",
          "text": [
            "/usr/local/lib/python3.6/dist-packages/ipykernel_launcher.py:137: DeprecationWarning: scipy.nonzero is deprecated and will be removed in SciPy 2.0.0, use numpy.nonzero instead\n",
            "/usr/local/lib/python3.6/dist-packages/ipykernel_launcher.py:138: DeprecationWarning: in the future out of bounds indices will raise an error instead of being ignored by `numpy.delete`.\n"
          ],
          "name": "stderr"
        },
        {
          "output_type": "stream",
          "text": [
            "Time taken for predict function: 6.181140422821045\n",
            "Accuracy for fold 4: 90.67357512953367%\n",
            "\n",
            "Starting fold 5.....\n",
            "Current fold training shape: (9266, 8000)\n",
            "Current fold validation shape: (2316, 8000)\n",
            "Starting the Predicting Function....\n"
          ],
          "name": "stdout"
        },
        {
          "output_type": "stream",
          "text": [
            "/usr/local/lib/python3.6/dist-packages/ipykernel_launcher.py:137: DeprecationWarning: scipy.nonzero is deprecated and will be removed in SciPy 2.0.0, use numpy.nonzero instead\n",
            "/usr/local/lib/python3.6/dist-packages/ipykernel_launcher.py:138: DeprecationWarning: in the future out of bounds indices will raise an error instead of being ignored by `numpy.delete`.\n"
          ],
          "name": "stderr"
        },
        {
          "output_type": "stream",
          "text": [
            "Time taken for predict function: 6.171780347824097\n",
            "Accuracy for fold 5: 90.75993091537133%\n",
            "\n"
          ],
          "name": "stdout"
        },
        {
          "output_type": "display_data",
          "data": {
            "image/png": "[encoded data removed]",
            "text/plain": [
              "<Figure size 504x504 with 1 Axes>"
            ]
          },
          "metadata": {
            "tags": [],
            "needs_background": "light"
          }
        },
        {
          "output_type": "stream",
          "text": [
            "\n",
            "Avg accuracy for this model is: 90.43348964587793 %\n",
            "Avg error for this model is: 9.566510354122082 %\n",
            "\n",
            "Number of splitting iterations: 5\n",
            "\n",
            "Starting fold 1.....\n",
            "Current fold training shape: (9265, 9000)\n",
            "Current fold validation shape: (2317, 9000)\n",
            "Starting the Predicting Function....\n"
          ],
          "name": "stdout"
        },
        {
          "output_type": "stream",
          "text": [
            "/usr/local/lib/python3.6/dist-packages/ipykernel_launcher.py:137: DeprecationWarning: scipy.nonzero is deprecated and will be removed in SciPy 2.0.0, use numpy.nonzero instead\n",
            "/usr/local/lib/python3.6/dist-packages/ipykernel_launcher.py:138: DeprecationWarning: in the future out of bounds indices will raise an error instead of being ignored by `numpy.delete`.\n"
          ],
          "name": "stderr"
        },
        {
          "output_type": "stream",
          "text": [
            "Time taken for predict function: 6.206475496292114\n",
            "Accuracy for fold 1: 89.68493741907639%\n",
            "\n",
            "Starting fold 2.....\n",
            "Current fold training shape: (9265, 9000)\n",
            "Current fold validation shape: (2317, 9000)\n",
            "Starting the Predicting Function....\n"
          ],
          "name": "stdout"
        },
        {
          "output_type": "stream",
          "text": [
            "/usr/local/lib/python3.6/dist-packages/ipykernel_launcher.py:137: DeprecationWarning: scipy.nonzero is deprecated and will be removed in SciPy 2.0.0, use numpy.nonzero instead\n",
            "/usr/local/lib/python3.6/dist-packages/ipykernel_launcher.py:138: DeprecationWarning: in the future out of bounds indices will raise an error instead of being ignored by `numpy.delete`.\n"
          ],
          "name": "stderr"
        },
        {
          "output_type": "stream",
          "text": [
            "Time taken for predict function: 6.182225227355957\n",
            "Accuracy for fold 2: 90.28916702632715%\n",
            "\n",
            "Starting fold 3.....\n",
            "Current fold training shape: (9266, 9000)\n",
            "Current fold validation shape: (2316, 9000)\n",
            "Starting the Predicting Function....\n"
          ],
          "name": "stdout"
        },
        {
          "output_type": "stream",
          "text": [
            "/usr/local/lib/python3.6/dist-packages/ipykernel_launcher.py:137: DeprecationWarning: scipy.nonzero is deprecated and will be removed in SciPy 2.0.0, use numpy.nonzero instead\n",
            "/usr/local/lib/python3.6/dist-packages/ipykernel_launcher.py:138: DeprecationWarning: in the future out of bounds indices will raise an error instead of being ignored by `numpy.delete`.\n"
          ],
          "name": "stderr"
        },
        {
          "output_type": "stream",
          "text": [
            "Time taken for predict function: 6.185935735702515\n",
            "Accuracy for fold 3: 90.71675302245251%\n",
            "\n",
            "Starting fold 4.....\n",
            "Current fold training shape: (9266, 9000)\n",
            "Current fold validation shape: (2316, 9000)\n",
            "Starting the Predicting Function....\n"
          ],
          "name": "stdout"
        },
        {
          "output_type": "stream",
          "text": [
            "/usr/local/lib/python3.6/dist-packages/ipykernel_launcher.py:137: DeprecationWarning: scipy.nonzero is deprecated and will be removed in SciPy 2.0.0, use numpy.nonzero instead\n",
            "/usr/local/lib/python3.6/dist-packages/ipykernel_launcher.py:138: DeprecationWarning: in the future out of bounds indices will raise an error instead of being ignored by `numpy.delete`.\n"
          ],
          "name": "stderr"
        },
        {
          "output_type": "stream",
          "text": [
            "Time taken for predict function: 6.19420313835144\n",
            "Accuracy for fold 4: 90.5440414507772%\n",
            "\n",
            "Starting fold 5.....\n",
            "Current fold training shape: (9266, 9000)\n",
            "Current fold validation shape: (2316, 9000)\n",
            "Starting the Predicting Function....\n"
          ],
          "name": "stdout"
        },
        {
          "output_type": "stream",
          "text": [
            "/usr/local/lib/python3.6/dist-packages/ipykernel_launcher.py:137: DeprecationWarning: scipy.nonzero is deprecated and will be removed in SciPy 2.0.0, use numpy.nonzero instead\n",
            "/usr/local/lib/python3.6/dist-packages/ipykernel_launcher.py:138: DeprecationWarning: in the future out of bounds indices will raise an error instead of being ignored by `numpy.delete`.\n"
          ],
          "name": "stderr"
        },
        {
          "output_type": "stream",
          "text": [
            "Time taken for predict function: 6.208614826202393\n",
            "Accuracy for fold 5: 90.84628670120898%\n",
            "\n"
          ],
          "name": "stdout"
        },
        {
          "output_type": "display_data",
          "data": {
            "image/png": "[encoded data removed]",
            "text/plain": [
              "<Figure size 504x504 with 1 Axes>"
            ]
          },
          "metadata": {
            "tags": [],
            "needs_background": "light"
          }
        },
        {
          "output_type": "stream",
          "text": [
            "\n",
            "Avg accuracy for this model is: 90.41623712396844 %\n",
            "Avg error for this model is: 9.583762876031553 %\n",
            "\n",
            "Number of splitting iterations: 5\n",
            "\n",
            "Starting fold 1.....\n",
            "Current fold training shape: (9265, 10000)\n",
            "Current fold validation shape: (2317, 10000)\n",
            "Starting the Predicting Function....\n"
          ],
          "name": "stdout"
        },
        {
          "output_type": "stream",
          "text": [
            "/usr/local/lib/python3.6/dist-packages/ipykernel_launcher.py:137: DeprecationWarning: scipy.nonzero is deprecated and will be removed in SciPy 2.0.0, use numpy.nonzero instead\n",
            "/usr/local/lib/python3.6/dist-packages/ipykernel_launcher.py:138: DeprecationWarning: in the future out of bounds indices will raise an error instead of being ignored by `numpy.delete`.\n"
          ],
          "name": "stderr"
        },
        {
          "output_type": "stream",
          "text": [
            "Time taken for predict function: 6.275175094604492\n",
            "Accuracy for fold 1: 89.85757444971946%\n",
            "\n",
            "Starting fold 2.....\n",
            "Current fold training shape: (9265, 10000)\n",
            "Current fold validation shape: (2317, 10000)\n",
            "Starting the Predicting Function....\n"
          ],
          "name": "stdout"
        },
        {
          "output_type": "stream",
          "text": [
            "/usr/local/lib/python3.6/dist-packages/ipykernel_launcher.py:137: DeprecationWarning: scipy.nonzero is deprecated and will be removed in SciPy 2.0.0, use numpy.nonzero instead\n",
            "/usr/local/lib/python3.6/dist-packages/ipykernel_launcher.py:138: DeprecationWarning: in the future out of bounds indices will raise an error instead of being ignored by `numpy.delete`.\n"
          ],
          "name": "stderr"
        },
        {
          "output_type": "stream",
          "text": [
            "Time taken for predict function: 6.312884092330933\n",
            "Accuracy for fold 2: 90.37548554164869%\n",
            "\n",
            "Starting fold 3.....\n",
            "Current fold training shape: (9266, 10000)\n",
            "Current fold validation shape: (2316, 10000)\n",
            "Starting the Predicting Function....\n"
          ],
          "name": "stdout"
        },
        {
          "output_type": "stream",
          "text": [
            "/usr/local/lib/python3.6/dist-packages/ipykernel_launcher.py:137: DeprecationWarning: scipy.nonzero is deprecated and will be removed in SciPy 2.0.0, use numpy.nonzero instead\n",
            "/usr/local/lib/python3.6/dist-packages/ipykernel_launcher.py:138: DeprecationWarning: in the future out of bounds indices will raise an error instead of being ignored by `numpy.delete`.\n"
          ],
          "name": "stderr"
        },
        {
          "output_type": "stream",
          "text": [
            "Time taken for predict function: 6.32739520072937\n",
            "Accuracy for fold 3: 90.63039723661485%\n",
            "\n",
            "Starting fold 4.....\n",
            "Current fold training shape: (9266, 10000)\n",
            "Current fold validation shape: (2316, 10000)\n",
            "Starting the Predicting Function....\n"
          ],
          "name": "stdout"
        },
        {
          "output_type": "stream",
          "text": [
            "/usr/local/lib/python3.6/dist-packages/ipykernel_launcher.py:137: DeprecationWarning: scipy.nonzero is deprecated and will be removed in SciPy 2.0.0, use numpy.nonzero instead\n",
            "/usr/local/lib/python3.6/dist-packages/ipykernel_launcher.py:138: DeprecationWarning: in the future out of bounds indices will raise an error instead of being ignored by `numpy.delete`.\n"
          ],
          "name": "stderr"
        },
        {
          "output_type": "stream",
          "text": [
            "Time taken for predict function: 6.224646329879761\n",
            "Accuracy for fold 4: 90.50086355785838%\n",
            "\n",
            "Starting fold 5.....\n",
            "Current fold training shape: (9266, 10000)\n",
            "Current fold validation shape: (2316, 10000)\n",
            "Starting the Predicting Function....\n"
          ],
          "name": "stdout"
        },
        {
          "output_type": "stream",
          "text": [
            "/usr/local/lib/python3.6/dist-packages/ipykernel_launcher.py:137: DeprecationWarning: scipy.nonzero is deprecated and will be removed in SciPy 2.0.0, use numpy.nonzero instead\n",
            "/usr/local/lib/python3.6/dist-packages/ipykernel_launcher.py:138: DeprecationWarning: in the future out of bounds indices will raise an error instead of being ignored by `numpy.delete`.\n"
          ],
          "name": "stderr"
        },
        {
          "output_type": "stream",
          "text": [
            "Time taken for predict function: 6.270390510559082\n",
            "Accuracy for fold 5: 90.67357512953367%\n",
            "\n"
          ],
          "name": "stdout"
        },
        {
          "output_type": "display_data",
          "data": {
            "image/png": "[encoded data removed]",
            "text/plain": [
              "<Figure size 504x504 with 1 Axes>"
            ]
          },
          "metadata": {
            "tags": [],
            "needs_background": "light"
          }
        },
        {
          "output_type": "stream",
          "text": [
            "\n",
            "Avg accuracy for this model is: 90.40757918307501 %\n",
            "Avg error for this model is: 9.592420816924989 %\n",
            "\n"
          ],
          "name": "stdout"
        },
        {
          "output_type": "display_data",
          "data": {
            "image/png": "[encoded data removed]",
            "text/plain": [
              "<Figure size 576x576 with 1 Axes>"
            ]
          },
          "metadata": {
            "tags": [],
            "needs_background": "light"
          }
        }
      ]
    },
    {
      "cell_type": "markdown",
      "metadata": {
        "id": "GnGEnPWwt7eN"
      },
      "source": [
        "Hyper-parameter Tunning for Bernouilli NB"
      ]
    },
    {
      "cell_type": "code",
      "metadata": {
        "id": "N4OUV20005CW",
        "outputId": "e6adc12a-dfd8-4179-b960-c21dcf315620",
        "colab": {
          "base_uri": "https://localhost:8080/",
          "height": 1000
        }
      },
      "source": [
        "# Plotting alphas vs avg accuracy of the model\n",
        "alpha = [0.1,0.08,0.06,0.04,0.02,0.01]\n",
        "accuracies = []\n",
        "for a in alpha:\n",
        "  _,avgAccuracy,_ = run_K_Fold_CrossValidation(training_vectors4_normalized_new, Y, Bernoulli_NB(alpha=a), numFolds=5)\n",
        "  accuracies.append(avgAccuracy)\n",
        "plt.figure(figsize=(8,8))\n",
        "plt.plot(alpha, accuracies)\n",
        "plt.title(\"Bernouilli Naive Bayes Alpha Tunning\")\n",
        "plt.xlabel(\"Alpha\")\n",
        "plt.ylabel(\"Average Model Accuracy\")\n",
        "plt.show()\n"
      ],
      "execution_count": 70,
      "outputs": [
        {
          "output_type": "stream",
          "text": [
            "Number of splitting iterations: 5\n",
            "\n",
            "Starting fold 1.....\n",
            "Current fold training shape: (9265, 10000)\n",
            "Current fold validation shape: (2317, 10000)\n",
            "Starting the Predicting Function....\n"
          ],
          "name": "stdout"
        },
        {
          "output_type": "stream",
          "text": [
            "/usr/local/lib/python3.6/dist-packages/ipykernel_launcher.py:137: DeprecationWarning: scipy.nonzero is deprecated and will be removed in SciPy 2.0.0, use numpy.nonzero instead\n",
            "/usr/local/lib/python3.6/dist-packages/ipykernel_launcher.py:138: DeprecationWarning: in the future out of bounds indices will raise an error instead of being ignored by `numpy.delete`.\n"
          ],
          "name": "stderr"
        },
        {
          "output_type": "stream",
          "text": [
            "Time taken for predict function: 6.293760776519775\n",
            "Accuracy for fold 1: 88.34700043159258%\n",
            "\n",
            "Starting fold 2.....\n",
            "Current fold training shape: (9265, 10000)\n",
            "Current fold validation shape: (2317, 10000)\n",
            "Starting the Predicting Function....\n"
          ],
          "name": "stdout"
        },
        {
          "output_type": "stream",
          "text": [
            "/usr/local/lib/python3.6/dist-packages/ipykernel_launcher.py:137: DeprecationWarning: scipy.nonzero is deprecated and will be removed in SciPy 2.0.0, use numpy.nonzero instead\n",
            "/usr/local/lib/python3.6/dist-packages/ipykernel_launcher.py:138: DeprecationWarning: in the future out of bounds indices will raise an error instead of being ignored by `numpy.delete`.\n"
          ],
          "name": "stderr"
        },
        {
          "output_type": "stream",
          "text": [
            "Time taken for predict function: 6.2507219314575195\n",
            "Accuracy for fold 2: 89.08070781182563%\n",
            "\n",
            "Starting fold 3.....\n",
            "Current fold training shape: (9266, 10000)\n",
            "Current fold validation shape: (2316, 10000)\n",
            "Starting the Predicting Function....\n"
          ],
          "name": "stdout"
        },
        {
          "output_type": "stream",
          "text": [
            "/usr/local/lib/python3.6/dist-packages/ipykernel_launcher.py:137: DeprecationWarning: scipy.nonzero is deprecated and will be removed in SciPy 2.0.0, use numpy.nonzero instead\n",
            "/usr/local/lib/python3.6/dist-packages/ipykernel_launcher.py:138: DeprecationWarning: in the future out of bounds indices will raise an error instead of being ignored by `numpy.delete`.\n"
          ],
          "name": "stderr"
        },
        {
          "output_type": "stream",
          "text": [
            "Time taken for predict function: 7.575698614120483\n",
            "Accuracy for fold 3: 89.89637305699482%\n",
            "\n",
            "Starting fold 4.....\n",
            "Current fold training shape: (9266, 10000)\n",
            "Current fold validation shape: (2316, 10000)\n",
            "Starting the Predicting Function....\n"
          ],
          "name": "stdout"
        },
        {
          "output_type": "stream",
          "text": [
            "/usr/local/lib/python3.6/dist-packages/ipykernel_launcher.py:137: DeprecationWarning: scipy.nonzero is deprecated and will be removed in SciPy 2.0.0, use numpy.nonzero instead\n",
            "/usr/local/lib/python3.6/dist-packages/ipykernel_launcher.py:138: DeprecationWarning: in the future out of bounds indices will raise an error instead of being ignored by `numpy.delete`.\n"
          ],
          "name": "stderr"
        },
        {
          "output_type": "stream",
          "text": [
            "Time taken for predict function: 6.219910383224487\n",
            "Accuracy for fold 4: 88.47150259067358%\n",
            "\n",
            "Starting fold 5.....\n",
            "Current fold training shape: (9266, 10000)\n",
            "Current fold validation shape: (2316, 10000)\n",
            "Starting the Predicting Function....\n"
          ],
          "name": "stdout"
        },
        {
          "output_type": "stream",
          "text": [
            "/usr/local/lib/python3.6/dist-packages/ipykernel_launcher.py:137: DeprecationWarning: scipy.nonzero is deprecated and will be removed in SciPy 2.0.0, use numpy.nonzero instead\n",
            "/usr/local/lib/python3.6/dist-packages/ipykernel_launcher.py:138: DeprecationWarning: in the future out of bounds indices will raise an error instead of being ignored by `numpy.delete`.\n"
          ],
          "name": "stderr"
        },
        {
          "output_type": "stream",
          "text": [
            "Time taken for predict function: 6.866394758224487\n",
            "Accuracy for fold 5: 90.02590673575129%\n",
            "\n"
          ],
          "name": "stdout"
        },
        {
          "output_type": "display_data",
          "data": {
            "image/png": "[encoded data removed]",
            "text/plain": [
              "<Figure size 504x504 with 1 Axes>"
            ]
          },
          "metadata": {
            "tags": [],
            "needs_background": "light"
          }
        },
        {
          "output_type": "stream",
          "text": [
            "\n",
            "Avg accuracy for this model is: 89.16429812536758 %\n",
            "Avg error for this model is: 10.83570187463242 %\n",
            "\n",
            "Number of splitting iterations: 5\n",
            "\n",
            "Starting fold 1.....\n",
            "Current fold training shape: (9265, 10000)\n",
            "Current fold validation shape: (2317, 10000)\n",
            "Starting the Predicting Function....\n"
          ],
          "name": "stdout"
        },
        {
          "output_type": "stream",
          "text": [
            "/usr/local/lib/python3.6/dist-packages/ipykernel_launcher.py:137: DeprecationWarning: scipy.nonzero is deprecated and will be removed in SciPy 2.0.0, use numpy.nonzero instead\n",
            "/usr/local/lib/python3.6/dist-packages/ipykernel_launcher.py:138: DeprecationWarning: in the future out of bounds indices will raise an error instead of being ignored by `numpy.delete`.\n"
          ],
          "name": "stderr"
        },
        {
          "output_type": "stream",
          "text": [
            "Time taken for predict function: 6.322584629058838\n",
            "Accuracy for fold 1: 88.82175226586104%\n",
            "\n",
            "Starting fold 2.....\n",
            "Current fold training shape: (9265, 10000)\n",
            "Current fold validation shape: (2317, 10000)\n",
            "Starting the Predicting Function....\n"
          ],
          "name": "stdout"
        },
        {
          "output_type": "stream",
          "text": [
            "/usr/local/lib/python3.6/dist-packages/ipykernel_launcher.py:137: DeprecationWarning: scipy.nonzero is deprecated and will be removed in SciPy 2.0.0, use numpy.nonzero instead\n",
            "/usr/local/lib/python3.6/dist-packages/ipykernel_launcher.py:138: DeprecationWarning: in the future out of bounds indices will raise an error instead of being ignored by `numpy.delete`.\n"
          ],
          "name": "stderr"
        },
        {
          "output_type": "stream",
          "text": [
            "Time taken for predict function: 6.355835437774658\n",
            "Accuracy for fold 2: 89.59861890375485%\n",
            "\n",
            "Starting fold 3.....\n",
            "Current fold training shape: (9266, 10000)\n",
            "Current fold validation shape: (2316, 10000)\n",
            "Starting the Predicting Function....\n"
          ],
          "name": "stdout"
        },
        {
          "output_type": "stream",
          "text": [
            "/usr/local/lib/python3.6/dist-packages/ipykernel_launcher.py:137: DeprecationWarning: scipy.nonzero is deprecated and will be removed in SciPy 2.0.0, use numpy.nonzero instead\n",
            "/usr/local/lib/python3.6/dist-packages/ipykernel_launcher.py:138: DeprecationWarning: in the future out of bounds indices will raise an error instead of being ignored by `numpy.delete`.\n"
          ],
          "name": "stderr"
        },
        {
          "output_type": "stream",
          "text": [
            "Time taken for predict function: 6.249483346939087\n",
            "Accuracy for fold 3: 90.19861830742659%\n",
            "\n",
            "Starting fold 4.....\n",
            "Current fold training shape: (9266, 10000)\n",
            "Current fold validation shape: (2316, 10000)\n",
            "Starting the Predicting Function....\n"
          ],
          "name": "stdout"
        },
        {
          "output_type": "stream",
          "text": [
            "/usr/local/lib/python3.6/dist-packages/ipykernel_launcher.py:137: DeprecationWarning: scipy.nonzero is deprecated and will be removed in SciPy 2.0.0, use numpy.nonzero instead\n",
            "/usr/local/lib/python3.6/dist-packages/ipykernel_launcher.py:138: DeprecationWarning: in the future out of bounds indices will raise an error instead of being ignored by `numpy.delete`.\n"
          ],
          "name": "stderr"
        },
        {
          "output_type": "stream",
          "text": [
            "Time taken for predict function: 6.268582105636597\n",
            "Accuracy for fold 4: 88.94645941278065%\n",
            "\n",
            "Starting fold 5.....\n",
            "Current fold training shape: (9266, 10000)\n",
            "Current fold validation shape: (2316, 10000)\n",
            "Starting the Predicting Function....\n"
          ],
          "name": "stdout"
        },
        {
          "output_type": "stream",
          "text": [
            "/usr/local/lib/python3.6/dist-packages/ipykernel_launcher.py:137: DeprecationWarning: scipy.nonzero is deprecated and will be removed in SciPy 2.0.0, use numpy.nonzero instead\n",
            "/usr/local/lib/python3.6/dist-packages/ipykernel_launcher.py:138: DeprecationWarning: in the future out of bounds indices will raise an error instead of being ignored by `numpy.delete`.\n"
          ],
          "name": "stderr"
        },
        {
          "output_type": "stream",
          "text": [
            "Time taken for predict function: 6.2751336097717285\n",
            "Accuracy for fold 5: 90.15544041450777%\n",
            "\n"
          ],
          "name": "stdout"
        },
        {
          "output_type": "display_data",
          "data": {
            "image/png": "[encoded data removed]",
            "text/plain": [
              "<Figure size 504x504 with 1 Axes>"
            ]
          },
          "metadata": {
            "tags": [],
            "needs_background": "light"
          }
        },
        {
          "output_type": "stream",
          "text": [
            "\n",
            "Avg accuracy for this model is: 89.54417786086618 %\n",
            "Avg error for this model is: 10.45582213913382 %\n",
            "\n",
            "Number of splitting iterations: 5\n",
            "\n",
            "Starting fold 1.....\n",
            "Current fold training shape: (9265, 10000)\n",
            "Current fold validation shape: (2317, 10000)\n",
            "Starting the Predicting Function....\n"
          ],
          "name": "stdout"
        },
        {
          "output_type": "stream",
          "text": [
            "/usr/local/lib/python3.6/dist-packages/ipykernel_launcher.py:137: DeprecationWarning: scipy.nonzero is deprecated and will be removed in SciPy 2.0.0, use numpy.nonzero instead\n",
            "/usr/local/lib/python3.6/dist-packages/ipykernel_launcher.py:138: DeprecationWarning: in the future out of bounds indices will raise an error instead of being ignored by `numpy.delete`.\n"
          ],
          "name": "stderr"
        },
        {
          "output_type": "stream",
          "text": [
            "Time taken for predict function: 6.320805311203003\n",
            "Accuracy for fold 1: 89.2533448424687%\n",
            "\n",
            "Starting fold 2.....\n",
            "Current fold training shape: (9265, 10000)\n",
            "Current fold validation shape: (2317, 10000)\n",
            "Starting the Predicting Function....\n"
          ],
          "name": "stdout"
        },
        {
          "output_type": "stream",
          "text": [
            "/usr/local/lib/python3.6/dist-packages/ipykernel_launcher.py:137: DeprecationWarning: scipy.nonzero is deprecated and will be removed in SciPy 2.0.0, use numpy.nonzero instead\n",
            "/usr/local/lib/python3.6/dist-packages/ipykernel_launcher.py:138: DeprecationWarning: in the future out of bounds indices will raise an error instead of being ignored by `numpy.delete`.\n"
          ],
          "name": "stderr"
        },
        {
          "output_type": "stream",
          "text": [
            "Time taken for predict function: 6.27752423286438\n",
            "Accuracy for fold 2: 89.90073370738023%\n",
            "\n",
            "Starting fold 3.....\n",
            "Current fold training shape: (9266, 10000)\n",
            "Current fold validation shape: (2316, 10000)\n",
            "Starting the Predicting Function....\n"
          ],
          "name": "stdout"
        },
        {
          "output_type": "stream",
          "text": [
            "/usr/local/lib/python3.6/dist-packages/ipykernel_launcher.py:137: DeprecationWarning: scipy.nonzero is deprecated and will be removed in SciPy 2.0.0, use numpy.nonzero instead\n",
            "/usr/local/lib/python3.6/dist-packages/ipykernel_launcher.py:138: DeprecationWarning: in the future out of bounds indices will raise an error instead of being ignored by `numpy.delete`.\n"
          ],
          "name": "stderr"
        },
        {
          "output_type": "stream",
          "text": [
            "Time taken for predict function: 6.263779401779175\n",
            "Accuracy for fold 3: 90.19861830742659%\n",
            "\n",
            "Starting fold 4.....\n",
            "Current fold training shape: (9266, 10000)\n",
            "Current fold validation shape: (2316, 10000)\n",
            "Starting the Predicting Function....\n"
          ],
          "name": "stdout"
        },
        {
          "output_type": "stream",
          "text": [
            "/usr/local/lib/python3.6/dist-packages/ipykernel_launcher.py:137: DeprecationWarning: scipy.nonzero is deprecated and will be removed in SciPy 2.0.0, use numpy.nonzero instead\n",
            "/usr/local/lib/python3.6/dist-packages/ipykernel_launcher.py:138: DeprecationWarning: in the future out of bounds indices will raise an error instead of being ignored by `numpy.delete`.\n"
          ],
          "name": "stderr"
        },
        {
          "output_type": "stream",
          "text": [
            "Time taken for predict function: 6.280590772628784\n",
            "Accuracy for fold 4: 89.33506044905009%\n",
            "\n",
            "Starting fold 5.....\n",
            "Current fold training shape: (9266, 10000)\n",
            "Current fold validation shape: (2316, 10000)\n",
            "Starting the Predicting Function....\n"
          ],
          "name": "stdout"
        },
        {
          "output_type": "stream",
          "text": [
            "/usr/local/lib/python3.6/dist-packages/ipykernel_launcher.py:137: DeprecationWarning: scipy.nonzero is deprecated and will be removed in SciPy 2.0.0, use numpy.nonzero instead\n",
            "/usr/local/lib/python3.6/dist-packages/ipykernel_launcher.py:138: DeprecationWarning: in the future out of bounds indices will raise an error instead of being ignored by `numpy.delete`.\n"
          ],
          "name": "stderr"
        },
        {
          "output_type": "stream",
          "text": [
            "Time taken for predict function: 6.2823405265808105\n",
            "Accuracy for fold 5: 90.67357512953367%\n",
            "\n"
          ],
          "name": "stdout"
        },
        {
          "output_type": "display_data",
          "data": {
            "image/png": "[encoded data removed]",
            "text/plain": [
              "<Figure size 504x504 with 1 Axes>"
            ]
          },
          "metadata": {
            "tags": [],
            "needs_background": "light"
          }
        },
        {
          "output_type": "stream",
          "text": [
            "\n",
            "Avg accuracy for this model is: 89.87226648717186 %\n",
            "Avg error for this model is: 10.127733512828144 %\n",
            "\n",
            "Number of splitting iterations: 5\n",
            "\n",
            "Starting fold 1.....\n",
            "Current fold training shape: (9265, 10000)\n",
            "Current fold validation shape: (2317, 10000)\n",
            "Starting the Predicting Function....\n"
          ],
          "name": "stdout"
        },
        {
          "output_type": "stream",
          "text": [
            "/usr/local/lib/python3.6/dist-packages/ipykernel_launcher.py:137: DeprecationWarning: scipy.nonzero is deprecated and will be removed in SciPy 2.0.0, use numpy.nonzero instead\n",
            "/usr/local/lib/python3.6/dist-packages/ipykernel_launcher.py:138: DeprecationWarning: in the future out of bounds indices will raise an error instead of being ignored by `numpy.delete`.\n"
          ],
          "name": "stderr"
        },
        {
          "output_type": "stream",
          "text": [
            "Time taken for predict function: 6.324654579162598\n",
            "Accuracy for fold 1: 89.77125593439793%\n",
            "\n",
            "Starting fold 2.....\n",
            "Current fold training shape: (9265, 10000)\n",
            "Current fold validation shape: (2317, 10000)\n",
            "Starting the Predicting Function....\n"
          ],
          "name": "stdout"
        },
        {
          "output_type": "stream",
          "text": [
            "/usr/local/lib/python3.6/dist-packages/ipykernel_launcher.py:137: DeprecationWarning: scipy.nonzero is deprecated and will be removed in SciPy 2.0.0, use numpy.nonzero instead\n",
            "/usr/local/lib/python3.6/dist-packages/ipykernel_launcher.py:138: DeprecationWarning: in the future out of bounds indices will raise an error instead of being ignored by `numpy.delete`.\n"
          ],
          "name": "stderr"
        },
        {
          "output_type": "stream",
          "text": [
            "Time taken for predict function: 6.260152339935303\n",
            "Accuracy for fold 2: 90.24600776866637%\n",
            "\n",
            "Starting fold 3.....\n",
            "Current fold training shape: (9266, 10000)\n",
            "Current fold validation shape: (2316, 10000)\n",
            "Starting the Predicting Function....\n"
          ],
          "name": "stdout"
        },
        {
          "output_type": "stream",
          "text": [
            "/usr/local/lib/python3.6/dist-packages/ipykernel_launcher.py:137: DeprecationWarning: scipy.nonzero is deprecated and will be removed in SciPy 2.0.0, use numpy.nonzero instead\n",
            "/usr/local/lib/python3.6/dist-packages/ipykernel_launcher.py:138: DeprecationWarning: in the future out of bounds indices will raise an error instead of being ignored by `numpy.delete`.\n"
          ],
          "name": "stderr"
        },
        {
          "output_type": "stream",
          "text": [
            "Time taken for predict function: 6.2525975704193115\n",
            "Accuracy for fold 3: 90.50086355785838%\n",
            "\n",
            "Starting fold 4.....\n",
            "Current fold training shape: (9266, 10000)\n",
            "Current fold validation shape: (2316, 10000)\n",
            "Starting the Predicting Function....\n"
          ],
          "name": "stdout"
        },
        {
          "output_type": "stream",
          "text": [
            "/usr/local/lib/python3.6/dist-packages/ipykernel_launcher.py:137: DeprecationWarning: scipy.nonzero is deprecated and will be removed in SciPy 2.0.0, use numpy.nonzero instead\n",
            "/usr/local/lib/python3.6/dist-packages/ipykernel_launcher.py:138: DeprecationWarning: in the future out of bounds indices will raise an error instead of being ignored by `numpy.delete`.\n"
          ],
          "name": "stderr"
        },
        {
          "output_type": "stream",
          "text": [
            "Time taken for predict function: 6.297358989715576\n",
            "Accuracy for fold 4: 89.68048359240069%\n",
            "\n",
            "Starting fold 5.....\n",
            "Current fold training shape: (9266, 10000)\n",
            "Current fold validation shape: (2316, 10000)\n",
            "Starting the Predicting Function....\n"
          ],
          "name": "stdout"
        },
        {
          "output_type": "stream",
          "text": [
            "/usr/local/lib/python3.6/dist-packages/ipykernel_launcher.py:137: DeprecationWarning: scipy.nonzero is deprecated and will be removed in SciPy 2.0.0, use numpy.nonzero instead\n",
            "/usr/local/lib/python3.6/dist-packages/ipykernel_launcher.py:138: DeprecationWarning: in the future out of bounds indices will raise an error instead of being ignored by `numpy.delete`.\n"
          ],
          "name": "stderr"
        },
        {
          "output_type": "stream",
          "text": [
            "Time taken for predict function: 6.238515138626099\n",
            "Accuracy for fold 5: 90.75993091537133%\n",
            "\n"
          ],
          "name": "stdout"
        },
        {
          "output_type": "display_data",
          "data": {
            "image/png": "[encoded data removed]",
            "text/plain": [
              "<Figure size 504x504 with 1 Axes>"
            ]
          },
          "metadata": {
            "tags": [],
            "needs_background": "light"
          }
        },
        {
          "output_type": "stream",
          "text": [
            "\n",
            "Avg accuracy for this model is: 90.19170835373896 %\n",
            "Avg error for this model is: 9.80829164626106 %\n",
            "\n",
            "Number of splitting iterations: 5\n",
            "\n",
            "Starting fold 1.....\n",
            "Current fold training shape: (9265, 10000)\n",
            "Current fold validation shape: (2317, 10000)\n",
            "Starting the Predicting Function....\n"
          ],
          "name": "stdout"
        },
        {
          "output_type": "stream",
          "text": [
            "/usr/local/lib/python3.6/dist-packages/ipykernel_launcher.py:137: DeprecationWarning: scipy.nonzero is deprecated and will be removed in SciPy 2.0.0, use numpy.nonzero instead\n",
            "/usr/local/lib/python3.6/dist-packages/ipykernel_launcher.py:138: DeprecationWarning: in the future out of bounds indices will raise an error instead of being ignored by `numpy.delete`.\n"
          ],
          "name": "stderr"
        },
        {
          "output_type": "stream",
          "text": [
            "Time taken for predict function: 6.262768745422363\n",
            "Accuracy for fold 1: 89.90073370738023%\n",
            "\n",
            "Starting fold 2.....\n",
            "Current fold training shape: (9265, 10000)\n",
            "Current fold validation shape: (2317, 10000)\n",
            "Starting the Predicting Function....\n"
          ],
          "name": "stdout"
        },
        {
          "output_type": "stream",
          "text": [
            "/usr/local/lib/python3.6/dist-packages/ipykernel_launcher.py:137: DeprecationWarning: scipy.nonzero is deprecated and will be removed in SciPy 2.0.0, use numpy.nonzero instead\n",
            "/usr/local/lib/python3.6/dist-packages/ipykernel_launcher.py:138: DeprecationWarning: in the future out of bounds indices will raise an error instead of being ignored by `numpy.delete`.\n"
          ],
          "name": "stderr"
        },
        {
          "output_type": "stream",
          "text": [
            "Time taken for predict function: 6.32298731803894\n",
            "Accuracy for fold 2: 90.72075960293483%\n",
            "\n",
            "Starting fold 3.....\n",
            "Current fold training shape: (9266, 10000)\n",
            "Current fold validation shape: (2316, 10000)\n",
            "Starting the Predicting Function....\n"
          ],
          "name": "stdout"
        },
        {
          "output_type": "stream",
          "text": [
            "/usr/local/lib/python3.6/dist-packages/ipykernel_launcher.py:137: DeprecationWarning: scipy.nonzero is deprecated and will be removed in SciPy 2.0.0, use numpy.nonzero instead\n",
            "/usr/local/lib/python3.6/dist-packages/ipykernel_launcher.py:138: DeprecationWarning: in the future out of bounds indices will raise an error instead of being ignored by `numpy.delete`.\n"
          ],
          "name": "stderr"
        },
        {
          "output_type": "stream",
          "text": [
            "Time taken for predict function: 6.370439291000366\n",
            "Accuracy for fold 3: 90.58721934369602%\n",
            "\n",
            "Starting fold 4.....\n",
            "Current fold training shape: (9266, 10000)\n",
            "Current fold validation shape: (2316, 10000)\n",
            "Starting the Predicting Function....\n"
          ],
          "name": "stdout"
        },
        {
          "output_type": "stream",
          "text": [
            "/usr/local/lib/python3.6/dist-packages/ipykernel_launcher.py:137: DeprecationWarning: scipy.nonzero is deprecated and will be removed in SciPy 2.0.0, use numpy.nonzero instead\n",
            "/usr/local/lib/python3.6/dist-packages/ipykernel_launcher.py:138: DeprecationWarning: in the future out of bounds indices will raise an error instead of being ignored by `numpy.delete`.\n"
          ],
          "name": "stderr"
        },
        {
          "output_type": "stream",
          "text": [
            "Time taken for predict function: 6.326300859451294\n",
            "Accuracy for fold 4: 90.32815198618307%\n",
            "\n",
            "Starting fold 5.....\n",
            "Current fold training shape: (9266, 10000)\n",
            "Current fold validation shape: (2316, 10000)\n",
            "Starting the Predicting Function....\n"
          ],
          "name": "stdout"
        },
        {
          "output_type": "stream",
          "text": [
            "/usr/local/lib/python3.6/dist-packages/ipykernel_launcher.py:137: DeprecationWarning: scipy.nonzero is deprecated and will be removed in SciPy 2.0.0, use numpy.nonzero instead\n",
            "/usr/local/lib/python3.6/dist-packages/ipykernel_launcher.py:138: DeprecationWarning: in the future out of bounds indices will raise an error instead of being ignored by `numpy.delete`.\n"
          ],
          "name": "stderr"
        },
        {
          "output_type": "stream",
          "text": [
            "Time taken for predict function: 6.216750860214233\n",
            "Accuracy for fold 5: 90.88946459412782%\n",
            "\n"
          ],
          "name": "stdout"
        },
        {
          "output_type": "display_data",
          "data": {
            "image/png": "[encoded data removed]",
            "text/plain": [
              "<Figure size 504x504 with 1 Axes>"
            ]
          },
          "metadata": {
            "tags": [],
            "needs_background": "light"
          }
        },
        {
          "output_type": "stream",
          "text": [
            "\n",
            "Avg accuracy for this model is: 90.4852658468644 %\n",
            "Avg error for this model is: 9.514734153135606 %\n",
            "\n",
            "Number of splitting iterations: 5\n",
            "\n",
            "Starting fold 1.....\n",
            "Current fold training shape: (9265, 10000)\n",
            "Current fold validation shape: (2317, 10000)\n",
            "Starting the Predicting Function....\n"
          ],
          "name": "stdout"
        },
        {
          "output_type": "stream",
          "text": [
            "/usr/local/lib/python3.6/dist-packages/ipykernel_launcher.py:137: DeprecationWarning: scipy.nonzero is deprecated and will be removed in SciPy 2.0.0, use numpy.nonzero instead\n",
            "/usr/local/lib/python3.6/dist-packages/ipykernel_launcher.py:138: DeprecationWarning: in the future out of bounds indices will raise an error instead of being ignored by `numpy.delete`.\n"
          ],
          "name": "stderr"
        },
        {
          "output_type": "stream",
          "text": [
            "Time taken for predict function: 6.28792667388916\n",
            "Accuracy for fold 1: 89.85757444971946%\n",
            "\n",
            "Starting fold 2.....\n",
            "Current fold training shape: (9265, 10000)\n",
            "Current fold validation shape: (2317, 10000)\n",
            "Starting the Predicting Function....\n"
          ],
          "name": "stdout"
        },
        {
          "output_type": "stream",
          "text": [
            "/usr/local/lib/python3.6/dist-packages/ipykernel_launcher.py:137: DeprecationWarning: scipy.nonzero is deprecated and will be removed in SciPy 2.0.0, use numpy.nonzero instead\n",
            "/usr/local/lib/python3.6/dist-packages/ipykernel_launcher.py:138: DeprecationWarning: in the future out of bounds indices will raise an error instead of being ignored by `numpy.delete`.\n"
          ],
          "name": "stderr"
        },
        {
          "output_type": "stream",
          "text": [
            "Time taken for predict function: 6.237659215927124\n",
            "Accuracy for fold 2: 90.37548554164869%\n",
            "\n",
            "Starting fold 3.....\n",
            "Current fold training shape: (9266, 10000)\n",
            "Current fold validation shape: (2316, 10000)\n",
            "Starting the Predicting Function....\n"
          ],
          "name": "stdout"
        },
        {
          "output_type": "stream",
          "text": [
            "/usr/local/lib/python3.6/dist-packages/ipykernel_launcher.py:137: DeprecationWarning: scipy.nonzero is deprecated and will be removed in SciPy 2.0.0, use numpy.nonzero instead\n",
            "/usr/local/lib/python3.6/dist-packages/ipykernel_launcher.py:138: DeprecationWarning: in the future out of bounds indices will raise an error instead of being ignored by `numpy.delete`.\n"
          ],
          "name": "stderr"
        },
        {
          "output_type": "stream",
          "text": [
            "Time taken for predict function: 6.254058361053467\n",
            "Accuracy for fold 3: 90.63039723661485%\n",
            "\n",
            "Starting fold 4.....\n",
            "Current fold training shape: (9266, 10000)\n",
            "Current fold validation shape: (2316, 10000)\n",
            "Starting the Predicting Function....\n"
          ],
          "name": "stdout"
        },
        {
          "output_type": "stream",
          "text": [
            "/usr/local/lib/python3.6/dist-packages/ipykernel_launcher.py:137: DeprecationWarning: scipy.nonzero is deprecated and will be removed in SciPy 2.0.0, use numpy.nonzero instead\n",
            "/usr/local/lib/python3.6/dist-packages/ipykernel_launcher.py:138: DeprecationWarning: in the future out of bounds indices will raise an error instead of being ignored by `numpy.delete`.\n"
          ],
          "name": "stderr"
        },
        {
          "output_type": "stream",
          "text": [
            "Time taken for predict function: 6.256783962249756\n",
            "Accuracy for fold 4: 90.50086355785838%\n",
            "\n",
            "Starting fold 5.....\n",
            "Current fold training shape: (9266, 10000)\n",
            "Current fold validation shape: (2316, 10000)\n",
            "Starting the Predicting Function....\n"
          ],
          "name": "stdout"
        },
        {
          "output_type": "stream",
          "text": [
            "/usr/local/lib/python3.6/dist-packages/ipykernel_launcher.py:137: DeprecationWarning: scipy.nonzero is deprecated and will be removed in SciPy 2.0.0, use numpy.nonzero instead\n",
            "/usr/local/lib/python3.6/dist-packages/ipykernel_launcher.py:138: DeprecationWarning: in the future out of bounds indices will raise an error instead of being ignored by `numpy.delete`.\n"
          ],
          "name": "stderr"
        },
        {
          "output_type": "stream",
          "text": [
            "Time taken for predict function: 6.2974841594696045\n",
            "Accuracy for fold 5: 90.67357512953367%\n",
            "\n"
          ],
          "name": "stdout"
        },
        {
          "output_type": "display_data",
          "data": {
            "image/png": "[encoded data removed]",
            "text/plain": [
              "<Figure size 504x504 with 1 Axes>"
            ]
          },
          "metadata": {
            "tags": [],
            "needs_background": "light"
          }
        },
        {
          "output_type": "stream",
          "text": [
            "\n",
            "Avg accuracy for this model is: 90.40757918307501 %\n",
            "Avg error for this model is: 9.592420816924989 %\n",
            "\n"
          ],
          "name": "stdout"
        },
        {
          "output_type": "display_data",
          "data": {
            "image/png": "[encoded data removed]",
            "text/plain": [
              "<Figure size 576x576 with 1 Axes>"
            ]
          },
          "metadata": {
            "tags": [],
            "needs_background": "light"
          }
        }
      ]
    },
    {
      "cell_type": "markdown",
      "metadata": {
        "id": "tPV6-8wh7GlS"
      },
      "source": [
        "8) Bernouilli NB with best pipeline binary=False"
      ]
    },
    {
      "cell_type": "code",
      "metadata": {
        "id": "L2FaTKWa7G6E",
        "outputId": "f281b261-0546-4794-8365-5516c878722d",
        "colab": {
          "base_uri": "https://localhost:8080/",
          "height": 1000
        }
      },
      "source": [
        "# Vectorizer object for linear svc\n",
        "myVectorizer4 = CountVectorizer(binary=False, max_df=1.0, min_df=0.0, stop_words=myStopWords, ngram_range=(1,1), max_features=None)\n",
        "\n",
        "# TFIDF normalizer\n",
        "tfidfNormalizer4 = TfidfTransformer(norm='l2', use_idf=True, smooth_idf=True, sublinear_tf=False)\n",
        "\n",
        "# Normalizer object for  linear svc\n",
        "normalizer4 = Normalizer()\n",
        "\n",
        "# Create our non binary training vector of word frequencies\n",
        "training_vectors4 = myVectorizer4.fit_transform(Xtraining)\n",
        "\n",
        "# Normalize with l2 so values are between 0 and 1\n",
        "training_vectors4_tfidf_normalized = tfidfNormalizer4.fit_transform(training_vectors4)\n",
        "training_vectors4_normalized = normalizer4.fit_transform(training_vectors4)\n",
        "\n",
        "# Now select our best features based on chi squared evaluation \n",
        "training_vectors4_normalized_new = SelectKBest(chi2, k=8000).fit_transform(training_vectors4_normalized, Y)\n",
        "training_vectors4_tfidf_normalized_new = SelectKBest(chi2, k=8000).fit_transform(training_vectors4_tfidf_normalized, Y)\n",
        "# training_vectors4_feature_selected = SelectKBest(chi2, k=8000).fit_transform(training_vectors4, Y)\n",
        "\n",
        "# run kfold\n",
        "run_K_Fold_CrossValidation(training_vectors4_tfidf_normalized_new, Y, nbExp, numFolds=5)\n"
      ],
      "execution_count": 72,
      "outputs": [
        {
          "output_type": "stream",
          "text": [
            "Number of splitting iterations: 5\n",
            "\n",
            "Starting fold 1.....\n",
            "Current fold training shape: (9265, 8000)\n",
            "Current fold validation shape: (2317, 8000)\n",
            "Starting the Predicting Function....\n"
          ],
          "name": "stdout"
        },
        {
          "output_type": "stream",
          "text": [
            "/usr/local/lib/python3.6/dist-packages/ipykernel_launcher.py:137: DeprecationWarning: scipy.nonzero is deprecated and will be removed in SciPy 2.0.0, use numpy.nonzero instead\n",
            "/usr/local/lib/python3.6/dist-packages/ipykernel_launcher.py:138: DeprecationWarning: in the future out of bounds indices will raise an error instead of being ignored by `numpy.delete`.\n"
          ],
          "name": "stderr"
        },
        {
          "output_type": "stream",
          "text": [
            "Time taken for predict function: 6.246456861495972\n",
            "Accuracy for fold 1: 89.81441519205869%\n",
            "\n",
            "Starting fold 2.....\n",
            "Current fold training shape: (9265, 8000)\n",
            "Current fold validation shape: (2317, 8000)\n",
            "Starting the Predicting Function....\n"
          ],
          "name": "stdout"
        },
        {
          "output_type": "stream",
          "text": [
            "/usr/local/lib/python3.6/dist-packages/ipykernel_launcher.py:137: DeprecationWarning: scipy.nonzero is deprecated and will be removed in SciPy 2.0.0, use numpy.nonzero instead\n",
            "/usr/local/lib/python3.6/dist-packages/ipykernel_launcher.py:138: DeprecationWarning: in the future out of bounds indices will raise an error instead of being ignored by `numpy.delete`.\n"
          ],
          "name": "stderr"
        },
        {
          "output_type": "stream",
          "text": [
            "Time taken for predict function: 6.143727540969849\n",
            "Accuracy for fold 2: 90.89339663357791%\n",
            "\n",
            "Starting fold 3.....\n",
            "Current fold training shape: (9266, 8000)\n",
            "Current fold validation shape: (2316, 8000)\n",
            "Starting the Predicting Function....\n"
          ],
          "name": "stdout"
        },
        {
          "output_type": "stream",
          "text": [
            "/usr/local/lib/python3.6/dist-packages/ipykernel_launcher.py:137: DeprecationWarning: scipy.nonzero is deprecated and will be removed in SciPy 2.0.0, use numpy.nonzero instead\n",
            "/usr/local/lib/python3.6/dist-packages/ipykernel_launcher.py:138: DeprecationWarning: in the future out of bounds indices will raise an error instead of being ignored by `numpy.delete`.\n"
          ],
          "name": "stderr"
        },
        {
          "output_type": "stream",
          "text": [
            "Time taken for predict function: 6.199432373046875\n",
            "Accuracy for fold 3: 90.88946459412782%\n",
            "\n",
            "Starting fold 4.....\n",
            "Current fold training shape: (9266, 8000)\n",
            "Current fold validation shape: (2316, 8000)\n",
            "Starting the Predicting Function....\n"
          ],
          "name": "stdout"
        },
        {
          "output_type": "stream",
          "text": [
            "/usr/local/lib/python3.6/dist-packages/ipykernel_launcher.py:137: DeprecationWarning: scipy.nonzero is deprecated and will be removed in SciPy 2.0.0, use numpy.nonzero instead\n",
            "/usr/local/lib/python3.6/dist-packages/ipykernel_launcher.py:138: DeprecationWarning: in the future out of bounds indices will raise an error instead of being ignored by `numpy.delete`.\n"
          ],
          "name": "stderr"
        },
        {
          "output_type": "stream",
          "text": [
            "Time taken for predict function: 6.64151406288147\n",
            "Accuracy for fold 4: 90.80310880829016%\n",
            "\n",
            "Starting fold 5.....\n",
            "Current fold training shape: (9266, 8000)\n",
            "Current fold validation shape: (2316, 8000)\n",
            "Starting the Predicting Function....\n"
          ],
          "name": "stdout"
        },
        {
          "output_type": "stream",
          "text": [
            "/usr/local/lib/python3.6/dist-packages/ipykernel_launcher.py:137: DeprecationWarning: scipy.nonzero is deprecated and will be removed in SciPy 2.0.0, use numpy.nonzero instead\n",
            "/usr/local/lib/python3.6/dist-packages/ipykernel_launcher.py:138: DeprecationWarning: in the future out of bounds indices will raise an error instead of being ignored by `numpy.delete`.\n"
          ],
          "name": "stderr"
        },
        {
          "output_type": "stream",
          "text": [
            "Time taken for predict function: 6.245970964431763\n",
            "Accuracy for fold 5: 91.10535405872193%\n",
            "\n"
          ],
          "name": "stdout"
        },
        {
          "output_type": "display_data",
          "data": {
            "image/png": "[encoded data removed]",
            "text/plain": [
              "<Figure size 504x504 with 1 Axes>"
            ]
          },
          "metadata": {
            "tags": [],
            "needs_background": "light"
          }
        },
        {
          "output_type": "stream",
          "text": [
            "\n",
            "Avg accuracy for this model is: 90.7011478573553 %\n",
            "Avg error for this model is: 9.2988521426447 %\n",
            "\n"
          ],
          "name": "stdout"
        },
        {
          "output_type": "execute_result",
          "data": {
            "text/plain": [
              "(9.2988521426447,\n",
              " 90.7011478573553,\n",
              " {'1': 89.81441519205869,\n",
              "  '2': 90.89339663357791,\n",
              "  '3': 90.88946459412782,\n",
              "  '4': 90.80310880829016,\n",
              "  '5': 91.10535405872193})"
            ]
          },
          "metadata": {
            "tags": []
          },
          "execution_count": 72
        }
      ]
    },
    {
      "cell_type": "markdown",
      "metadata": {
        "id": "v2opH1i77Hmu"
      },
      "source": [
        "9) Multinomial NB with best pipeline"
      ]
    },
    {
      "cell_type": "code",
      "metadata": {
        "id": "tmE717dJ7H_t",
        "outputId": "8c23f303-09ec-45ea-f6a1-0b58e6d57142",
        "colab": {
          "base_uri": "https://localhost:8080/",
          "height": 1000
        }
      },
      "source": [
        "# Vectorizer object for linear svc\n",
        "myVectorizer4 = CountVectorizer(binary=False, max_df=1.0, min_df=0.0, stop_words=myStopWords, ngram_range=(1,1), max_features=None)\n",
        "\n",
        "# TFIDF normalizer\n",
        "tfidfNormalizer4 = TfidfTransformer(norm='l2', use_idf=True, smooth_idf=True, sublinear_tf=False)\n",
        "\n",
        "# Normalizer object for  linear svc\n",
        "normalizer4 = Normalizer()\n",
        "\n",
        "# Create our non binary training vector of word frequencies\n",
        "training_vectors4 = myVectorizer4.fit_transform(Xtraining)\n",
        "\n",
        "# Normalize with l2 so values are between 0 and 1\n",
        "training_vectors4_tfidf_normalized = tfidfNormalizer4.fit_transform(training_vectors4)\n",
        "training_vectors4_normalized = normalizer4.fit_transform(training_vectors4)\n",
        "\n",
        "# Now select our best features based on chi squared evaluation \n",
        "training_vectors4_normalized_new = SelectKBest(chi2, k=7500).fit_transform(training_vectors4_normalized, Y)\n",
        "training_vectors4_tfidf_normalized_new = SelectKBest(chi2, k=8500).fit_transform(training_vectors4_tfidf_normalized, Y)\n",
        "\n",
        "run_K_Fold_CrossValidation(training_vectors4_normalized_new, Y, mbExp, numFolds=5)"
      ],
      "execution_count": 73,
      "outputs": [
        {
          "output_type": "stream",
          "text": [
            "Number of splitting iterations: 5\n",
            "\n",
            "Starting fold 1.....\n",
            "Current fold training shape: (9265, 7500)\n",
            "Current fold validation shape: (2317, 7500)\n",
            "Accuracy for fold 1: 90.28916702632715%\n",
            "\n",
            "Starting fold 2.....\n",
            "Current fold training shape: (9265, 7500)\n",
            "Current fold validation shape: (2317, 7500)\n",
            "Accuracy for fold 2: 91.06603366422098%\n",
            "\n",
            "Starting fold 3.....\n",
            "Current fold training shape: (9266, 7500)\n",
            "Current fold validation shape: (2316, 7500)\n",
            "Accuracy for fold 3: 91.58031088082902%\n",
            "\n",
            "Starting fold 4.....\n",
            "Current fold training shape: (9266, 7500)\n",
            "Current fold validation shape: (2316, 7500)\n",
            "Accuracy for fold 4: 91.66666666666666%\n",
            "\n",
            "Starting fold 5.....\n",
            "Current fold training shape: (9266, 7500)\n",
            "Current fold validation shape: (2316, 7500)\n",
            "Accuracy for fold 5: 91.58031088082902%\n",
            "\n"
          ],
          "name": "stdout"
        },
        {
          "output_type": "stream",
          "text": [
            "/usr/local/lib/python3.6/dist-packages/sklearn/utils/validation.py:760: DataConversionWarning: A column-vector y was passed when a 1d array was expected. Please change the shape of y to (n_samples, ), for example using ravel().\n",
            "  y = column_or_1d(y, warn=True)\n",
            "/usr/local/lib/python3.6/dist-packages/sklearn/utils/validation.py:760: DataConversionWarning: A column-vector y was passed when a 1d array was expected. Please change the shape of y to (n_samples, ), for example using ravel().\n",
            "  y = column_or_1d(y, warn=True)\n",
            "/usr/local/lib/python3.6/dist-packages/sklearn/utils/validation.py:760: DataConversionWarning: A column-vector y was passed when a 1d array was expected. Please change the shape of y to (n_samples, ), for example using ravel().\n",
            "  y = column_or_1d(y, warn=True)\n",
            "/usr/local/lib/python3.6/dist-packages/sklearn/utils/validation.py:760: DataConversionWarning: A column-vector y was passed when a 1d array was expected. Please change the shape of y to (n_samples, ), for example using ravel().\n",
            "  y = column_or_1d(y, warn=True)\n",
            "/usr/local/lib/python3.6/dist-packages/sklearn/utils/validation.py:760: DataConversionWarning: A column-vector y was passed when a 1d array was expected. Please change the shape of y to (n_samples, ), for example using ravel().\n",
            "  y = column_or_1d(y, warn=True)\n"
          ],
          "name": "stderr"
        },
        {
          "output_type": "display_data",
          "data": {
            "image/png": "[encoded data removed]",
            "text/plain": [
              "<Figure size 504x504 with 1 Axes>"
            ]
          },
          "metadata": {
            "tags": [],
            "needs_background": "light"
          }
        },
        {
          "output_type": "stream",
          "text": [
            "\n",
            "Avg accuracy for this model is: 91.23649782377457 %\n",
            "Avg error for this model is: 8.763502176225435 %\n",
            "\n"
          ],
          "name": "stdout"
        },
        {
          "output_type": "execute_result",
          "data": {
            "text/plain": [
              "(8.763502176225435,\n",
              " 91.23649782377457,\n",
              " {'1': 90.28916702632715,\n",
              "  '2': 91.06603366422098,\n",
              "  '3': 91.58031088082902,\n",
              "  '4': 91.66666666666666,\n",
              "  '5': 91.58031088082902})"
            ]
          },
          "metadata": {
            "tags": []
          },
          "execution_count": 73
        }
      ]
    },
    {
      "cell_type": "markdown",
      "metadata": {
        "id": "0BiD3f8VuHOl"
      },
      "source": [
        "Feature Selection using Chi2 for Multinomial and SVC\n"
      ]
    },
    {
      "cell_type": "code",
      "metadata": {
        "id": "vnjpQfBj_inO",
        "outputId": "296315f8-5265-4223-f292-913fc7464397",
        "colab": {
          "base_uri": "https://localhost:8080/",
          "height": 1000
        }
      },
      "source": [
        "# Plotting feature size vs avgAccuracy\n",
        "featureList = [4000,5000, 6000, 7000, 8500, 9000, 10000]\n",
        "accuracies = []\n",
        "for f in featureList:\n",
        "  training_vectors4_tfidf_normalized_new = SelectKBest(chi2, k=f).fit_transform(training_vectors4_tfidf_normalized, Y)\n",
        "  _,avgAccuracy,_ = run_K_Fold_CrossValidation(training_vectors4_tfidf_normalized_new, Y, MultinomialNB(alpha=0.04), numFolds=5)\n",
        "  accuracies.append(avgAccuracy)\n",
        "plt.figure(figsize=(8,8))\n",
        "plt.plot(featureList, accuracies)\n",
        "plt.title(\"Multinomial Naive Bayes Feature Size Tunning\")\n",
        "plt.xlabel(\"Feature Size\")\n",
        "plt.ylabel(\"Average Model Accuracy\")\n",
        "plt.show()"
      ],
      "execution_count": 74,
      "outputs": [
        {
          "output_type": "stream",
          "text": [
            "Number of splitting iterations: 5\n",
            "\n",
            "Starting fold 1.....\n",
            "Current fold training shape: (9265, 4000)\n",
            "Current fold validation shape: (2317, 4000)\n",
            "Accuracy for fold 1: 88.90807078118257%\n",
            "\n",
            "Starting fold 2.....\n",
            "Current fold training shape: (9265, 4000)\n",
            "Current fold validation shape: (2317, 4000)\n",
            "Accuracy for fold 2: 90.15968925334484%\n",
            "\n",
            "Starting fold 3.....\n",
            "Current fold training shape: (9266, 4000)\n",
            "Current fold validation shape: (2316, 4000)\n",
            "Accuracy for fold 3: 90.45768566493955%\n",
            "\n",
            "Starting fold 4.....\n",
            "Current fold training shape: (9266, 4000)\n",
            "Current fold validation shape: (2316, 4000)\n",
            "Accuracy for fold 4: 89.46459412780656%\n",
            "\n",
            "Starting fold 5.....\n",
            "Current fold training shape: (9266, 4000)\n",
            "Current fold validation shape: (2316, 4000)\n",
            "Accuracy for fold 5: 89.93955094991365%\n",
            "\n"
          ],
          "name": "stdout"
        },
        {
          "output_type": "stream",
          "text": [
            "/usr/local/lib/python3.6/dist-packages/sklearn/utils/validation.py:760: DataConversionWarning: A column-vector y was passed when a 1d array was expected. Please change the shape of y to (n_samples, ), for example using ravel().\n",
            "  y = column_or_1d(y, warn=True)\n",
            "/usr/local/lib/python3.6/dist-packages/sklearn/utils/validation.py:760: DataConversionWarning: A column-vector y was passed when a 1d array was expected. Please change the shape of y to (n_samples, ), for example using ravel().\n",
            "  y = column_or_1d(y, warn=True)\n",
            "/usr/local/lib/python3.6/dist-packages/sklearn/utils/validation.py:760: DataConversionWarning: A column-vector y was passed when a 1d array was expected. Please change the shape of y to (n_samples, ), for example using ravel().\n",
            "  y = column_or_1d(y, warn=True)\n",
            "/usr/local/lib/python3.6/dist-packages/sklearn/utils/validation.py:760: DataConversionWarning: A column-vector y was passed when a 1d array was expected. Please change the shape of y to (n_samples, ), for example using ravel().\n",
            "  y = column_or_1d(y, warn=True)\n",
            "/usr/local/lib/python3.6/dist-packages/sklearn/utils/validation.py:760: DataConversionWarning: A column-vector y was passed when a 1d array was expected. Please change the shape of y to (n_samples, ), for example using ravel().\n",
            "  y = column_or_1d(y, warn=True)\n"
          ],
          "name": "stderr"
        },
        {
          "output_type": "display_data",
          "data": {
            "image/png": "[encoded data removed]",
            "text/plain": [
              "<Figure size 504x504 with 1 Axes>"
            ]
          },
          "metadata": {
            "tags": [],
            "needs_background": "light"
          }
        },
        {
          "output_type": "stream",
          "text": [
            "\n",
            "Avg accuracy for this model is: 89.78591815543743 %\n",
            "Avg error for this model is: 10.214081844562566 %\n",
            "\n",
            "Number of splitting iterations: 5\n",
            "\n",
            "Starting fold 1.....\n",
            "Current fold training shape: (9265, 5000)\n",
            "Current fold validation shape: (2317, 5000)\n",
            "Accuracy for fold 1: 89.21018558480795%\n",
            "\n",
            "Starting fold 2.....\n",
            "Current fold training shape: (9265, 5000)\n",
            "Current fold validation shape: (2317, 5000)\n",
            "Accuracy for fold 2: 91.23867069486404%\n",
            "\n",
            "Starting fold 3.....\n",
            "Current fold training shape: (9266, 5000)\n",
            "Current fold validation shape: (2316, 5000)\n",
            "Accuracy for fold 3: 90.63039723661485%\n",
            "\n",
            "Starting fold 4.....\n",
            "Current fold training shape: (9266, 5000)\n",
            "Current fold validation shape: (2316, 5000)\n",
            "Accuracy for fold 4: 89.89637305699482%\n",
            "\n",
            "Starting fold 5.....\n",
            "Current fold training shape: (9266, 5000)\n",
            "Current fold validation shape: (2316, 5000)\n",
            "Accuracy for fold 5: 90.45768566493955%\n",
            "\n"
          ],
          "name": "stdout"
        },
        {
          "output_type": "stream",
          "text": [
            "/usr/local/lib/python3.6/dist-packages/sklearn/utils/validation.py:760: DataConversionWarning: A column-vector y was passed when a 1d array was expected. Please change the shape of y to (n_samples, ), for example using ravel().\n",
            "  y = column_or_1d(y, warn=True)\n",
            "/usr/local/lib/python3.6/dist-packages/sklearn/utils/validation.py:760: DataConversionWarning: A column-vector y was passed when a 1d array was expected. Please change the shape of y to (n_samples, ), for example using ravel().\n",
            "  y = column_or_1d(y, warn=True)\n",
            "/usr/local/lib/python3.6/dist-packages/sklearn/utils/validation.py:760: DataConversionWarning: A column-vector y was passed when a 1d array was expected. Please change the shape of y to (n_samples, ), for example using ravel().\n",
            "  y = column_or_1d(y, warn=True)\n",
            "/usr/local/lib/python3.6/dist-packages/sklearn/utils/validation.py:760: DataConversionWarning: A column-vector y was passed when a 1d array was expected. Please change the shape of y to (n_samples, ), for example using ravel().\n",
            "  y = column_or_1d(y, warn=True)\n",
            "/usr/local/lib/python3.6/dist-packages/sklearn/utils/validation.py:760: DataConversionWarning: A column-vector y was passed when a 1d array was expected. Please change the shape of y to (n_samples, ), for example using ravel().\n",
            "  y = column_or_1d(y, warn=True)\n"
          ],
          "name": "stderr"
        },
        {
          "output_type": "display_data",
          "data": {
            "image/png": "[encoded data removed]",
            "text/plain": [
              "<Figure size 504x504 with 1 Axes>"
            ]
          },
          "metadata": {
            "tags": [],
            "needs_background": "light"
          }
        },
        {
          "output_type": "stream",
          "text": [
            "\n",
            "Avg accuracy for this model is: 90.28666244764425 %\n",
            "Avg error for this model is: 9.713337552355759 %\n",
            "\n",
            "Number of splitting iterations: 5\n",
            "\n",
            "Starting fold 1.....\n",
            "Current fold training shape: (9265, 6000)\n",
            "Current fold validation shape: (2317, 6000)\n",
            "Accuracy for fold 1: 89.08070781182563%\n",
            "\n",
            "Starting fold 2.....\n",
            "Current fold training shape: (9265, 6000)\n",
            "Current fold validation shape: (2317, 6000)\n",
            "Accuracy for fold 2: 91.36814846784635%\n",
            "\n",
            "Starting fold 3.....\n",
            "Current fold training shape: (9266, 6000)\n",
            "Current fold validation shape: (2316, 6000)\n",
            "Accuracy for fold 3: 90.93264248704664%\n",
            "\n",
            "Starting fold 4.....\n",
            "Current fold training shape: (9266, 6000)\n",
            "Current fold validation shape: (2316, 6000)\n",
            "Accuracy for fold 4: 90.71675302245251%\n",
            "\n",
            "Starting fold 5.....\n",
            "Current fold training shape: (9266, 6000)\n",
            "Current fold validation shape: (2316, 6000)\n",
            "Accuracy for fold 5: 90.88946459412782%\n",
            "\n"
          ],
          "name": "stdout"
        },
        {
          "output_type": "stream",
          "text": [
            "/usr/local/lib/python3.6/dist-packages/sklearn/utils/validation.py:760: DataConversionWarning: A column-vector y was passed when a 1d array was expected. Please change the shape of y to (n_samples, ), for example using ravel().\n",
            "  y = column_or_1d(y, warn=True)\n",
            "/usr/local/lib/python3.6/dist-packages/sklearn/utils/validation.py:760: DataConversionWarning: A column-vector y was passed when a 1d array was expected. Please change the shape of y to (n_samples, ), for example using ravel().\n",
            "  y = column_or_1d(y, warn=True)\n",
            "/usr/local/lib/python3.6/dist-packages/sklearn/utils/validation.py:760: DataConversionWarning: A column-vector y was passed when a 1d array was expected. Please change the shape of y to (n_samples, ), for example using ravel().\n",
            "  y = column_or_1d(y, warn=True)\n",
            "/usr/local/lib/python3.6/dist-packages/sklearn/utils/validation.py:760: DataConversionWarning: A column-vector y was passed when a 1d array was expected. Please change the shape of y to (n_samples, ), for example using ravel().\n",
            "  y = column_or_1d(y, warn=True)\n",
            "/usr/local/lib/python3.6/dist-packages/sklearn/utils/validation.py:760: DataConversionWarning: A column-vector y was passed when a 1d array was expected. Please change the shape of y to (n_samples, ), for example using ravel().\n",
            "  y = column_or_1d(y, warn=True)\n"
          ],
          "name": "stderr"
        },
        {
          "output_type": "display_data",
          "data": {
            "image/png": "[encoded data removed]",
            "text/plain": [
              "<Figure size 504x504 with 1 Axes>"
            ]
          },
          "metadata": {
            "tags": [],
            "needs_background": "light"
          }
        },
        {
          "output_type": "stream",
          "text": [
            "\n",
            "Avg accuracy for this model is: 90.59754327665978 %\n",
            "Avg error for this model is: 9.402456723340212 %\n",
            "\n",
            "Number of splitting iterations: 5\n",
            "\n",
            "Starting fold 1.....\n",
            "Current fold training shape: (9265, 7000)\n",
            "Current fold validation shape: (2317, 7000)\n",
            "Accuracy for fold 1: 89.46914113077256%\n",
            "\n",
            "Starting fold 2.....\n",
            "Current fold training shape: (9265, 7000)\n",
            "Current fold validation shape: (2317, 7000)\n",
            "Accuracy for fold 2: 91.28182995252482%\n",
            "\n",
            "Starting fold 3.....\n",
            "Current fold training shape: (9266, 7000)\n",
            "Current fold validation shape: (2316, 7000)\n",
            "Accuracy for fold 3: 90.93264248704664%\n",
            "\n",
            "Starting fold 4.....\n",
            "Current fold training shape: (9266, 7000)\n",
            "Current fold validation shape: (2316, 7000)\n",
            "Accuracy for fold 4: 90.71675302245251%\n",
            "\n",
            "Starting fold 5.....\n",
            "Current fold training shape: (9266, 7000)\n",
            "Current fold validation shape: (2316, 7000)\n",
            "Accuracy for fold 5: 90.97582037996546%\n",
            "\n"
          ],
          "name": "stdout"
        },
        {
          "output_type": "stream",
          "text": [
            "/usr/local/lib/python3.6/dist-packages/sklearn/utils/validation.py:760: DataConversionWarning: A column-vector y was passed when a 1d array was expected. Please change the shape of y to (n_samples, ), for example using ravel().\n",
            "  y = column_or_1d(y, warn=True)\n",
            "/usr/local/lib/python3.6/dist-packages/sklearn/utils/validation.py:760: DataConversionWarning: A column-vector y was passed when a 1d array was expected. Please change the shape of y to (n_samples, ), for example using ravel().\n",
            "  y = column_or_1d(y, warn=True)\n",
            "/usr/local/lib/python3.6/dist-packages/sklearn/utils/validation.py:760: DataConversionWarning: A column-vector y was passed when a 1d array was expected. Please change the shape of y to (n_samples, ), for example using ravel().\n",
            "  y = column_or_1d(y, warn=True)\n",
            "/usr/local/lib/python3.6/dist-packages/sklearn/utils/validation.py:760: DataConversionWarning: A column-vector y was passed when a 1d array was expected. Please change the shape of y to (n_samples, ), for example using ravel().\n",
            "  y = column_or_1d(y, warn=True)\n",
            "/usr/local/lib/python3.6/dist-packages/sklearn/utils/validation.py:760: DataConversionWarning: A column-vector y was passed when a 1d array was expected. Please change the shape of y to (n_samples, ), for example using ravel().\n",
            "  y = column_or_1d(y, warn=True)\n"
          ],
          "name": "stderr"
        },
        {
          "output_type": "display_data",
          "data": {
            "image/png": "[encoded data removed]",
            "text/plain": [
              "<Figure size 504x504 with 1 Axes>"
            ]
          },
          "metadata": {
            "tags": [],
            "needs_background": "light"
          }
        },
        {
          "output_type": "stream",
          "text": [
            "\n",
            "Avg accuracy for this model is: 90.6752373945524 %\n",
            "Avg error for this model is: 9.324762605447606 %\n",
            "\n",
            "Number of splitting iterations: 5\n",
            "\n",
            "Starting fold 1.....\n",
            "Current fold training shape: (9265, 8500)\n",
            "Current fold validation shape: (2317, 8500)\n",
            "Accuracy for fold 1: 89.33966335779024%\n",
            "\n",
            "Starting fold 2.....\n",
            "Current fold training shape: (9265, 8500)\n",
            "Current fold validation shape: (2317, 8500)\n",
            "Accuracy for fold 2: 91.32498921018558%\n",
            "\n",
            "Starting fold 3.....\n",
            "Current fold training shape: (9266, 8500)\n",
            "Current fold validation shape: (2316, 8500)\n",
            "Accuracy for fold 3: 90.93264248704664%\n",
            "\n",
            "Starting fold 4.....\n",
            "Current fold training shape: (9266, 8500)\n",
            "Current fold validation shape: (2316, 8500)\n",
            "Accuracy for fold 4: 90.45768566493955%\n",
            "\n",
            "Starting fold 5.....\n",
            "Current fold training shape: (9266, 8500)\n",
            "Current fold validation shape: (2316, 8500)\n",
            "Accuracy for fold 5: 90.88946459412782%\n",
            "\n"
          ],
          "name": "stdout"
        },
        {
          "output_type": "stream",
          "text": [
            "/usr/local/lib/python3.6/dist-packages/sklearn/utils/validation.py:760: DataConversionWarning: A column-vector y was passed when a 1d array was expected. Please change the shape of y to (n_samples, ), for example using ravel().\n",
            "  y = column_or_1d(y, warn=True)\n",
            "/usr/local/lib/python3.6/dist-packages/sklearn/utils/validation.py:760: DataConversionWarning: A column-vector y was passed when a 1d array was expected. Please change the shape of y to (n_samples, ), for example using ravel().\n",
            "  y = column_or_1d(y, warn=True)\n",
            "/usr/local/lib/python3.6/dist-packages/sklearn/utils/validation.py:760: DataConversionWarning: A column-vector y was passed when a 1d array was expected. Please change the shape of y to (n_samples, ), for example using ravel().\n",
            "  y = column_or_1d(y, warn=True)\n",
            "/usr/local/lib/python3.6/dist-packages/sklearn/utils/validation.py:760: DataConversionWarning: A column-vector y was passed when a 1d array was expected. Please change the shape of y to (n_samples, ), for example using ravel().\n",
            "  y = column_or_1d(y, warn=True)\n",
            "/usr/local/lib/python3.6/dist-packages/sklearn/utils/validation.py:760: DataConversionWarning: A column-vector y was passed when a 1d array was expected. Please change the shape of y to (n_samples, ), for example using ravel().\n",
            "  y = column_or_1d(y, warn=True)\n"
          ],
          "name": "stderr"
        },
        {
          "output_type": "display_data",
          "data": {
            "image/png": "[encoded data removed]",
            "text/plain": [
              "<Figure size 504x504 with 1 Axes>"
            ]
          },
          "metadata": {
            "tags": [],
            "needs_background": "light"
          }
        },
        {
          "output_type": "stream",
          "text": [
            "\n",
            "Avg accuracy for this model is: 90.58888906281797 %\n",
            "Avg error for this model is: 9.411110937182036 %\n",
            "\n",
            "Number of splitting iterations: 5\n",
            "\n",
            "Starting fold 1.....\n",
            "Current fold training shape: (9265, 9000)\n",
            "Current fold validation shape: (2317, 9000)\n",
            "Accuracy for fold 1: 89.33966335779024%\n",
            "\n",
            "Starting fold 2.....\n",
            "Current fold training shape: (9265, 9000)\n",
            "Current fold validation shape: (2317, 9000)\n",
            "Accuracy for fold 2: 91.06603366422098%\n",
            "\n",
            "Starting fold 3.....\n",
            "Current fold training shape: (9266, 9000)\n",
            "Current fold validation shape: (2316, 9000)\n",
            "Accuracy for fold 3: 90.75993091537133%\n",
            "\n",
            "Starting fold 4.....\n",
            "Current fold training shape: (9266, 9000)\n",
            "Current fold validation shape: (2316, 9000)\n",
            "Accuracy for fold 4: 90.28497409326425%\n",
            "\n",
            "Starting fold 5.....\n",
            "Current fold training shape: (9266, 9000)\n",
            "Current fold validation shape: (2316, 9000)\n",
            "Accuracy for fold 5: 90.75993091537133%\n",
            "\n"
          ],
          "name": "stdout"
        },
        {
          "output_type": "stream",
          "text": [
            "/usr/local/lib/python3.6/dist-packages/sklearn/utils/validation.py:760: DataConversionWarning: A column-vector y was passed when a 1d array was expected. Please change the shape of y to (n_samples, ), for example using ravel().\n",
            "  y = column_or_1d(y, warn=True)\n",
            "/usr/local/lib/python3.6/dist-packages/sklearn/utils/validation.py:760: DataConversionWarning: A column-vector y was passed when a 1d array was expected. Please change the shape of y to (n_samples, ), for example using ravel().\n",
            "  y = column_or_1d(y, warn=True)\n",
            "/usr/local/lib/python3.6/dist-packages/sklearn/utils/validation.py:760: DataConversionWarning: A column-vector y was passed when a 1d array was expected. Please change the shape of y to (n_samples, ), for example using ravel().\n",
            "  y = column_or_1d(y, warn=True)\n",
            "/usr/local/lib/python3.6/dist-packages/sklearn/utils/validation.py:760: DataConversionWarning: A column-vector y was passed when a 1d array was expected. Please change the shape of y to (n_samples, ), for example using ravel().\n",
            "  y = column_or_1d(y, warn=True)\n",
            "/usr/local/lib/python3.6/dist-packages/sklearn/utils/validation.py:760: DataConversionWarning: A column-vector y was passed when a 1d array was expected. Please change the shape of y to (n_samples, ), for example using ravel().\n",
            "  y = column_or_1d(y, warn=True)\n"
          ],
          "name": "stderr"
        },
        {
          "output_type": "display_data",
          "data": {
            "image/png": "[encoded data removed]",
            "text/plain": [
              "<Figure size 504x504 with 1 Axes>"
            ]
          },
          "metadata": {
            "tags": [],
            "needs_background": "light"
          }
        },
        {
          "output_type": "stream",
          "text": [
            "\n",
            "Avg accuracy for this model is: 90.44210658920363 %\n",
            "Avg error for this model is: 9.557893410796373 %\n",
            "\n",
            "Number of splitting iterations: 5\n",
            "\n",
            "Starting fold 1.....\n",
            "Current fold training shape: (9265, 10000)\n",
            "Current fold validation shape: (2317, 10000)\n",
            "Accuracy for fold 1: 89.29650410012948%\n",
            "\n",
            "Starting fold 2.....\n",
            "Current fold training shape: (9265, 10000)\n",
            "Current fold validation shape: (2317, 10000)\n",
            "Accuracy for fold 2: 91.10919292188174%\n",
            "\n",
            "Starting fold 3.....\n",
            "Current fold training shape: (9266, 10000)\n",
            "Current fold validation shape: (2316, 10000)\n",
            "Accuracy for fold 3: 90.67357512953367%\n",
            "\n",
            "Starting fold 4.....\n",
            "Current fold training shape: (9266, 10000)\n",
            "Current fold validation shape: (2316, 10000)\n",
            "Accuracy for fold 4: 90.19861830742659%\n",
            "\n",
            "Starting fold 5.....\n",
            "Current fold training shape: (9266, 10000)\n",
            "Current fold validation shape: (2316, 10000)\n",
            "Accuracy for fold 5: 90.84628670120898%\n",
            "\n"
          ],
          "name": "stdout"
        },
        {
          "output_type": "stream",
          "text": [
            "/usr/local/lib/python3.6/dist-packages/sklearn/utils/validation.py:760: DataConversionWarning: A column-vector y was passed when a 1d array was expected. Please change the shape of y to (n_samples, ), for example using ravel().\n",
            "  y = column_or_1d(y, warn=True)\n",
            "/usr/local/lib/python3.6/dist-packages/sklearn/utils/validation.py:760: DataConversionWarning: A column-vector y was passed when a 1d array was expected. Please change the shape of y to (n_samples, ), for example using ravel().\n",
            "  y = column_or_1d(y, warn=True)\n",
            "/usr/local/lib/python3.6/dist-packages/sklearn/utils/validation.py:760: DataConversionWarning: A column-vector y was passed when a 1d array was expected. Please change the shape of y to (n_samples, ), for example using ravel().\n",
            "  y = column_or_1d(y, warn=True)\n",
            "/usr/local/lib/python3.6/dist-packages/sklearn/utils/validation.py:760: DataConversionWarning: A column-vector y was passed when a 1d array was expected. Please change the shape of y to (n_samples, ), for example using ravel().\n",
            "  y = column_or_1d(y, warn=True)\n",
            "/usr/local/lib/python3.6/dist-packages/sklearn/utils/validation.py:760: DataConversionWarning: A column-vector y was passed when a 1d array was expected. Please change the shape of y to (n_samples, ), for example using ravel().\n",
            "  y = column_or_1d(y, warn=True)\n"
          ],
          "name": "stderr"
        },
        {
          "output_type": "display_data",
          "data": {
            "image/png": "[encoded data removed]",
            "text/plain": [
              "<Figure size 504x504 with 1 Axes>"
            ]
          },
          "metadata": {
            "tags": [],
            "needs_background": "light"
          }
        },
        {
          "output_type": "stream",
          "text": [
            "\n",
            "Avg accuracy for this model is: 90.42483543203609 %\n",
            "Avg error for this model is: 9.575164567963906 %\n",
            "\n"
          ],
          "name": "stdout"
        },
        {
          "output_type": "display_data",
          "data": {
            "image/png": "[encoded data removed]",
            "text/plain": [
              "<Figure size 576x576 with 1 Axes>"
            ]
          },
          "metadata": {
            "tags": [],
            "needs_background": "light"
          }
        }
      ]
    },
    {
      "cell_type": "markdown",
      "metadata": {
        "id": "RUbHrHwbuP7V"
      },
      "source": [
        "Hyper-parameter Tunning for Multinomial NB"
      ]
    },
    {
      "cell_type": "code",
      "metadata": {
        "id": "lpP7uUBnA3eU",
        "outputId": "dd966fd1-4886-436b-ffb4-fb61d21e6911",
        "colab": {
          "base_uri": "https://localhost:8080/",
          "height": 1000
        }
      },
      "source": [
        "# Plotting alphas vs avg accuracy of the model\n",
        "alpha = [0.1,0.08,0.06,0.04,0.02,0.01]\n",
        "accuracies = []\n",
        "for a in alpha:\n",
        "  _,avgAccuracy,_ = run_K_Fold_CrossValidation(training_vectors4_tfidf_normalized_new, Y, MultinomialNB(alpha=a), numFolds=5)\n",
        "  accuracies.append(avgAccuracy)\n",
        "plt.figure(figsize=(8,8))\n",
        "plt.plot(alpha, accuracies)\n",
        "plt.title(\"Multinomial Naive Bayes Alpha Tunning\")\n",
        "plt.xlabel(\"Alpha\")\n",
        "plt.ylabel(\"Average Model Accuracy\")\n",
        "plt.show()\n"
      ],
      "execution_count": 75,
      "outputs": [
        {
          "output_type": "stream",
          "text": [
            "Number of splitting iterations: 5\n",
            "\n",
            "Starting fold 1.....\n",
            "Current fold training shape: (9265, 10000)\n",
            "Current fold validation shape: (2317, 10000)\n",
            "Accuracy for fold 1: 88.64911523521796%\n",
            "\n",
            "Starting fold 2.....\n",
            "Current fold training shape: (9265, 10000)\n",
            "Current fold validation shape: (2317, 10000)\n",
            "Accuracy for fold 2: 90.46180405697022%\n",
            "\n",
            "Starting fold 3.....\n",
            "Current fold training shape: (9266, 10000)\n",
            "Current fold validation shape: (2316, 10000)\n",
            "Accuracy for fold 3: 90.11226252158895%\n",
            "\n",
            "Starting fold 4.....\n",
            "Current fold training shape: (9266, 10000)\n",
            "Current fold validation shape: (2316, 10000)\n",
            "Accuracy for fold 4: 89.55094991364422%\n",
            "\n",
            "Starting fold 5.....\n",
            "Current fold training shape: (9266, 10000)\n",
            "Current fold validation shape: (2316, 10000)\n",
            "Accuracy for fold 5: 90.19861830742659%\n",
            "\n"
          ],
          "name": "stdout"
        },
        {
          "output_type": "stream",
          "text": [
            "/usr/local/lib/python3.6/dist-packages/sklearn/utils/validation.py:760: DataConversionWarning: A column-vector y was passed when a 1d array was expected. Please change the shape of y to (n_samples, ), for example using ravel().\n",
            "  y = column_or_1d(y, warn=True)\n",
            "/usr/local/lib/python3.6/dist-packages/sklearn/utils/validation.py:760: DataConversionWarning: A column-vector y was passed when a 1d array was expected. Please change the shape of y to (n_samples, ), for example using ravel().\n",
            "  y = column_or_1d(y, warn=True)\n",
            "/usr/local/lib/python3.6/dist-packages/sklearn/utils/validation.py:760: DataConversionWarning: A column-vector y was passed when a 1d array was expected. Please change the shape of y to (n_samples, ), for example using ravel().\n",
            "  y = column_or_1d(y, warn=True)\n",
            "/usr/local/lib/python3.6/dist-packages/sklearn/utils/validation.py:760: DataConversionWarning: A column-vector y was passed when a 1d array was expected. Please change the shape of y to (n_samples, ), for example using ravel().\n",
            "  y = column_or_1d(y, warn=True)\n",
            "/usr/local/lib/python3.6/dist-packages/sklearn/utils/validation.py:760: DataConversionWarning: A column-vector y was passed when a 1d array was expected. Please change the shape of y to (n_samples, ), for example using ravel().\n",
            "  y = column_or_1d(y, warn=True)\n"
          ],
          "name": "stderr"
        },
        {
          "output_type": "display_data",
          "data": {
            "image/png": "[encoded data removed]",
            "text/plain": [
              "<Figure size 504x504 with 1 Axes>"
            ]
          },
          "metadata": {
            "tags": [],
            "needs_background": "light"
          }
        },
        {
          "output_type": "stream",
          "text": [
            "\n",
            "Avg accuracy for this model is: 89.7945500069696 %\n",
            "Avg error for this model is: 10.205449993030413 %\n",
            "\n",
            "Number of splitting iterations: 5\n",
            "\n",
            "Starting fold 1.....\n",
            "Current fold training shape: (9265, 10000)\n",
            "Current fold validation shape: (2317, 10000)\n",
            "Accuracy for fold 1: 89.03754855416487%\n",
            "\n",
            "Starting fold 2.....\n",
            "Current fold training shape: (9265, 10000)\n",
            "Current fold validation shape: (2317, 10000)\n",
            "Accuracy for fold 2: 90.59128182995254%\n",
            "\n",
            "Starting fold 3.....\n",
            "Current fold training shape: (9266, 10000)\n",
            "Current fold validation shape: (2316, 10000)\n",
            "Accuracy for fold 3: 90.24179620034542%\n",
            "\n",
            "Starting fold 4.....\n",
            "Current fold training shape: (9266, 10000)\n",
            "Current fold validation shape: (2316, 10000)\n",
            "Accuracy for fold 4: 89.72366148531951%\n",
            "\n",
            "Starting fold 5.....\n",
            "Current fold training shape: (9266, 10000)\n",
            "Current fold validation shape: (2316, 10000)\n",
            "Accuracy for fold 5: 90.41450777202073%\n",
            "\n"
          ],
          "name": "stdout"
        },
        {
          "output_type": "stream",
          "text": [
            "/usr/local/lib/python3.6/dist-packages/sklearn/utils/validation.py:760: DataConversionWarning: A column-vector y was passed when a 1d array was expected. Please change the shape of y to (n_samples, ), for example using ravel().\n",
            "  y = column_or_1d(y, warn=True)\n",
            "/usr/local/lib/python3.6/dist-packages/sklearn/utils/validation.py:760: DataConversionWarning: A column-vector y was passed when a 1d array was expected. Please change the shape of y to (n_samples, ), for example using ravel().\n",
            "  y = column_or_1d(y, warn=True)\n",
            "/usr/local/lib/python3.6/dist-packages/sklearn/utils/validation.py:760: DataConversionWarning: A column-vector y was passed when a 1d array was expected. Please change the shape of y to (n_samples, ), for example using ravel().\n",
            "  y = column_or_1d(y, warn=True)\n",
            "/usr/local/lib/python3.6/dist-packages/sklearn/utils/validation.py:760: DataConversionWarning: A column-vector y was passed when a 1d array was expected. Please change the shape of y to (n_samples, ), for example using ravel().\n",
            "  y = column_or_1d(y, warn=True)\n",
            "/usr/local/lib/python3.6/dist-packages/sklearn/utils/validation.py:760: DataConversionWarning: A column-vector y was passed when a 1d array was expected. Please change the shape of y to (n_samples, ), for example using ravel().\n",
            "  y = column_or_1d(y, warn=True)\n"
          ],
          "name": "stderr"
        },
        {
          "output_type": "display_data",
          "data": {
            "image/png": "[encoded data removed]",
            "text/plain": [
              "<Figure size 504x504 with 1 Axes>"
            ]
          },
          "metadata": {
            "tags": [],
            "needs_background": "light"
          }
        },
        {
          "output_type": "stream",
          "text": [
            "\n",
            "Avg accuracy for this model is: 90.0017591683606 %\n",
            "Avg error for this model is: 9.998240831639388 %\n",
            "\n",
            "Number of splitting iterations: 5\n",
            "\n",
            "Starting fold 1.....\n",
            "Current fold training shape: (9265, 10000)\n",
            "Current fold validation shape: (2317, 10000)\n",
            "Accuracy for fold 1: 89.12386706948641%\n",
            "\n",
            "Starting fold 2.....\n",
            "Current fold training shape: (9265, 10000)\n",
            "Current fold validation shape: (2317, 10000)\n",
            "Accuracy for fold 2: 90.7639188605956%\n",
            "\n",
            "Starting fold 3.....\n",
            "Current fold training shape: (9266, 10000)\n",
            "Current fold validation shape: (2316, 10000)\n",
            "Accuracy for fold 3: 90.41450777202073%\n",
            "\n",
            "Starting fold 4.....\n",
            "Current fold training shape: (9266, 10000)\n",
            "Current fold validation shape: (2316, 10000)\n",
            "Accuracy for fold 4: 90.06908462867013%\n",
            "\n",
            "Starting fold 5.....\n",
            "Current fold training shape: (9266, 10000)\n",
            "Current fold validation shape: (2316, 10000)\n",
            "Accuracy for fold 5: 90.58721934369602%\n",
            "\n"
          ],
          "name": "stdout"
        },
        {
          "output_type": "stream",
          "text": [
            "/usr/local/lib/python3.6/dist-packages/sklearn/utils/validation.py:760: DataConversionWarning: A column-vector y was passed when a 1d array was expected. Please change the shape of y to (n_samples, ), for example using ravel().\n",
            "  y = column_or_1d(y, warn=True)\n",
            "/usr/local/lib/python3.6/dist-packages/sklearn/utils/validation.py:760: DataConversionWarning: A column-vector y was passed when a 1d array was expected. Please change the shape of y to (n_samples, ), for example using ravel().\n",
            "  y = column_or_1d(y, warn=True)\n",
            "/usr/local/lib/python3.6/dist-packages/sklearn/utils/validation.py:760: DataConversionWarning: A column-vector y was passed when a 1d array was expected. Please change the shape of y to (n_samples, ), for example using ravel().\n",
            "  y = column_or_1d(y, warn=True)\n",
            "/usr/local/lib/python3.6/dist-packages/sklearn/utils/validation.py:760: DataConversionWarning: A column-vector y was passed when a 1d array was expected. Please change the shape of y to (n_samples, ), for example using ravel().\n",
            "  y = column_or_1d(y, warn=True)\n",
            "/usr/local/lib/python3.6/dist-packages/sklearn/utils/validation.py:760: DataConversionWarning: A column-vector y was passed when a 1d array was expected. Please change the shape of y to (n_samples, ), for example using ravel().\n",
            "  y = column_or_1d(y, warn=True)\n"
          ],
          "name": "stderr"
        },
        {
          "output_type": "display_data",
          "data": {
            "image/png": "[encoded data removed]",
            "text/plain": [
              "<Figure size 504x504 with 1 Axes>"
            ]
          },
          "metadata": {
            "tags": [],
            "needs_background": "light"
          }
        },
        {
          "output_type": "stream",
          "text": [
            "\n",
            "Avg accuracy for this model is: 90.19171953489376 %\n",
            "Avg error for this model is: 9.808280465106225 %\n",
            "\n",
            "Number of splitting iterations: 5\n",
            "\n",
            "Starting fold 1.....\n",
            "Current fold training shape: (9265, 10000)\n",
            "Current fold validation shape: (2317, 10000)\n",
            "Accuracy for fold 1: 89.29650410012948%\n",
            "\n",
            "Starting fold 2.....\n",
            "Current fold training shape: (9265, 10000)\n",
            "Current fold validation shape: (2317, 10000)\n",
            "Accuracy for fold 2: 91.10919292188174%\n",
            "\n",
            "Starting fold 3.....\n",
            "Current fold training shape: (9266, 10000)\n",
            "Current fold validation shape: (2316, 10000)\n",
            "Accuracy for fold 3: 90.67357512953367%\n",
            "\n",
            "Starting fold 4.....\n",
            "Current fold training shape: (9266, 10000)\n",
            "Current fold validation shape: (2316, 10000)\n",
            "Accuracy for fold 4: 90.19861830742659%\n",
            "\n",
            "Starting fold 5.....\n",
            "Current fold training shape: (9266, 10000)\n",
            "Current fold validation shape: (2316, 10000)\n",
            "Accuracy for fold 5: 90.84628670120898%\n",
            "\n"
          ],
          "name": "stdout"
        },
        {
          "output_type": "stream",
          "text": [
            "/usr/local/lib/python3.6/dist-packages/sklearn/utils/validation.py:760: DataConversionWarning: A column-vector y was passed when a 1d array was expected. Please change the shape of y to (n_samples, ), for example using ravel().\n",
            "  y = column_or_1d(y, warn=True)\n",
            "/usr/local/lib/python3.6/dist-packages/sklearn/utils/validation.py:760: DataConversionWarning: A column-vector y was passed when a 1d array was expected. Please change the shape of y to (n_samples, ), for example using ravel().\n",
            "  y = column_or_1d(y, warn=True)\n",
            "/usr/local/lib/python3.6/dist-packages/sklearn/utils/validation.py:760: DataConversionWarning: A column-vector y was passed when a 1d array was expected. Please change the shape of y to (n_samples, ), for example using ravel().\n",
            "  y = column_or_1d(y, warn=True)\n",
            "/usr/local/lib/python3.6/dist-packages/sklearn/utils/validation.py:760: DataConversionWarning: A column-vector y was passed when a 1d array was expected. Please change the shape of y to (n_samples, ), for example using ravel().\n",
            "  y = column_or_1d(y, warn=True)\n",
            "/usr/local/lib/python3.6/dist-packages/sklearn/utils/validation.py:760: DataConversionWarning: A column-vector y was passed when a 1d array was expected. Please change the shape of y to (n_samples, ), for example using ravel().\n",
            "  y = column_or_1d(y, warn=True)\n"
          ],
          "name": "stderr"
        },
        {
          "output_type": "display_data",
          "data": {
            "image/png": "[encoded data removed]",
            "text/plain": [
              "<Figure size 504x504 with 1 Axes>"
            ]
          },
          "metadata": {
            "tags": [],
            "needs_background": "light"
          }
        },
        {
          "output_type": "stream",
          "text": [
            "\n",
            "Avg accuracy for this model is: 90.42483543203609 %\n",
            "Avg error for this model is: 9.575164567963906 %\n",
            "\n",
            "Number of splitting iterations: 5\n",
            "\n",
            "Starting fold 1.....\n",
            "Current fold training shape: (9265, 10000)\n",
            "Current fold validation shape: (2317, 10000)\n",
            "Accuracy for fold 1: 89.59861890375485%\n",
            "\n",
            "Starting fold 2.....\n",
            "Current fold training shape: (9265, 10000)\n",
            "Current fold validation shape: (2317, 10000)\n",
            "Accuracy for fold 2: 91.06603366422098%\n",
            "\n",
            "Starting fold 3.....\n",
            "Current fold training shape: (9266, 10000)\n",
            "Current fold validation shape: (2316, 10000)\n",
            "Accuracy for fold 3: 90.63039723661485%\n",
            "\n",
            "Starting fold 4.....\n",
            "Current fold training shape: (9266, 10000)\n",
            "Current fold validation shape: (2316, 10000)\n",
            "Accuracy for fold 4: 90.3713298791019%\n",
            "\n",
            "Starting fold 5.....\n",
            "Current fold training shape: (9266, 10000)\n",
            "Current fold validation shape: (2316, 10000)\n",
            "Accuracy for fold 5: 90.88946459412782%\n",
            "\n"
          ],
          "name": "stdout"
        },
        {
          "output_type": "stream",
          "text": [
            "/usr/local/lib/python3.6/dist-packages/sklearn/utils/validation.py:760: DataConversionWarning: A column-vector y was passed when a 1d array was expected. Please change the shape of y to (n_samples, ), for example using ravel().\n",
            "  y = column_or_1d(y, warn=True)\n",
            "/usr/local/lib/python3.6/dist-packages/sklearn/utils/validation.py:760: DataConversionWarning: A column-vector y was passed when a 1d array was expected. Please change the shape of y to (n_samples, ), for example using ravel().\n",
            "  y = column_or_1d(y, warn=True)\n",
            "/usr/local/lib/python3.6/dist-packages/sklearn/utils/validation.py:760: DataConversionWarning: A column-vector y was passed when a 1d array was expected. Please change the shape of y to (n_samples, ), for example using ravel().\n",
            "  y = column_or_1d(y, warn=True)\n",
            "/usr/local/lib/python3.6/dist-packages/sklearn/utils/validation.py:760: DataConversionWarning: A column-vector y was passed when a 1d array was expected. Please change the shape of y to (n_samples, ), for example using ravel().\n",
            "  y = column_or_1d(y, warn=True)\n",
            "/usr/local/lib/python3.6/dist-packages/sklearn/utils/validation.py:760: DataConversionWarning: A column-vector y was passed when a 1d array was expected. Please change the shape of y to (n_samples, ), for example using ravel().\n",
            "  y = column_or_1d(y, warn=True)\n"
          ],
          "name": "stderr"
        },
        {
          "output_type": "display_data",
          "data": {
            "image/png": "[encoded data removed]",
            "text/plain": [
              "<Figure size 504x504 with 1 Axes>"
            ]
          },
          "metadata": {
            "tags": [],
            "needs_background": "light"
          }
        },
        {
          "output_type": "stream",
          "text": [
            "\n",
            "Avg accuracy for this model is: 90.51116885556408 %\n",
            "Avg error for this model is: 9.488831144435917 %\n",
            "\n",
            "Number of splitting iterations: 5\n",
            "\n",
            "Starting fold 1.....\n",
            "Current fold training shape: (9265, 10000)\n",
            "Current fold validation shape: (2317, 10000)\n",
            "Accuracy for fold 1: 89.81441519205869%\n",
            "\n",
            "Starting fold 2.....\n",
            "Current fold training shape: (9265, 10000)\n",
            "Current fold validation shape: (2317, 10000)\n",
            "Accuracy for fold 2: 90.93655589123867%\n",
            "\n",
            "Starting fold 3.....\n",
            "Current fold training shape: (9266, 10000)\n",
            "Current fold validation shape: (2316, 10000)\n",
            "Accuracy for fold 3: 90.67357512953367%\n",
            "\n",
            "Starting fold 4.....\n",
            "Current fold training shape: (9266, 10000)\n",
            "Current fold validation shape: (2316, 10000)\n",
            "Accuracy for fold 4: 90.19861830742659%\n",
            "\n",
            "Starting fold 5.....\n",
            "Current fold training shape: (9266, 10000)\n",
            "Current fold validation shape: (2316, 10000)\n",
            "Accuracy for fold 5: 90.75993091537133%\n",
            "\n"
          ],
          "name": "stdout"
        },
        {
          "output_type": "stream",
          "text": [
            "/usr/local/lib/python3.6/dist-packages/sklearn/utils/validation.py:760: DataConversionWarning: A column-vector y was passed when a 1d array was expected. Please change the shape of y to (n_samples, ), for example using ravel().\n",
            "  y = column_or_1d(y, warn=True)\n",
            "/usr/local/lib/python3.6/dist-packages/sklearn/utils/validation.py:760: DataConversionWarning: A column-vector y was passed when a 1d array was expected. Please change the shape of y to (n_samples, ), for example using ravel().\n",
            "  y = column_or_1d(y, warn=True)\n",
            "/usr/local/lib/python3.6/dist-packages/sklearn/utils/validation.py:760: DataConversionWarning: A column-vector y was passed when a 1d array was expected. Please change the shape of y to (n_samples, ), for example using ravel().\n",
            "  y = column_or_1d(y, warn=True)\n",
            "/usr/local/lib/python3.6/dist-packages/sklearn/utils/validation.py:760: DataConversionWarning: A column-vector y was passed when a 1d array was expected. Please change the shape of y to (n_samples, ), for example using ravel().\n",
            "  y = column_or_1d(y, warn=True)\n",
            "/usr/local/lib/python3.6/dist-packages/sklearn/utils/validation.py:760: DataConversionWarning: A column-vector y was passed when a 1d array was expected. Please change the shape of y to (n_samples, ), for example using ravel().\n",
            "  y = column_or_1d(y, warn=True)\n"
          ],
          "name": "stderr"
        },
        {
          "output_type": "display_data",
          "data": {
            "image/png": "[encoded data removed]",
            "text/plain": [
              "<Figure size 504x504 with 1 Axes>"
            ]
          },
          "metadata": {
            "tags": [],
            "needs_background": "light"
          }
        },
        {
          "output_type": "stream",
          "text": [
            "\n",
            "Avg accuracy for this model is: 90.4766190871258 %\n",
            "Avg error for this model is: 9.523380912874211 %\n",
            "\n"
          ],
          "name": "stdout"
        },
        {
          "output_type": "display_data",
          "data": {
            "image/png": "[encoded data removed]",
            "text/plain": [
              "<Figure size 576x576 with 1 Axes>"
            ]
          },
          "metadata": {
            "tags": [],
            "needs_background": "light"
          }
        }
      ]
    },
    {
      "cell_type": "markdown",
      "metadata": {
        "id": "p8oriJR3-JkW"
      },
      "source": [
        "10) LinearSVC with best pipeline"
      ]
    },
    {
      "cell_type": "code",
      "metadata": {
        "id": "um7eKaVm-J5d",
        "outputId": "279a5733-092c-4df4-ec00-565c95794fec",
        "colab": {
          "base_uri": "https://localhost:8080/",
          "height": 1000
        }
      },
      "source": [
        "# Vectorizer object for linear svc\n",
        "myVectorizer3 = CountVectorizer(binary=False, max_df=1.0, min_df=0.0, stop_words=myStopWords, ngram_range=(1,1), max_features=None)\n",
        "\n",
        "# TFIDF normalizer\n",
        "tfidfNormalizer3 = TfidfTransformer(norm='l2', use_idf=True, smooth_idf=True, sublinear_tf=False)\n",
        "\n",
        "# Normalizer object for  linear svc\n",
        "normalizer3 = Normalizer()\n",
        "\n",
        "# Create our non binary training vector of word frequencies\n",
        "training_vectors3 = myVectorizer3.fit_transform(Xtraining)\n",
        "\n",
        "# Normalize with l2 so values are between 0 and 1\n",
        "training_vectors3_tfidf_normalized = tfidfNormalizer3.fit_transform(training_vectors3)\n",
        "training_vectors3_normalized = normalizer3.fit_transform(training_vectors3)\n",
        "\n",
        "# Now select our best features based on chi squared evaluation \n",
        "training_vectors3_normalized_new = SelectKBest(chi2, k=15000).fit_transform(training_vectors3_normalized, Y)\n",
        "training_vectors3_tfidf_normalized_new = SelectKBest(chi2, k=15000).fit_transform(training_vectors3_tfidf_normalized, Y)\n",
        "\n",
        "Ysvc = np.reshape(Y, (Y.shape[0],))\n",
        "run_K_Fold_CrossValidation(training_vectors3_tfidf_normalized_new, Ysvc, linearsvc, numFolds=5)"
      ],
      "execution_count": 76,
      "outputs": [
        {
          "output_type": "stream",
          "text": [
            "Number of splitting iterations: 5\n",
            "\n",
            "Starting fold 1.....\n",
            "Current fold training shape: (9265, 15000)\n",
            "Current fold validation shape: (2317, 15000)\n",
            "Accuracy for fold 1: 88.9943892965041%\n",
            "\n",
            "Starting fold 2.....\n",
            "Current fold training shape: (9265, 15000)\n",
            "Current fold validation shape: (2317, 15000)\n",
            "Accuracy for fold 2: 89.51230038843332%\n",
            "\n",
            "Starting fold 3.....\n",
            "Current fold training shape: (9266, 15000)\n",
            "Current fold validation shape: (2316, 15000)\n",
            "Accuracy for fold 3: 90.02590673575129%\n",
            "\n",
            "Starting fold 4.....\n",
            "Current fold training shape: (9266, 15000)\n",
            "Current fold validation shape: (2316, 15000)\n",
            "Accuracy for fold 4: 88.60103626943005%\n",
            "\n",
            "Starting fold 5.....\n",
            "Current fold training shape: (9266, 15000)\n",
            "Current fold validation shape: (2316, 15000)\n",
            "Accuracy for fold 5: 89.59412780656304%\n",
            "\n"
          ],
          "name": "stdout"
        },
        {
          "output_type": "display_data",
          "data": {
            "image/png": "[encoded data removed]",
            "text/plain": [
              "<Figure size 504x504 with 1 Axes>"
            ]
          },
          "metadata": {
            "tags": [],
            "needs_background": "light"
          }
        },
        {
          "output_type": "stream",
          "text": [
            "\n",
            "Avg accuracy for this model is: 89.34555209933636 %\n",
            "Avg error for this model is: 10.65444790066364 %\n",
            "\n"
          ],
          "name": "stdout"
        },
        {
          "output_type": "execute_result",
          "data": {
            "text/plain": [
              "(10.65444790066364,\n",
              " 89.34555209933636,\n",
              " {'1': 88.9943892965041,\n",
              "  '2': 89.51230038843332,\n",
              "  '3': 90.02590673575129,\n",
              "  '4': 88.60103626943005,\n",
              "  '5': 89.59412780656304})"
            ]
          },
          "metadata": {
            "tags": []
          },
          "execution_count": 76
        }
      ]
    }
  ]
}
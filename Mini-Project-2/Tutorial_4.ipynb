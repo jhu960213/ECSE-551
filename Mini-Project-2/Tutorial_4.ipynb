{
 "cells": [
  {
   "cell_type": "markdown",
   "metadata": {
    "id": "YvRiv2UQs29n"
   },
   "source": [
    "\n",
    "\n",
    "### Things we'll cover today\n",
    "\n",
    "\n",
    "\n",
    " **How to go about doing ML (with scikit learn)**\n",
    "  - ML as a single pipeline\n",
    "    - Most common data preprocessing steps\n",
    "      - train-test split\n",
    "      - vectorization of textual features (only for textual features)\n",
    "      - Stop words\n",
    "      - TF-IDF (only for textual features)\n",
    "      - normalization\n",
    "      - Stemming\n",
    "      - Lemmatization\n",
    "      \n",
    "    - Training\n",
    "      - fit \n",
    "      - predict\n",
    "    - Evaluation\n",
    "      - metrics : measure accuracy - precision / recall / f-score\n",
    "      - Cross validation\n",
    "      - Grid Search\n"
   ]
  },
  {
   "cell_type": "markdown",
   "metadata": {
    "id": "WJjnEK7ruBGG"
   },
   "source": [
    "1) **What is scikit-learn and why should I care about it**\n",
    "\n",
    "- Scikit-learn is a python-based free ML library that provides well-implemented off-the-shelf implementations for almost all ML operations.\n",
    "- Implementing ML from scratch that is scalable, efficient, and error-free is really very very hard.\n",
    "\n"
   ]
  },
  {
   "cell_type": "markdown",
   "metadata": {
    "id": "1djLfdI5uVSf"
   },
   "source": [
    "2.1) **ML as a single pipeline**\n",
    "- Almost all *scalable* ML models follows the style of development in a pipeline. It eases the pain of thinking through the complex ML processes.\n",
    "- Keep this pipeline in mind while developing any ML model.\n",
    "\n",
    "![alt text](http://cs.mcgill.ca/~sthaku3/other_media/COMP551_tutorial_2/Steps.png)\n",
    "\n",
    "\n",
    "- P.S. :: Closed-form solution seeking ML don't follow this suit."
   ]
  },
  {
   "cell_type": "markdown",
   "metadata": {
    "id": "oxIhuK9JukzO"
   },
   "source": [
    "*** Most common data-proprocessing steps***\n",
    "\n",
    "\n"
   ]
  },
  {
   "cell_type": "markdown",
   "metadata": {
    "id": "LC_o6UN6vPMe"
   },
   "source": [
    "*** Vectorization of textual features (applicable only for textual features)***\n",
    "\n",
    "A very simple approach to represent textual features such as documents or sentences as numerical value is to use each word as an atomic type and as a basis for a vector space. For example imagine a world where there exist only 3 words: “Apple”, “Orange”, and “Banana” and every sentence or document is made of them. They become the basis of a 3 dimensional vector space:\n",
    "\n",
    "```\n",
    "Apple  ==>> [1,0,0]\n",
    "Banana ==>> [0,1,0]\n",
    "Orange ==>> [0,0,1]\n",
    "```\n",
    "\n",
    "This representation is called **one_hot** as it is always a vector of zeros with 1 on the position of the word.\n",
    "\n",
    "Then a “sentence” or a “document” is simply the linear combination of these vectors where the number of the counts of appearance of the words is the coefficient along that dimension. For example:\n",
    "\n",
    "```\n",
    "d3 = \"Apple Orange Orange Apple\" ==>> [2,0,2]\n",
    "d4 = \"Apple Banana Apple Banana\" ==>> [2,2,0]\n",
    "d1 = \"Banana Apple Banana Banana Banana Apple\" ==>> [2,4,0]\n",
    "d2 = \"Banana Orange Banana Banana Orange Banana\" ==>> [0,4,2]\n",
    "d5 = \"Banana Apple Banana Banana Orange Banana\" ==>> [1,4,1]\n",
    "```\n",
    "\n",
    "Since, our toy dataset also has textual features, we'll have to vectorize them. "
   ]
  },
  {
   "cell_type": "code",
   "execution_count": 187,
   "metadata": {
    "id": "I8tlZSkHv-SY"
   },
   "outputs": [],
   "source": [
    "train_corpus = [\n",
    "    'This is the first document.',\n",
    "    'This document is the second document.',\n",
    "    'And this is the third one.',\n",
    "     'Is this the first document?',]\n",
    "test_corpus = ['This is the fourth document.']"
   ]
  },
  {
   "cell_type": "code",
   "execution_count": 188,
   "metadata": {
    "colab": {
     "base_uri": "https://localhost:8080/",
     "height": 118
    },
    "id": "2uqmrtC6uAUY",
    "outputId": "b87b0bb0-93a6-4cb4-b425-c9bc9bcf96d4"
   },
   "outputs": [
    {
     "name": "stdout",
     "output_type": "stream",
     "text": [
      "CountVectorizer(analyzer='word', binary=False, decode_error='strict',\n",
      "                dtype=<class 'numpy.int64'>, encoding='utf-8', input='content',\n",
      "                lowercase=True, max_df=1.0, max_features=None, min_df=1,\n",
      "                ngram_range=(1, 1), preprocessor=None, stop_words=None,\n",
      "                strip_accents=None, token_pattern='(?u)\\\\b\\\\w\\\\w+\\\\b',\n",
      "                tokenizer=None, vocabulary=None)\n"
     ]
    }
   ],
   "source": [
    "from sklearn.feature_extraction.text import CountVectorizer\n",
    "\n",
    "vectorizer = CountVectorizer()\n",
    "print(vectorizer)"
   ]
  },
  {
   "cell_type": "code",
   "execution_count": 189,
   "metadata": {
    "id": "wASD7FiIszgC"
   },
   "outputs": [],
   "source": [
    "vectors_train = vectorizer.fit_transform(train_corpus)\n"
   ]
  },
  {
   "cell_type": "code",
   "execution_count": 190,
   "metadata": {
    "colab": {
     "base_uri": "https://localhost:8080/",
     "height": 34
    },
    "id": "3Qlt76ANygQf",
    "outputId": "f9b09c74-ef74-40a1-f766-e15e9caeced2"
   },
   "outputs": [
    {
     "name": "stdout",
     "output_type": "stream",
     "text": [
      "['and', 'document', 'first', 'is', 'one', 'second', 'the', 'third', 'this']\n"
     ]
    }
   ],
   "source": [
    "print(vectorizer.get_feature_names())"
   ]
  },
  {
   "cell_type": "code",
   "execution_count": 191,
   "metadata": {
    "colab": {
     "base_uri": "https://localhost:8080/",
     "height": 84
    },
    "id": "I5QtAvHxVoEy",
    "outputId": "b9f59764-c2b7-4e8c-f3e0-5faee985020b"
   },
   "outputs": [
    {
     "name": "stdout",
     "output_type": "stream",
     "text": [
      "[[0 1 1 1 0 0 1 0 1]\n",
      " [0 2 0 1 0 1 1 0 1]\n",
      " [1 0 0 1 1 0 1 1 1]\n",
      " [0 1 1 1 0 0 1 0 1]]\n"
     ]
    }
   ],
   "source": [
    "train_corpus = [\n",
    "    'This is the first document.',\n",
    "    'This document is the second document.',\n",
    "    'And this is the third one.',\n",
    "     'Is this the first document?',]\n",
    "\n",
    "print(vectors_train.todense())"
   ]
  },
  {
   "cell_type": "code",
   "execution_count": 192,
   "metadata": {
    "colab": {
     "base_uri": "https://localhost:8080/",
     "height": 370
    },
    "id": "la3F7wSoz5Bj",
    "outputId": "5b87eaac-8191-4cc5-9323-bdbb89e6ee42"
   },
   "outputs": [
    {
     "name": "stdout",
     "output_type": "stream",
     "text": [
      "  (0, 1)\t2\n",
      "  (0, 2)\t2\n",
      "  (0, 6)\t2\n",
      "  (0, 3)\t2\n",
      "  (0, 8)\t2\n",
      "  (1, 5)\t2\n",
      "  (1, 1)\t4\n",
      "  (1, 6)\t2\n",
      "  (1, 3)\t2\n",
      "  (1, 8)\t2\n",
      "  (2, 4)\t2\n",
      "  (2, 7)\t2\n",
      "  (2, 0)\t2\n",
      "  (2, 6)\t2\n",
      "  (2, 3)\t2\n",
      "  (2, 8)\t2\n",
      "  (3, 1)\t2\n",
      "  (3, 2)\t2\n",
      "  (3, 6)\t2\n",
      "  (3, 3)\t2\n",
      "  (3, 8)\t2\n"
     ]
    }
   ],
   "source": [
    "a = vectors_train\n",
    "b = vectors_train\n",
    "print(a+b)"
   ]
  },
  {
   "cell_type": "code",
   "execution_count": 193,
   "metadata": {
    "colab": {
     "base_uri": "https://localhost:8080/",
     "height": 370
    },
    "id": "VBaYkRYhylR2",
    "outputId": "9c4ec2c8-ac12-488a-bdc6-06272bdb2c7e"
   },
   "outputs": [
    {
     "name": "stdout",
     "output_type": "stream",
     "text": [
      "  (0, 8)\t1\n",
      "  (0, 3)\t1\n",
      "  (0, 6)\t1\n",
      "  (0, 2)\t1\n",
      "  (0, 1)\t1\n",
      "  (1, 8)\t1\n",
      "  (1, 3)\t1\n",
      "  (1, 6)\t1\n",
      "  (1, 1)\t2\n",
      "  (1, 5)\t1\n",
      "  (2, 8)\t1\n",
      "  (2, 3)\t1\n",
      "  (2, 6)\t1\n",
      "  (2, 0)\t1\n",
      "  (2, 7)\t1\n",
      "  (2, 4)\t1\n",
      "  (3, 8)\t1\n",
      "  (3, 3)\t1\n",
      "  (3, 6)\t1\n",
      "  (3, 2)\t1\n",
      "  (3, 1)\t1\n"
     ]
    }
   ],
   "source": [
    " print(vectors_train)"
   ]
  },
  {
   "cell_type": "code",
   "execution_count": 194,
   "metadata": {
    "colab": {
     "base_uri": "https://localhost:8080/",
     "height": 34
    },
    "id": "TZasMh-L0ZFV",
    "outputId": "7b23244a-f6af-4869-9700-a7ec393aed52"
   },
   "outputs": [
    {
     "name": "stdout",
     "output_type": "stream",
     "text": [
      "[[0 1 0 1 0 0 1 0 1]]\n"
     ]
    }
   ],
   "source": [
    "# test mode\n",
    "# and we do the same for test data. remember to use the same vectorizer, only transform (why?)\n",
    "test_corpus = ['This is the fourth document.']\n",
    "# ['and', 'document', 'first', 'is', 'one', 'second', 'the', 'third', 'this']\n",
    "vectors_test = vectorizer.transform(test_corpus)\n",
    "\n",
    "print(vectors_test.todense())"
   ]
  },
  {
   "cell_type": "markdown",
   "metadata": {
    "id": "H3-TVho6GQj9"
   },
   "source": [
    "### Stop words\n",
    "\n",
    "In a large text corpus, some words are quite common (e.g. “the”, “a”, “is” in English). These words don't always convery meaningful information. However, if we were to feed the direct count data directly to a classifier those very frequent terms would shadow the frequencies of rarer yet more interesting terms."
   ]
  },
  {
   "cell_type": "code",
   "execution_count": 195,
   "metadata": {
    "colab": {
     "base_uri": "https://localhost:8080/",
     "height": 269
    },
    "id": "OgMhNKdQFLRn",
    "outputId": "97430a46-3a74-4719-c7cb-958b9a4a0fd0"
   },
   "outputs": [
    {
     "name": "stdout",
     "output_type": "stream",
     "text": [
      "CountVectorizer(analyzer='word', binary=False, decode_error='strict',\n",
      "                dtype=<class 'numpy.int64'>, encoding='utf-8', input='content',\n",
      "                lowercase=True, max_df=1.0, max_features=None, min_df=1,\n",
      "                ngram_range=(1, 1), preprocessor=None,\n",
      "                stop_words=frozenset({'a', 'about', 'above', 'across', 'after',\n",
      "                                      'afterwards', 'again', 'against', 'all',\n",
      "                                      'almost', 'alone', 'along', 'already',\n",
      "                                      'also', 'although', 'always', 'am',\n",
      "                                      'among', 'amongst', 'amoungst', 'amount',\n",
      "                                      'an', 'and', 'another', 'any', 'anyhow',\n",
      "                                      'anyone', 'anything', 'anyway',\n",
      "                                      'anywhere', ...}),\n",
      "                strip_accents=None, token_pattern='(?u)\\\\b\\\\w\\\\w+\\\\b',\n",
      "                tokenizer=None, vocabulary=None)\n",
      "['document', 'second']\n"
     ]
    }
   ],
   "source": [
    "from sklearn.feature_extraction import text \n",
    "\n",
    "my_stop_words = text.ENGLISH_STOP_WORDS\n",
    "vectorizer = CountVectorizer(stop_words = my_stop_words)\n",
    "print(vectorizer)\n",
    "vectors_train = vectorizer.fit_transform(train_corpus)\n",
    "print(vectorizer.get_feature_names())"
   ]
  },
  {
   "cell_type": "markdown",
   "metadata": {
    "id": "yZMFwtrS1VTX"
   },
   "source": [
    "**1) Tf–idf term weighting(only for textual features)**\n",
    "\n",
    "\n",
    "\n",
    "In order to re-weight the count features into floating point values suitable for usage by a classifier it is very common to use the tf–idf transform.''.\n",
    "\n",
    "tf means term-frequency while tf–idf means term-frequency times inverse document-frequency:\n",
    "\n",
    "$$\\text{tf-idf} = \\text{tf}(t,d)\\  \\text{X} \\ \\text{idf}(t)$$ \n",
    "  where :\n",
    "- $t$ =  term/token/word \n",
    " \n",
    "- $d$ = document or a paragraph\n",
    "\n",
    "- The $\\text{tf}(t,d)$ is the number of times a token $t$ appears in a document $d$\n",
    "\n",
    "- The idf is calculted as using the following formula:\n",
    "  $$log\\frac{n_{d}}{1+ \\text{df}(d,t)}$$\n",
    "  - where\n",
    "   - $n_{d}$ is the total number of documents\n",
    "   - $\\text{df}(d,t)$ is the number of documents $d$ that contain term $t$ "
   ]
  },
  {
   "cell_type": "code",
   "execution_count": 196,
   "metadata": {
    "colab": {
     "base_uri": "https://localhost:8080/",
     "height": 168
    },
    "id": "Wzbz2u2f0vON",
    "outputId": "296a037b-7226-4188-a825-ce3c6b1b1562"
   },
   "outputs": [
    {
     "name": "stdout",
     "output_type": "stream",
     "text": [
      "(4, 9)\n",
      "[[0.         0.46979139 0.58028582 0.38408524 0.         0.\n",
      "  0.38408524 0.         0.38408524]\n",
      " [0.         0.6876236  0.         0.28108867 0.         0.53864762\n",
      "  0.28108867 0.         0.28108867]\n",
      " [0.51184851 0.         0.         0.26710379 0.51184851 0.\n",
      "  0.26710379 0.51184851 0.26710379]\n",
      " [0.         0.46979139 0.58028582 0.38408524 0.         0.\n",
      "  0.38408524 0.         0.38408524]]\n"
     ]
    }
   ],
   "source": [
    "from sklearn.feature_extraction.text import TfidfVectorizer\n",
    "\n",
    "tf_idf_vectorizer = TfidfVectorizer()\n",
    "vectors_train_idf = tf_idf_vectorizer.fit_transform(train_corpus)\n",
    "\n",
    "print(vectors_train_idf.shape)\n",
    "print(vectors_train_idf.toarray())"
   ]
  },
  {
   "cell_type": "markdown",
   "metadata": {
    "id": "c6jfEdAj4Bws"
   },
   "source": [
    "**2) Normalization**:\n",
    "\n",
    "While not mandatory, normalization usually improves the performance of the learner significantly. It ensures that the learner learns from the data on similar scales across features. There are many ways of normalizing the data.\n",
    "This will also be covered in detail in lecture *Feature Construction and Selection*.\n",
    "\n",
    "For now we'll stick to the default *l2* provided by scikit-learn."
   ]
  },
  {
   "cell_type": "code",
   "execution_count": 197,
   "metadata": {
    "colab": {
     "base_uri": "https://localhost:8080/",
     "height": 84
    },
    "id": "dG4QIeNx3qKu",
    "outputId": "0c31a4e4-1fed-455a-f568-1a1e72bd67e8"
   },
   "outputs": [
    {
     "name": "stdout",
     "output_type": "stream",
     "text": [
      "test vector\n",
      " [[0 1 0 1 0 0 1 0 1]]\n",
      "normalized test vector\n",
      " [[0.  0.5 0.  0.5 0.  0.  0.5 0.  0.5]]\n"
     ]
    }
   ],
   "source": [
    "from sklearn.preprocessing import Normalizer\n",
    "\n",
    "normalizer_train = Normalizer().fit(X=vectors_train)\n",
    "print(\"test vector\\n\", vectors_test.toarray())\n",
    "vectors_train_normalized = normalizer_train.transform(vectors_train)\n",
    "vectors_test_normalized = normalizer_train.transform(vectors_test)\n",
    "print(\"normalized test vector\\n\", vectors_test_normalized.toarray())\n"
   ]
  },
  {
   "cell_type": "markdown",
   "metadata": {
    "id": "_YcnZGeLb_1q"
   },
   "source": [
    "### Other preprocessing approaches\n",
    "\n",
    "Natural Language toolkit (nltk)"
   ]
  },
  {
   "cell_type": "code",
   "execution_count": 198,
   "metadata": {
    "colab": {
     "base_uri": "https://localhost:8080/",
     "height": 202
    },
    "id": "8voWNEJzcsRZ",
    "outputId": "d64e677c-5399-4df7-bbfc-910e10803119"
   },
   "outputs": [
    {
     "name": "stdout",
     "output_type": "stream",
     "text": [
      "Requirement already satisfied: nltk in /usr/local/lib/python3.6/dist-packages (3.2.5)\n",
      "Requirement already satisfied: six in /usr/local/lib/python3.6/dist-packages (from nltk) (1.15.0)\n",
      "[nltk_data] Downloading package punkt to /root/nltk_data...\n",
      "[nltk_data]   Package punkt is already up-to-date!\n",
      "[nltk_data] Downloading package wordnet to /root/nltk_data...\n",
      "[nltk_data]   Package wordnet is already up-to-date!\n",
      "[nltk_data] Downloading package averaged_perceptron_tagger to\n",
      "[nltk_data]     /root/nltk_data...\n",
      "[nltk_data]   Package averaged_perceptron_tagger is already up-to-\n",
      "[nltk_data]       date!\n"
     ]
    },
    {
     "data": {
      "text/plain": [
       "True"
      ]
     },
     "execution_count": 198,
     "metadata": {
      "tags": []
     },
     "output_type": "execute_result"
    }
   ],
   "source": [
    "!pip install nltk\n",
    "import nltk\n",
    "nltk.download('punkt')\n",
    "\n",
    "nltk.download('wordnet')\n",
    "\n",
    "nltk.download('averaged_perceptron_tagger')"
   ]
  },
  {
   "cell_type": "code",
   "execution_count": 199,
   "metadata": {
    "colab": {
     "base_uri": "https://localhost:8080/",
     "height": 34
    },
    "id": "Ie3bNu8DcJhS",
    "outputId": "2e65a345-b4ea-4fd0-a840-07c29faeb401"
   },
   "outputs": [
    {
     "name": "stdout",
     "output_type": "stream",
     "text": [
      "['This', 'is', 'the', 'first', 'document', '.']\n"
     ]
    }
   ],
   "source": [
    "from nltk import word_tokenize \n",
    "\n",
    "tokens = word_tokenize(train_corpus[0])\n",
    "print(tokens)"
   ]
  },
  {
   "cell_type": "markdown",
   "metadata": {
    "id": "E03BlsHNrxoO"
   },
   "source": [
    "### how to remove punctuation"
   ]
  },
  {
   "cell_type": "code",
   "execution_count": 200,
   "metadata": {
    "colab": {
     "base_uri": "https://localhost:8080/",
     "height": 34
    },
    "id": "J59fjjw3r1t8",
    "outputId": "9a1df803-9a3b-4502-8268-fb6b317fb883"
   },
   "outputs": [
    {
     "name": "stdout",
     "output_type": "stream",
     "text": [
      "['He', 'was', 'running', 'and', 'eating', 'at', 'same', 'time', 'He', 'has', 'bad', 'habit', 'of', 'swimming', 'after', 'playing', 'long', 'hours', 'in', 'the', 'Sun']\n"
     ]
    }
   ],
   "source": [
    "import nltk\n",
    "\n",
    "sentence = \"He was running and eating at same time. He has bad habit of swimming after playing long hours in the Sun!\"\n",
    "punctuations=\"?:!.,;\"\n",
    "sentence_words = nltk.word_tokenize(sentence)\n",
    "for word in sentence_words:\n",
    "    if word in punctuations:\n",
    "        sentence_words.remove(word)\n",
    "print(sentence_words)        \n"
   ]
  },
  {
   "cell_type": "markdown",
   "metadata": {
    "id": "iVv-nznombFP"
   },
   "source": [
    "\n",
    "\n",
    "### Stemming\n",
    "\n",
    "Stemming is the process of producing morphological variants of a root/base word. Stemming programs are commonly referred to as stemming algorithms or stemmers. A stemming algorithm reduces the words  “retrieval”, “retrieved”, “retrieves”  to the stem “retriev”.[`here`](https://www.datacamp.com/community/tutorials/stemming-lemmatization-python?utm_source=adwords_ppc&utm_campaignid=898687156&utm_adgroupid=48947256715&utm_device=c&utm_keyword=&utm_matchtype=b&utm_network=g&utm_adpostion=&utm_creative=229765585183&utm_targetid=aud-299261629574:dsa-429603003980&utm_loc_interest_ms=&utm_loc_physical_ms=9061030&gclid=CjwKCAjwlbr8BRA0EiwAnt4MThJBjV3nrDo6vWZczvco6mayt17TZCxSsQTos1S7vWl97CIrxaJgOBoC5aAQAvD_BwE)\n"
   ]
  },
  {
   "cell_type": "code",
   "execution_count": 201,
   "metadata": {
    "colab": {
     "base_uri": "https://localhost:8080/",
     "height": 252
    },
    "id": "ipXXBga3z7mj",
    "outputId": "6a4ef7cc-70fa-46bd-f8b5-abfb73a0fcff"
   },
   "outputs": [
    {
     "data": {
      "text/plain": [
       "['are',\n",
       " 'beauti',\n",
       " 'car',\n",
       " 'connect',\n",
       " 'footbal',\n",
       " 'he',\n",
       " 'is',\n",
       " 'my',\n",
       " 'play',\n",
       " 'retriev',\n",
       " 'she',\n",
       " 'student',\n",
       " 'they',\n",
       " 'wa']"
      ]
     },
     "execution_count": 201,
     "metadata": {
      "tags": []
     },
     "output_type": "execute_result"
    }
   ],
   "source": [
    "from nltk.stem import PorterStemmer\n",
    "\n",
    "\n",
    "\n",
    "class StemTokenizer:\n",
    "     def __init__(self):\n",
    "       self.wnl =PorterStemmer()\n",
    "     def __call__(self, doc):\n",
    "       return [self.wnl.stem(t) for t in word_tokenize(doc) if t.isalpha()]\n",
    "\n",
    "new_dset = ['My cars are beautiful', \"playing\", \"he plays football\",\"she is student\",'was', \"they are students\",\"connect\", \"connection\",'retrieval', 'retrieved', 'retrieves']\n",
    "vect = CountVectorizer(tokenizer=StemTokenizer())\n",
    "vect.fit_transform(new_dset)\n",
    "vect.get_feature_names()"
   ]
  },
  {
   "cell_type": "markdown",
   "metadata": {
    "id": "Agn5c9oj1aKT"
   },
   "source": [
    "###Lemmatization\n",
    "\n",
    "![image.png](data:image/png;base64,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)\n",
    "![image.png](data:image/png;base64,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)"
   ]
  },
  {
   "cell_type": "code",
   "execution_count": 202,
   "metadata": {
    "id": "wTLYguM8eF-7"
   },
   "outputs": [],
   "source": [
    "from nltk import word_tokenize          \n",
    "from nltk.stem import WordNetLemmatizer \n",
    "class LemmaTokenizer:\n",
    "     def __init__(self):\n",
    "       self.wnl = WordNetLemmatizer()\n",
    "     def __call__(self, doc):\n",
    "       return [self.wnl.lemmatize(t,pos =\"v\") for t in word_tokenize(doc) if t.isalpha()]\n"
   ]
  },
  {
   "cell_type": "code",
   "execution_count": 203,
   "metadata": {
    "colab": {
     "base_uri": "https://localhost:8080/",
     "height": 269
    },
    "id": "qcCvpbzkiu1B",
    "outputId": "bb77f93a-b164-4622-d137-4501e02f16b1"
   },
   "outputs": [
    {
     "data": {
      "text/plain": [
       "['be',\n",
       " 'beautiful',\n",
       " 'cars',\n",
       " 'connect',\n",
       " 'connection',\n",
       " 'football',\n",
       " 'he',\n",
       " 'my',\n",
       " 'play',\n",
       " 'retrieval',\n",
       " 'retrieve',\n",
       " 'she',\n",
       " 'student',\n",
       " 'students',\n",
       " 'they']"
      ]
     },
     "execution_count": 203,
     "metadata": {
      "tags": []
     },
     "output_type": "execute_result"
    }
   ],
   "source": [
    "# new_dset = ['My cars are beautiful', \"playing\", \"he plays football\",\"she is student\",\"was\", \"they are students\",\"connect\", \"connection\",'retrieval', 'retrieved', 'retrieves']\n",
    "vect = CountVectorizer(tokenizer=LemmaTokenizer())\n",
    "vect.fit_transform(new_dset)\n",
    "vect.get_feature_names()\n"
   ]
  },
  {
   "cell_type": "code",
   "execution_count": 204,
   "metadata": {
    "colab": {
     "base_uri": "https://localhost:8080/",
     "height": 34
    },
    "id": "v8TbxN7UlJyY",
    "outputId": "293b9120-a5ac-470b-93ac-a7f501c233e3"
   },
   "outputs": [
    {
     "name": "stdout",
     "output_type": "stream",
     "text": [
      "(11, 19)\n"
     ]
    }
   ],
   "source": [
    "vec = CountVectorizer()\n",
    "a = vec.fit_transform(new_dset)\n",
    "vec.get_feature_names()\n",
    "print(a.shape)"
   ]
  },
  {
   "cell_type": "code",
   "execution_count": 205,
   "metadata": {
    "colab": {
     "base_uri": "https://localhost:8080/",
     "height": 50
    },
    "id": "UKO6fKhRxroG",
    "outputId": "a6b7ddb9-2455-4e09-f1cb-6a5e562e0251"
   },
   "outputs": [
    {
     "name": "stdout",
     "output_type": "stream",
     "text": [
      "foot\n",
      "['The', 'strip', 'bat', 'be', 'hang', 'on', 'their', 'foot', 'for', 'best']\n"
     ]
    }
   ],
   "source": [
    "from nltk.corpus import wordnet\n",
    "\n",
    "def get_wordnet_pos(word):\n",
    "    \"\"\"Map POS tag to first character lemmatize() accepts\"\"\"\n",
    "    tag = nltk.pos_tag([word])[0][1][0].upper()\n",
    "    tag_dict = {\"J\": wordnet.ADJ,\n",
    "                \"N\": wordnet.NOUN,\n",
    "                \"V\": wordnet.VERB,\n",
    "                \"R\": wordnet.ADV}\n",
    "    return tag_dict.get(tag, wordnet.NOUN)\n",
    "\n",
    "\n",
    "# 1. Init Lemmatizer\n",
    "lemmatizer = WordNetLemmatizer()\n",
    "\n",
    "# 2. Lemmatize Single Word with the appropriate POS tag\n",
    "word = 'feet'\n",
    "print(lemmatizer.lemmatize(word, get_wordnet_pos(word)))\n",
    "\n",
    "# 3. Lemmatize a Sentence with the appropriate POS tag\n",
    "sentence = \"The striped bats are hanging on their feet for best\"\n",
    "print([lemmatizer.lemmatize(w, get_wordnet_pos(w)) for w in nltk.word_tokenize(sentence)])\n"
   ]
  },
  {
   "cell_type": "code",
   "execution_count": 206,
   "metadata": {
    "id": "ExVvWQbkydsr"
   },
   "outputs": [],
   "source": [
    "class New_LemmaTokenizer:\n",
    "     def __init__(self):\n",
    "       self.wnl = WordNetLemmatizer()\n",
    "     def __call__(self, doc):\n",
    "       return [self.wnl.lemmatize(t,pos =get_wordnet_pos(t)) for t in word_tokenize(doc) if t.isalpha()]"
   ]
  },
  {
   "cell_type": "code",
   "execution_count": 207,
   "metadata": {
    "colab": {
     "base_uri": "https://localhost:8080/",
     "height": 34
    },
    "id": "Ham7SCmbyt_z",
    "outputId": "afea381c-586f-4c39-eead-340e349de687"
   },
   "outputs": [
    {
     "name": "stdout",
     "output_type": "stream",
     "text": [
      "(9, 21)\n"
     ]
    }
   ],
   "source": [
    "new_dset = ['My cars are beautiful', \"playing\", \"he plays football\",\"she is student\",\"was\", \"they are students\",\"connect\", \"connection\",\"The striped bats are hanging on their feet for best\"]\n",
    "vect = CountVectorizer(tokenizer=New_LemmaTokenizer())\n",
    "a = vect.fit_transform(new_dset)\n",
    "vect.get_feature_names()\n",
    "print(a.shape)"
   ]
  }
 ],
 "metadata": {
  "colab": {
   "collapsed_sections": [],
   "name": "Tutorial 4.ipynb",
   "provenance": []
  },
  "kernelspec": {
   "display_name": "Python 3",
   "language": "python",
   "name": "python3"
  },
  "language_info": {
   "codemirror_mode": {
    "name": "ipython",
    "version": 3
   },
   "file_extension": ".py",
   "mimetype": "text/x-python",
   "name": "python",
   "nbconvert_exporter": "python",
   "pygments_lexer": "ipython3",
   "version": "3.8.3"
  }
 },
 "nbformat": 4,
 "nbformat_minor": 1
}
